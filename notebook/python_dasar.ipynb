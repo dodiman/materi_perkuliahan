{
 "cells": [
  {
   "cell_type": "code",
   "execution_count": 1,
   "id": "3005ce75",
   "metadata": {},
   "outputs": [],
   "source": [
    "import os\n",
    "os.environ['DJANGO_ALLOW_ASYNC_UNSAFE'] = \"true\""
   ]
  },
  {
   "cell_type": "code",
   "execution_count": 11,
   "id": "d0c2aab6",
   "metadata": {},
   "outputs": [],
   "source": [
    "from sklearn.metrics import precision_score\n",
    "from sklearn.metrics import accuracy_score\n",
    "from sklearn.metrics import confusion_matrix\n",
    "from sklearn.metrics import classification_report\n",
    "from sklearn.metrics import *"
   ]
  },
  {
   "cell_type": "code",
   "execution_count": 2,
   "id": "4d991ea4",
   "metadata": {},
   "outputs": [],
   "source": [
    "from django.http import JsonResponse, HttpResponse, HttpResponseBadRequest\n",
    "from myapi import serializers as myserializer\n",
    "from django.db.models import Q          # untuk filter multi parameter"
   ]
  },
  {
   "cell_type": "code",
   "execution_count": 3,
   "id": "444363f4",
   "metadata": {},
   "outputs": [],
   "source": [
    "from myapi.models import *\n",
    "from myapi.modulku import *\n",
    "from myapi.serializers import *\n",
    "from myapi.forms import *"
   ]
  },
  {
   "cell_type": "code",
   "execution_count": 4,
   "id": "629a080e",
   "metadata": {},
   "outputs": [],
   "source": [
    "from django.core.exceptions import ObjectDoesNotExist, ValidationError, FieldDoesNotExist"
   ]
  },
  {
   "cell_type": "code",
   "execution_count": null,
   "id": "58470a2f",
   "metadata": {},
   "outputs": [],
   "source": []
  },
  {
   "cell_type": "markdown",
   "id": "bcfcf39d",
   "metadata": {},
   "source": [
    "<center><h2 style=\"color: #0000FF; font-size: 40px\">Halaman Simulasi</h2></center>"
   ]
  },
  {
   "cell_type": "code",
   "execution_count": 6,
   "id": "2f90d028",
   "metadata": {},
   "outputs": [],
   "source": [
    "mapel = Mapel.objects.all()"
   ]
  },
  {
   "cell_type": "code",
   "execution_count": 9,
   "id": "f168f29e",
   "metadata": {},
   "outputs": [
    {
     "name": "stdout",
     "output_type": "stream",
     "text": [
      "1\n"
     ]
    }
   ],
   "source": [
    "for value in mapel:\n",
    "    print(value.id)"
   ]
  },
  {
   "cell_type": "code",
   "execution_count": 10,
   "id": "71c753ea",
   "metadata": {},
   "outputs": [],
   "source": [
    "arsip = Arsip.objects.all()"
   ]
  },
  {
   "cell_type": "code",
   "execution_count": 13,
   "id": "26a61f15",
   "metadata": {},
   "outputs": [],
   "source": [
    "mapel_satu = Mapel.objects.get(pk=1)"
   ]
  },
  {
   "cell_type": "code",
   "execution_count": 15,
   "id": "4cd27723",
   "metadata": {},
   "outputs": [],
   "source": [
    "mapel_detail = mapel_satu.arsip_set.all()"
   ]
  },
  {
   "cell_type": "code",
   "execution_count": 18,
   "id": "8a7e1c8a",
   "metadata": {},
   "outputs": [
    {
     "ename": "AttributeError",
     "evalue": "'Arsip' object has no attribute 'myfile'",
     "output_type": "error",
     "traceback": [
      "\u001b[1;31m---------------------------------------------------------------------------\u001b[0m",
      "\u001b[1;31mAttributeError\u001b[0m                            Traceback (most recent call last)",
      "\u001b[1;32m<ipython-input-18-e5425f0337e0>\u001b[0m in \u001b[0;36m<module>\u001b[1;34m\u001b[0m\n\u001b[0;32m      1\u001b[0m \u001b[1;32mfor\u001b[0m \u001b[0mvalue\u001b[0m \u001b[1;32min\u001b[0m \u001b[0mmapel_detail\u001b[0m\u001b[1;33m:\u001b[0m\u001b[1;33m\u001b[0m\u001b[1;33m\u001b[0m\u001b[0m\n\u001b[1;32m----> 2\u001b[1;33m     \u001b[0mprint\u001b[0m\u001b[1;33m(\u001b[0m\u001b[0mvalue\u001b[0m\u001b[1;33m.\u001b[0m\u001b[0mmyfile\u001b[0m\u001b[1;33m)\u001b[0m\u001b[1;33m\u001b[0m\u001b[1;33m\u001b[0m\u001b[0m\n\u001b[0m",
      "\u001b[1;31mAttributeError\u001b[0m: 'Arsip' object has no attribute 'myfile'"
     ]
    }
   ],
   "source": [
    "for value in mapel_detail:\n",
    "    print(value.ke)"
   ]
  },
  {
   "cell_type": "code",
   "execution_count": 12,
   "id": "5fc8f17f",
   "metadata": {},
   "outputs": [
    {
     "name": "stdout",
     "output_type": "stream",
     "text": [
      "113\n"
     ]
    }
   ],
   "source": [
    "for value in arsip:\n",
    "    print(value.mapel)"
   ]
  },
  {
   "cell_type": "markdown",
   "id": "74b9cafb",
   "metadata": {},
   "source": [
    "<center><h2 style=\"color: #FF0000; font-size: 40px\">==== end =======</h2></center>"
   ]
  },
  {
   "cell_type": "code",
   "execution_count": null,
   "id": "336a9c72",
   "metadata": {},
   "outputs": [],
   "source": []
  },
  {
   "cell_type": "markdown",
   "id": "63f5970f",
   "metadata": {},
   "source": [
    "<center><h2 style=\"color: #0000FF; font-size: 40px\">Halaman Data</h2></center>"
   ]
  },
  {
   "cell_type": "code",
   "execution_count": 24,
   "id": "f5a17a7c",
   "metadata": {},
   "outputs": [],
   "source": [
    "# page = request.GET.get('page', 1)\n",
    "# alamat = request.build_absolute_uri()\n",
    "\n",
    "page = 3\n",
    "alamat = 'mantap'"
   ]
  },
  {
   "cell_type": "code",
   "execution_count": 25,
   "id": "6d1ee8d9",
   "metadata": {},
   "outputs": [
    {
     "data": {
      "text/plain": [
       "b'{\"count\": 1, \"current\": 3, \"previous_page\": null, \"next_page\": false, \"previous\": \"0\", \"next\": false, \"total_data\": 3, \"data\": [{\"id\": 2, \"nama\": \"Ayu\", \"alamat\": \"Dongkala\", \"status\": \"Anggota\"}, {\"id\": 3, \"nama\": \"Mantap\", \"alamat\": \"PASARWAJO\", \"status\": \"ANGGOTA\"}, {\"id\": 9, \"nama\": \"Di buat di postman\", \"alamat\": \"Saragi\", \"status\": \"anggota\"}], \"alamat\": \"mantap\"}'"
      ]
     },
     "execution_count": 25,
     "metadata": {},
     "output_type": "execute_result"
    }
   ],
   "source": [
    "anggota = Anggota.objects.all()\n",
    "anggota_serializer = AnggotaSerializer(anggota, many=True)\n",
    "\n",
    "# paginasinya\n",
    "anggota_paginasi = paginasinya(anggota_serializer.data, page, 10, alamat=alamat)\n",
    "\n",
    "# return JsonResponse(anggota_paginasi, safe=False)\n",
    "\n",
    "# 2 code dibawah ini jagnan dicopy di views.py\n",
    "res = JsonResponse(anggota_paginasi, safe=False)\n",
    "res.content"
   ]
  },
  {
   "cell_type": "code",
   "execution_count": 12,
   "id": "c7283115",
   "metadata": {},
   "outputs": [],
   "source": []
  },
  {
   "cell_type": "code",
   "execution_count": null,
   "id": "3531c2c3",
   "metadata": {},
   "outputs": [],
   "source": []
  },
  {
   "cell_type": "code",
   "execution_count": null,
   "id": "96439b9e",
   "metadata": {},
   "outputs": [],
   "source": []
  },
  {
   "cell_type": "markdown",
   "id": "616f84c4",
   "metadata": {},
   "source": [
    "<center><h2 style=\"color: #FF0000; font-size: 40px\">end Halaman Data</h2></center>"
   ]
  },
  {
   "cell_type": "markdown",
   "id": "1a473ecb",
   "metadata": {},
   "source": [
    "<center><h2 style=\"color: #0000FF; font-size: 40px\">halaman detail</h2></center>"
   ]
  },
  {
   "cell_type": "code",
   "execution_count": 13,
   "id": "127cdf77",
   "metadata": {},
   "outputs": [],
   "source": [
    "# detail\n",
    "id =2"
   ]
  },
  {
   "cell_type": "code",
   "execution_count": 15,
   "id": "bcd1896a",
   "metadata": {},
   "outputs": [
    {
     "data": {
      "text/plain": [
       "b'{\"anggota\": {\"id\": 2, \"nama\": \"Ayu\", \"alamat\": \"Dongkala\", \"status\": \"Anggota\"}, \"profile\": {\"id\": 17, \"keterangan\": \"ini keterangan yang di rubah di postman id 2\", \"selfi\": null, \"ktp\": null, \"diri\": null, \"anggota\": 2}}'"
      ]
     },
     "execution_count": 15,
     "metadata": {},
     "output_type": "execute_result"
    }
   ],
   "source": [
    "anggotaDetail = Anggota.objects.get(pk=id)\n",
    "anggota_serializer = AnggotaSerializer(anggotaDetail)\n",
    "\n",
    "try:\n",
    "    profile_anggota = anggotaDetail.profile\n",
    "    foto_anggota = anggotaDetail.foto_set.all()   \n",
    "    profile_serializer = FotoSerializer(profile_anggota)\n",
    "    \n",
    "    context = {\n",
    "        \"anggota\": anggota_serializer.data,\n",
    "        \"profile\": profile_serializer.data\n",
    "    }\n",
    "except ObjectDoesNotExist:\n",
    "    profile_anggota = {\n",
    "        \"keterangan\" : \"\",\n",
    "        \"selfi\" : \"\",\n",
    "        \"ktp\" : \"\",\n",
    "        \"diri\" : \"\",\n",
    "        \"anggota\" : None,\n",
    "        \"id\": None,\n",
    "    }\n",
    "    \n",
    "    context = {\n",
    "        \"anggota\": anggota_serializer.data,\n",
    "        \"profile\": profile_anggota\n",
    "    }\n",
    "    \n",
    "# return JsonResponse(context)      # tanpa paginas\n",
    "    \n",
    "# 2 code di bawah ini dicomment ketika dipaste di views.py\n",
    "res = JsonResponse(context)\n",
    "res.content"
   ]
  },
  {
   "cell_type": "code",
   "execution_count": null,
   "id": "657ff9e7",
   "metadata": {},
   "outputs": [],
   "source": []
  },
  {
   "cell_type": "markdown",
   "id": "40a16c00",
   "metadata": {},
   "source": [
    "<center><h2 style=\"color: #FF0000; font-size: 40px\">end halaman detail</h2></center>"
   ]
  },
  {
   "cell_type": "markdown",
   "id": "4f04de35",
   "metadata": {},
   "source": [
    "<center><h2 style=\"font-size: 40px; color: #0000FF\">Post Data</h2></center>"
   ]
  },
  {
   "cell_type": "markdown",
   "id": "6a62dfc4",
   "metadata": {},
   "source": [
    "<h2>======================= simpan data baru ==================================</h2>"
   ]
  },
  {
   "cell_type": "code",
   "execution_count": 41,
   "id": "00a48426",
   "metadata": {},
   "outputs": [],
   "source": [
    "# if method.request == 'POST':\n",
    "data_post = {\n",
    "    \"nama\": \"Kurnia\",\n",
    "    \"alamat\": \"KOMBELI\",\n",
    "    \"status\": \"ANGGOTA\"\n",
    "}"
   ]
  },
  {
   "cell_type": "code",
   "execution_count": 42,
   "id": "1b699bc8",
   "metadata": {},
   "outputs": [
    {
     "data": {
      "text/plain": [
       "True"
      ]
     },
     "execution_count": 42,
     "metadata": {},
     "output_type": "execute_result"
    }
   ],
   "source": [
    "anggota_form = AnggotaForm(data_post or None)\n",
    "anggota_form.is_valid()"
   ]
  },
  {
   "cell_type": "code",
   "execution_count": 43,
   "id": "0f5f4441",
   "metadata": {},
   "outputs": [
    {
     "data": {
      "text/plain": [
       "<Anggota: Kurnia>"
      ]
     },
     "execution_count": 43,
     "metadata": {},
     "output_type": "execute_result"
    }
   ],
   "source": [
    "# simapan data\n",
    "anggota_form.save()"
   ]
  },
  {
   "cell_type": "code",
   "execution_count": 30,
   "id": "107609ed",
   "metadata": {},
   "outputs": [],
   "source": [
    "# ini untuk mengecek error\n",
    "# anggota_form.errors"
   ]
  },
  {
   "cell_type": "markdown",
   "id": "ee7bf03e",
   "metadata": {},
   "source": [
    "<h2>======================= update data yang ada ==============================</h2>"
   ]
  },
  {
   "cell_type": "code",
   "execution_count": 57,
   "id": "8aff01dc",
   "metadata": {},
   "outputs": [],
   "source": [
    "data_profile = {\n",
    "    \"keterangan\": \"ini adalah id 3\",\n",
    "    \"selfi\": None,\n",
    "    \"diri\": None,\n",
    "    \"ktp\": None,\n",
    "    \"anggota\": 3 \n",
    "}"
   ]
  },
  {
   "cell_type": "code",
   "execution_count": 46,
   "id": "02765ded",
   "metadata": {},
   "outputs": [],
   "source": [
    "id = 5"
   ]
  },
  {
   "cell_type": "code",
   "execution_count": 48,
   "id": "f1bd1b19",
   "metadata": {},
   "outputs": [],
   "source": [
    "profile_anggota = Profile.objects.get(pk=id)\n",
    "form_update_profile = ProfileForm(data_profile or None, instance=profile_anggota)"
   ]
  },
  {
   "cell_type": "code",
   "execution_count": 49,
   "id": "31ea19d4",
   "metadata": {},
   "outputs": [
    {
     "data": {
      "text/plain": [
       "True"
      ]
     },
     "execution_count": 49,
     "metadata": {},
     "output_type": "execute_result"
    }
   ],
   "source": [
    "# untuk mengecek apakah sesuai atau tidak\n",
    "form_update_profile.is_valid()"
   ]
  },
  {
   "cell_type": "code",
   "execution_count": 28,
   "id": "4f03d838",
   "metadata": {},
   "outputs": [],
   "source": [
    "# untuk mengecek ada error atau tidak\n",
    "# form_update_profile.errors"
   ]
  },
  {
   "cell_type": "code",
   "execution_count": 50,
   "id": "125a9069",
   "metadata": {},
   "outputs": [
    {
     "data": {
      "text/plain": [
       "<Profile: Profile object (5)>"
      ]
     },
     "execution_count": 50,
     "metadata": {},
     "output_type": "execute_result"
    }
   ],
   "source": [
    "form_update_profile.save()"
   ]
  },
  {
   "cell_type": "code",
   "execution_count": 13,
   "id": "c0f2ef53",
   "metadata": {},
   "outputs": [
    {
     "data": {
      "text/plain": [
       "'=============================================================================================================='"
      ]
     },
     "execution_count": 13,
     "metadata": {},
     "output_type": "execute_result"
    }
   ],
   "source": [
    "'''=============================== modifikasi sebelum simpan ======================================================'''\n",
    "modifikasi = form_update_profile.save(commit=False)\n",
    "modifikasi.anggota_id = 3\n",
    "modifikasi.keterangan = \"oke dirubah lah sudah berhasil dan bagus'\"\n",
    "# modifikasi.anggota =3\n",
    "modifikasi.ktp = None\n",
    "'''=============================================================================================================='''"
   ]
  },
  {
   "cell_type": "code",
   "execution_count": 14,
   "id": "57c7baca",
   "metadata": {},
   "outputs": [
    {
     "data": {
      "text/plain": [
       "<Profile: Profile object (2)>"
      ]
     },
     "execution_count": 14,
     "metadata": {},
     "output_type": "execute_result"
    }
   ],
   "source": [
    "form_update_profile.save()"
   ]
  },
  {
   "cell_type": "code",
   "execution_count": 21,
   "id": "32dcbbbf",
   "metadata": {},
   "outputs": [],
   "source": []
  },
  {
   "cell_type": "code",
   "execution_count": 22,
   "id": "d6dd6e98",
   "metadata": {},
   "outputs": [
    {
     "name": "stdout",
     "output_type": "stream",
     "text": [
      "save\n"
     ]
    },
    {
     "data": {
      "text/plain": [
       "'====================================================================================================================='"
      ]
     },
     "execution_count": 22,
     "metadata": {},
     "output_type": "execute_result"
    }
   ],
   "source": [
    "data_profile = {\n",
    "    \"keterangan\": \"ini adalah id dirubajfdfjdsfjsdfjsdfjsdfj3\",\n",
    "    \"selfi\": None,\n",
    "    \"diri\": None,\n",
    "    \"ktp\": None,\n",
    "    \"anggota\": 3\n",
    "}\n",
    "\n",
    "'''================================= update data relasi =================================================================='''\n",
    "id = 3\n",
    "d_anggota = Anggota.objects.get(pk=id)\n",
    "d_profile = False\n",
    "try:\n",
    "    d_profile = Profile.objects.get(pk=d_anggota.profile.id)\n",
    "    proses_simpan = ProfileForm(data_profile, instance=d_profile)\n",
    "    if proses_simpan.is_valid():\n",
    "        proses_simpan.save(commit=False)\n",
    "        proses_simpan.anggota = id\n",
    "        proses_simpan.save()\n",
    "        print('save')\n",
    "except Profile.DoesNotExist:\n",
    "    proses_simpan = ProfileForm(data_profile)\n",
    "    if proses_simpan.is_valid():\n",
    "        proses_simpan.save(commit=False)\n",
    "        proses_simpan.anggota = id\n",
    "        proses_simpan.save()\n",
    "        print('buat baru')\n",
    "'''====================================================================================================================='''"
   ]
  },
  {
   "cell_type": "markdown",
   "id": "e573cac5",
   "metadata": {},
   "source": [
    "<h2>======================= delete data yang ada ==============================</h2>"
   ]
  },
  {
   "cell_type": "code",
   "execution_count": 44,
   "id": "7c5b42ea",
   "metadata": {},
   "outputs": [
    {
     "data": {
      "text/plain": [
       "<QuerySet [{'id': 1, 'nama': 'Bambang', 'alamat': 'Jakarta', 'status': 'Anggota'}, {'id': 2, 'nama': 'Ayu', 'alamat': 'Dongkala', 'status': 'Anggota'}, {'id': 3, 'nama': 'Mantap', 'alamat': 'PASARWAJO', 'status': 'ANGGOTA'}, {'id': 4, 'nama': 'Kumbang', 'alamat': 'Takimpo', 'status': 'Anggota'}, {'id': 5, 'nama': 'nama Jupyter', 'alamat': 'KOMBELI', 'status': 'ANGGOTA'}, {'id': 7, 'nama': 'Kurnia', 'alamat': 'KOMBELI', 'status': 'ANGGOTA'}]>"
      ]
     },
     "execution_count": 44,
     "metadata": {},
     "output_type": "execute_result"
    }
   ],
   "source": [
    "data_anggota = Anggota.objects.all()\n",
    "data_anggota.values()"
   ]
  },
  {
   "cell_type": "code",
   "execution_count": 45,
   "id": "429d44ee",
   "metadata": {},
   "outputs": [
    {
     "data": {
      "text/plain": [
       "<QuerySet [{'id': 1, 'keterangan': 'update keterangan yang id satu dan mantap jiwa', 'selfi': '', 'ktp': '', 'diri': '', 'anggota_id': 2}, {'id': 2, 'keterangan': \"oke dirubah lah sudah berhasil dan bagus'\", 'selfi': '', 'ktp': '', 'diri': '', 'anggota_id': 3}, {'id': 3, 'keterangan': 'telah di ubah', 'selfi': '', 'ktp': '', 'diri': '', 'anggota_id': 1}, {'id': 5, 'keterangan': None, 'selfi': '', 'ktp': '', 'diri': '', 'anggota_id': 7}]>"
      ]
     },
     "execution_count": 45,
     "metadata": {},
     "output_type": "execute_result"
    }
   ],
   "source": [
    "profile_anggota.values()"
   ]
  },
  {
   "cell_type": "code",
   "execution_count": 35,
   "id": "70ebfcb3",
   "metadata": {},
   "outputs": [],
   "source": [
    "# inputan\n",
    "pk = 6"
   ]
  },
  {
   "cell_type": "code",
   "execution_count": 37,
   "id": "b2846979",
   "metadata": {},
   "outputs": [
    {
     "data": {
      "text/plain": [
       "<Anggota: Kurnia>"
      ]
     },
     "execution_count": 37,
     "metadata": {},
     "output_type": "execute_result"
    }
   ],
   "source": [
    "data_anggota_hapus = Anggota.objects.get(id=pk)\n",
    "data_anggota_hapus"
   ]
  },
  {
   "cell_type": "code",
   "execution_count": 38,
   "id": "7967e4c7",
   "metadata": {},
   "outputs": [
    {
     "data": {
      "text/plain": [
       "(2, {'myapi.Profile': 1, 'myapi.Anggota': 1})"
      ]
     },
     "execution_count": 38,
     "metadata": {},
     "output_type": "execute_result"
    }
   ],
   "source": [
    "# preses menghapus\n",
    "data_anggota_hapus.delete()"
   ]
  },
  {
   "cell_type": "code",
   "execution_count": null,
   "id": "56a96ab1",
   "metadata": {},
   "outputs": [],
   "source": [
    "''' \n",
    "pengkondisian \n",
    "\n",
    "kondisi = True\n",
    "if kondisi:\n",
    "    return JsonResponse({\"pesan\": \"sukses hapus\"}, status=200)\n",
    "\n",
    "return JsonResponse({\"pesan\": \"gagal hapus\"}, status=400)\n",
    "'''\n",
    "\n"
   ]
  },
  {
   "cell_type": "markdown",
   "id": "1fe706cb",
   "metadata": {},
   "source": [
    "<h2 style=\"color: #0000ff;\">delete multiple data selected</h2>"
   ]
  },
  {
   "cell_type": "raw",
   "id": "3e65bbce",
   "metadata": {},
   "source": [
    "anggota_id = [1, 7]\n",
    "for value in anggota_id:\n",
    "    anggotas = Anggota.objects.get(pk=value)\n",
    "    anggotas.delete()"
   ]
  },
  {
   "cell_type": "code",
   "execution_count": 113,
   "id": "d76e70cd",
   "metadata": {
    "collapsed": true
   },
   "outputs": [
    {
     "data": {
      "text/plain": [
       "\"\\n\\nif request.method == 'POST':\\n    anggota_id = request.POST.getlist('id[]')\\n    for value in data_id:\\n        anggota = Anggota.objects.get(id=value)\\n        anggota.delete()\\n    \\n    return redirect('')   # diarahkan kembali ke halaman data tampil anggota\\n\""
      ]
     },
     "execution_count": 113,
     "metadata": {},
     "output_type": "execute_result"
    }
   ],
   "source": [
    "# delete multiple\n",
    "'''\n",
    "\n",
    "if request.method == 'POST':\n",
    "    anggota_id = request.POST.getlist('id[]')\n",
    "    for value in anggota_id:\n",
    "        anggota = Anggota.objects.get(id=value)\n",
    "        anggota.delete()\n",
    "    \n",
    "    return redirect('')   # diarahkan kembali ke halaman data tampil anggota\n",
    "'''"
   ]
  },
  {
   "cell_type": "code",
   "execution_count": null,
   "id": "0d76d195",
   "metadata": {},
   "outputs": [],
   "source": []
  },
  {
   "cell_type": "code",
   "execution_count": null,
   "id": "91804554",
   "metadata": {},
   "outputs": [],
   "source": []
  },
  {
   "cell_type": "code",
   "execution_count": null,
   "id": "eef532d0",
   "metadata": {},
   "outputs": [],
   "source": []
  },
  {
   "cell_type": "markdown",
   "id": "12f70f68",
   "metadata": {},
   "source": [
    "<h2>=========================== Filter Data ==================================</h2>"
   ]
  },
  {
   "cell_type": "code",
   "execution_count": 93,
   "id": "e2ed1a8e",
   "metadata": {},
   "outputs": [],
   "source": [
    "katakunci = \"kombb\""
   ]
  },
  {
   "cell_type": "code",
   "execution_count": 94,
   "id": "feab593a",
   "metadata": {},
   "outputs": [],
   "source": [
    "filter_data_anggota = Anggota.objects.filter(Q(nama__contains=katakunci) | Q(alamat__contains=katakunci))"
   ]
  },
  {
   "cell_type": "code",
   "execution_count": 95,
   "id": "838bd6c4",
   "metadata": {},
   "outputs": [
    {
     "data": {
      "text/plain": [
       "b'{\"count\": 1, \"current\": 3, \"previous_page\": null, \"next_page\": false, \"previous\": \"0\", \"next\": false, \"total_data\": 0, \"data\": [], \"alamat\": \"mantap\"}'"
      ]
     },
     "execution_count": 95,
     "metadata": {},
     "output_type": "execute_result"
    }
   ],
   "source": [
    "hasilcari_serializer = AnggotaSerializer(filter_data_anggota, many=True)\n",
    "\n",
    "# paginasinya\n",
    "'''\n",
    "page = request.GET.get('page', 1)\n",
    "alamat = request.build_absolute_uri()\n",
    "'''\n",
    "\n",
    "page = 3\n",
    "alamat = 'mantap'\n",
    "\n",
    "anggota_paginasi = paginasinya(hasilcari_serializer.data, page, 10, alamat=alamat)\n",
    "\n",
    "# return JsonResponse(anggota_paginasi, safe=False)\n",
    "\n",
    "# 2 code dibawah ini jagnan dicopy di views.py\n",
    "hasilcari = JsonResponse(anggota_paginasi, safe=False)\n",
    "hasilcari.content"
   ]
  },
  {
   "cell_type": "code",
   "execution_count": null,
   "id": "94c7d00b",
   "metadata": {},
   "outputs": [],
   "source": []
  },
  {
   "cell_type": "markdown",
   "id": "e92336aa",
   "metadata": {},
   "source": [
    "<h2 style=\"color: #ff0000\"><center>End Post</center></h2>"
   ]
  },
  {
   "cell_type": "code",
   "execution_count": null,
   "id": "28935431",
   "metadata": {},
   "outputs": [],
   "source": []
  },
  {
   "cell_type": "markdown",
   "id": "33783e90",
   "metadata": {},
   "source": [
    "<h2 style=\"color: #0000ff\"><center>queryset (request) post atau get </center></h2>"
   ]
  },
  {
   "cell_type": "code",
   "execution_count": 1,
   "id": "0d790ca0",
   "metadata": {},
   "outputs": [],
   "source": [
    "from django.http import QueryDict"
   ]
  },
  {
   "cell_type": "code",
   "execution_count": null,
   "id": "b5d5a983",
   "metadata": {},
   "outputs": [],
   "source": [
    "<QueryDict: {'id[0]': ['21'], 'id[1]': ['18'], 'id[2]': ['19'], 'id[3]': ['16']}>"
   ]
  },
  {
   "cell_type": "code",
   "execution_count": 6,
   "id": "c8f67d01",
   "metadata": {},
   "outputs": [],
   "source": [
    "def query(x):\n",
    "    query_dictionary = QueryDict('', mutable=True)\n",
    "    query_dictionary.update(x)\n",
    "    return query_dictionary"
   ]
  },
  {
   "cell_type": "code",
   "execution_count": 81,
   "id": "d9f0102c",
   "metadata": {},
   "outputs": [],
   "source": [
    "dataku6 = {\n",
    "    id: [\"4\",\"7\",\"10\"]\n",
    "}"
   ]
  },
  {
   "cell_type": "code",
   "execution_count": 21,
   "id": "a053e364",
   "metadata": {},
   "outputs": [],
   "source": [
    "dataku = {\n",
    "    \"id[0]\": 5,\n",
    "    \"id[1]\": 2, \n",
    "    \"id[2]\": 31,\n",
    "}"
   ]
  },
  {
   "cell_type": "code",
   "execution_count": 58,
   "id": "305e9c07",
   "metadata": {},
   "outputs": [],
   "source": [
    "dataku3 = {\n",
    "    \"id[]\": 3,\n",
    "    \"id[]\": 1,\n",
    "    \"id[]\": 29\n",
    "}"
   ]
  },
  {
   "cell_type": "code",
   "execution_count": 69,
   "id": "82aacb37",
   "metadata": {},
   "outputs": [],
   "source": [
    "dataku4 = {\n",
    "    \"id\": 44,\n",
    "    \"id\": 10,\n",
    "    \"id\": 50\n",
    "}"
   ]
  },
  {
   "cell_type": "code",
   "execution_count": 74,
   "id": "1b03fb28",
   "metadata": {},
   "outputs": [],
   "source": [
    "dataku5 = {\n",
    "    \"id\": [40, 17, 19]\n",
    "}"
   ]
  },
  {
   "cell_type": "code",
   "execution_count": 82,
   "id": "840f4e60",
   "metadata": {},
   "outputs": [
    {
     "data": {
      "text/plain": [
       "<QueryDict: {<built-in function id>: [['4', '7', '10']]}>"
      ]
     },
     "execution_count": 82,
     "metadata": {},
     "output_type": "execute_result"
    }
   ],
   "source": [
    "idku6 = query(dataku6)\n",
    "idku6"
   ]
  },
  {
   "cell_type": "code",
   "execution_count": 75,
   "id": "9153bc3f",
   "metadata": {},
   "outputs": [
    {
     "data": {
      "text/plain": [
       "<QueryDict: {'id': [[40, 17, 19]]}>"
      ]
     },
     "execution_count": 75,
     "metadata": {},
     "output_type": "execute_result"
    }
   ],
   "source": [
    "idku5 = query(dataku5)\n",
    "idku5"
   ]
  },
  {
   "cell_type": "code",
   "execution_count": 85,
   "id": "8af7327a",
   "metadata": {},
   "outputs": [
    {
     "data": {
      "text/plain": [
       "[]"
      ]
     },
     "execution_count": 85,
     "metadata": {},
     "output_type": "execute_result"
    }
   ],
   "source": [
    "idku6.getlist('id[]')"
   ]
  },
  {
   "cell_type": "code",
   "execution_count": 80,
   "id": "2d35c203",
   "metadata": {},
   "outputs": [
    {
     "data": {
      "text/plain": [
       "[40, 17, 19]"
      ]
     },
     "execution_count": 80,
     "metadata": {},
     "output_type": "execute_result"
    }
   ],
   "source": [
    "idku5.getlist('id')[0]"
   ]
  },
  {
   "cell_type": "code",
   "execution_count": 70,
   "id": "7356766d",
   "metadata": {},
   "outputs": [],
   "source": [
    "idku4 = query(dataku4)"
   ]
  },
  {
   "cell_type": "code",
   "execution_count": 73,
   "id": "1298c6d3",
   "metadata": {},
   "outputs": [
    {
     "data": {
      "text/plain": [
       "[]"
      ]
     },
     "execution_count": 73,
     "metadata": {},
     "output_type": "execute_result"
    }
   ],
   "source": [
    "idku4.getlist('id[]')"
   ]
  },
  {
   "cell_type": "code",
   "execution_count": 60,
   "id": "d61bd3f8",
   "metadata": {},
   "outputs": [],
   "source": [
    "idku3 = query(dataku3)"
   ]
  },
  {
   "cell_type": "code",
   "execution_count": 68,
   "id": "6df59e4c",
   "metadata": {},
   "outputs": [
    {
     "data": {
      "text/plain": [
       "<QueryDict: {'id[]': [29]}>"
      ]
     },
     "execution_count": 68,
     "metadata": {},
     "output_type": "execute_result"
    }
   ],
   "source": [
    "idku3"
   ]
  },
  {
   "cell_type": "code",
   "execution_count": 22,
   "id": "e5b65239",
   "metadata": {},
   "outputs": [
    {
     "data": {
      "text/plain": [
       "<QueryDict: {'id[0]': [5], 'id[1]': [2], 'id[2]': [31]}>"
      ]
     },
     "execution_count": 22,
     "metadata": {},
     "output_type": "execute_result"
    }
   ],
   "source": [
    "idku = query(dataku)\n",
    "idku"
   ]
  },
  {
   "cell_type": "code",
   "execution_count": 57,
   "id": "7093b9ff",
   "metadata": {},
   "outputs": [
    {
     "data": {
      "text/plain": [
       "2"
      ]
     },
     "execution_count": 57,
     "metadata": {},
     "output_type": "execute_result"
    }
   ],
   "source": [
    "idku['id[1]']"
   ]
  },
  {
   "cell_type": "code",
   "execution_count": null,
   "id": "69d8ce8a",
   "metadata": {},
   "outputs": [],
   "source": []
  },
  {
   "cell_type": "code",
   "execution_count": 50,
   "id": "04a21f94",
   "metadata": {},
   "outputs": [
    {
     "data": {
      "text/plain": [
       "<QueryDict: {<built-in function id>: [[4, 7, 10]]}>"
      ]
     },
     "execution_count": 50,
     "metadata": {},
     "output_type": "execute_result"
    }
   ],
   "source": [
    "idku2 = query(dataku2)\n",
    "idku2"
   ]
  },
  {
   "cell_type": "code",
   "execution_count": 34,
   "id": "f2294d0c",
   "metadata": {},
   "outputs": [
    {
     "data": {
      "text/plain": [
       "[]"
      ]
     },
     "execution_count": 34,
     "metadata": {},
     "output_type": "execute_result"
    }
   ],
   "source": [
    "idku.getlist('id')"
   ]
  },
  {
   "cell_type": "code",
   "execution_count": 52,
   "id": "84f5e22f",
   "metadata": {},
   "outputs": [
    {
     "data": {
      "text/plain": [
       "[]"
      ]
     },
     "execution_count": 52,
     "metadata": {},
     "output_type": "execute_result"
    }
   ],
   "source": [
    "idku2.getlist('id[dd]')"
   ]
  },
  {
   "cell_type": "code",
   "execution_count": 42,
   "id": "21af365a",
   "metadata": {},
   "outputs": [],
   "source": [
    "paramatersnya = idku.getlist('id[]')"
   ]
  },
  {
   "cell_type": "code",
   "execution_count": 46,
   "id": "a32ee524",
   "metadata": {},
   "outputs": [
    {
     "data": {
      "text/plain": [
       "[]"
      ]
     },
     "execution_count": 46,
     "metadata": {},
     "output_type": "execute_result"
    }
   ],
   "source": [
    "paramatersnya"
   ]
  },
  {
   "cell_type": "code",
   "execution_count": 47,
   "id": "33e59772",
   "metadata": {},
   "outputs": [],
   "source": [
    "ab = [1,2,3,5]"
   ]
  },
  {
   "cell_type": "code",
   "execution_count": 48,
   "id": "f451bf3e",
   "metadata": {},
   "outputs": [
    {
     "data": {
      "text/plain": [
       "[1, 2, 3, 5]"
      ]
     },
     "execution_count": 48,
     "metadata": {},
     "output_type": "execute_result"
    }
   ],
   "source": [
    "ab"
   ]
  },
  {
   "cell_type": "code",
   "execution_count": null,
   "id": "ddd8093d",
   "metadata": {},
   "outputs": [],
   "source": []
  },
  {
   "cell_type": "code",
   "execution_count": 33,
   "id": "3f5df5f9",
   "metadata": {},
   "outputs": [],
   "source": [
    "for v in idku.getlist('id[]'):\n",
    "    print('saya')\n",
    "    print(v)"
   ]
  },
  {
   "cell_type": "code",
   "execution_count": 2,
   "id": "3589e9f5",
   "metadata": {},
   "outputs": [],
   "source": [
    "ordinary_dict = {\n",
    "    \"a\": \"ini adalah a\",\n",
    "    \"b\": \"ini adalah nilai b\",\n",
    "    \"id\": ['[2,4]'],\n",
    "    \"pk\": [2,4]\n",
    "}"
   ]
  },
  {
   "cell_type": "code",
   "execution_count": 3,
   "id": "a6d04c1b",
   "metadata": {},
   "outputs": [],
   "source": [
    "query_dict = QueryDict('', mutable=True)"
   ]
  },
  {
   "cell_type": "code",
   "execution_count": 4,
   "id": "385f81f6",
   "metadata": {},
   "outputs": [],
   "source": [
    "query_dict.update(ordinary_dict)"
   ]
  },
  {
   "cell_type": "code",
   "execution_count": 5,
   "id": "95c13c4c",
   "metadata": {},
   "outputs": [
    {
     "data": {
      "text/plain": [
       "['[2,4]']"
      ]
     },
     "execution_count": 5,
     "metadata": {},
     "output_type": "execute_result"
    }
   ],
   "source": [
    "query_dict['id']"
   ]
  },
  {
   "cell_type": "code",
   "execution_count": null,
   "id": "1f8826aa",
   "metadata": {},
   "outputs": [],
   "source": []
  },
  {
   "cell_type": "code",
   "execution_count": 163,
   "id": "0fc0430e",
   "metadata": {},
   "outputs": [
    {
     "data": {
      "text/plain": [
       "[]"
      ]
     },
     "execution_count": 163,
     "metadata": {},
     "output_type": "execute_result"
    }
   ],
   "source": [
    "query_dict.getlist('get')"
   ]
  },
  {
   "cell_type": "code",
   "execution_count": null,
   "id": "dc619ce1",
   "metadata": {},
   "outputs": [],
   "source": []
  },
  {
   "cell_type": "code",
   "execution_count": 10,
   "id": "fc2e8506",
   "metadata": {},
   "outputs": [
    {
     "data": {
      "text/plain": [
       "<Profile: Profile object (19)>"
      ]
     },
     "execution_count": 10,
     "metadata": {},
     "output_type": "execute_result"
    }
   ],
   "source": [
    "data_anggota = Anggota.objects.get(id=3)\n",
    "data_anggota.profile"
   ]
  },
  {
   "cell_type": "code",
   "execution_count": null,
   "id": "66183da0",
   "metadata": {},
   "outputs": [],
   "source": []
  },
  {
   "cell_type": "code",
   "execution_count": null,
   "id": "c0b93846",
   "metadata": {},
   "outputs": [],
   "source": []
  },
  {
   "cell_type": "code",
   "execution_count": null,
   "id": "e67b9cbf",
   "metadata": {},
   "outputs": [],
   "source": []
  },
  {
   "cell_type": "code",
   "execution_count": 106,
   "id": "468a05b8",
   "metadata": {},
   "outputs": [
    {
     "data": {
      "text/plain": [
       "{'id[0]': 5, 'id[1]': 2, 'id[2]': 31}"
      ]
     },
     "execution_count": 106,
     "metadata": {},
     "output_type": "execute_result"
    }
   ],
   "source": [
    "idku.dict()"
   ]
  },
  {
   "cell_type": "code",
   "execution_count": 110,
   "id": "f99c7fa3",
   "metadata": {},
   "outputs": [
    {
     "data": {
      "text/plain": [
       "[]"
      ]
     },
     "execution_count": 110,
     "metadata": {},
     "output_type": "execute_result"
    }
   ],
   "source": [
    "idku.getlist('id[]')"
   ]
  },
  {
   "cell_type": "code",
   "execution_count": 114,
   "id": "e3bb0dfe",
   "metadata": {},
   "outputs": [
    {
     "data": {
      "text/plain": [
       "<QueryDict: {'id[0]': [5], 'id[1]': [2], 'id[2]': [31]}>"
      ]
     },
     "execution_count": 114,
     "metadata": {},
     "output_type": "execute_result"
    }
   ],
   "source": [
    "idku"
   ]
  },
  {
   "cell_type": "code",
   "execution_count": 113,
   "id": "4e4c2ae8",
   "metadata": {},
   "outputs": [
    {
     "name": "stdout",
     "output_type": "stream",
     "text": [
      "0 id[0]\n",
      "1 id[1]\n",
      "2 id[2]\n"
     ]
    }
   ],
   "source": [
    "for index, item in enumerate(idku):\n",
    "    print(index, item)"
   ]
  },
  {
   "cell_type": "code",
   "execution_count": 121,
   "id": "9871dd94",
   "metadata": {},
   "outputs": [],
   "source": [
    "for index, item in idku.getlist('id[]'):\n",
    "    print(index, item)"
   ]
  },
  {
   "cell_type": "code",
   "execution_count": 138,
   "id": "b0386b3b",
   "metadata": {},
   "outputs": [],
   "source": [
    "for row in idku.getlist('id[]'):\n",
    "    print(row)"
   ]
  },
  {
   "cell_type": "code",
   "execution_count": null,
   "id": "9c5c868f",
   "metadata": {},
   "outputs": [],
   "source": []
  },
  {
   "cell_type": "code",
   "execution_count": 151,
   "id": "798d810c",
   "metadata": {},
   "outputs": [
    {
     "name": "stdout",
     "output_type": "stream",
     "text": [
      "5\n",
      "2\n",
      "31\n"
     ]
    }
   ],
   "source": [
    "for key, value in idku.items():\n",
    "    print(value)"
   ]
  },
  {
   "cell_type": "code",
   "execution_count": null,
   "id": "ecb48af5",
   "metadata": {},
   "outputs": [],
   "source": []
  },
  {
   "cell_type": "code",
   "execution_count": 163,
   "id": "5efb9471",
   "metadata": {},
   "outputs": [],
   "source": [
    "datasaya = {\n",
    "    \"id\": 1,\n",
    "    \"id\": 4,\n",
    "    \"id\": 5\n",
    "}"
   ]
  },
  {
   "cell_type": "code",
   "execution_count": 164,
   "id": "ac65bfbf",
   "metadata": {},
   "outputs": [],
   "source": [
    "d = query(datasaya)"
   ]
  },
  {
   "cell_type": "code",
   "execution_count": 167,
   "id": "900d9e24",
   "metadata": {},
   "outputs": [
    {
     "data": {
      "text/plain": [
       "<QueryDict: {'id': [5]}>"
      ]
     },
     "execution_count": 167,
     "metadata": {},
     "output_type": "execute_result"
    }
   ],
   "source": [
    "d.getlist()"
   ]
  },
  {
   "cell_type": "code",
   "execution_count": 161,
   "id": "05348a56",
   "metadata": {},
   "outputs": [
    {
     "data": {
      "text/plain": [
       "<QueryDict: {'id': [[1, 10, 9]]}>"
      ]
     },
     "execution_count": 161,
     "metadata": {},
     "output_type": "execute_result"
    }
   ],
   "source": [
    "d"
   ]
  },
  {
   "cell_type": "code",
   "execution_count": 152,
   "id": "85216560",
   "metadata": {},
   "outputs": [
    {
     "data": {
      "text/plain": [
       "<QueryDict: {'id[0]': [5], 'id[1]': [2], 'id[2]': [31]}>"
      ]
     },
     "execution_count": 152,
     "metadata": {},
     "output_type": "execute_result"
    }
   ],
   "source": [
    "idku"
   ]
  },
  {
   "cell_type": "code",
   "execution_count": null,
   "id": "a21c1a53",
   "metadata": {},
   "outputs": [],
   "source": [
    "for key, value idku.g"
   ]
  },
  {
   "cell_type": "code",
   "execution_count": null,
   "id": "200acbf4",
   "metadata": {},
   "outputs": [],
   "source": []
  },
  {
   "cell_type": "code",
   "execution_count": 127,
   "id": "7fcfa3d5",
   "metadata": {},
   "outputs": [
    {
     "data": {
      "text/plain": [
       "31"
      ]
     },
     "execution_count": 127,
     "metadata": {},
     "output_type": "execute_result"
    }
   ],
   "source": [
    "idku.get('id[2]')"
   ]
  },
  {
   "cell_type": "code",
   "execution_count": 135,
   "id": "b87ebfd3",
   "metadata": {},
   "outputs": [
    {
     "data": {
      "text/plain": [
       "[31]"
      ]
     },
     "execution_count": 135,
     "metadata": {},
     "output_type": "execute_result"
    }
   ],
   "source": [
    "idku.getlist('id[2]')"
   ]
  },
  {
   "cell_type": "code",
   "execution_count": null,
   "id": "338615ff",
   "metadata": {},
   "outputs": [],
   "source": []
  },
  {
   "cell_type": "code",
   "execution_count": null,
   "id": "9f90d831",
   "metadata": {},
   "outputs": [],
   "source": []
  },
  {
   "cell_type": "code",
   "execution_count": 143,
   "id": "4a1e7b2f",
   "metadata": {},
   "outputs": [
    {
     "name": "stdout",
     "output_type": "stream",
     "text": [
      "5\n",
      "2\n",
      "31\n"
     ]
    }
   ],
   "source": [
    "for k, v in idku.items():\n",
    "    print(v)"
   ]
  },
  {
   "cell_type": "code",
   "execution_count": 2,
   "id": "d19493f5",
   "metadata": {},
   "outputs": [],
   "source": [
    "import requests"
   ]
  },
  {
   "cell_type": "code",
   "execution_count": null,
   "id": "05e9f067",
   "metadata": {},
   "outputs": [],
   "source": []
  },
  {
   "cell_type": "code",
   "execution_count": null,
   "id": "d2ed4f8c",
   "metadata": {},
   "outputs": [],
   "source": []
  },
  {
   "cell_type": "code",
   "execution_count": null,
   "id": "cd7407cd",
   "metadata": {},
   "outputs": [],
   "source": []
  },
  {
   "cell_type": "code",
   "execution_count": null,
   "id": "35f78797",
   "metadata": {},
   "outputs": [],
   "source": []
  },
  {
   "cell_type": "code",
   "execution_count": null,
   "id": "3a80dd40",
   "metadata": {},
   "outputs": [],
   "source": []
  },
  {
   "cell_type": "code",
   "execution_count": null,
   "id": "1d4e28b1",
   "metadata": {},
   "outputs": [],
   "source": []
  },
  {
   "cell_type": "code",
   "execution_count": 3,
   "id": "b0d697ca",
   "metadata": {},
   "outputs": [],
   "source": [
    "alamatnya = \"https://www.google.com?nama=3\""
   ]
  },
  {
   "cell_type": "code",
   "execution_count": 5,
   "id": "6dfbcede",
   "metadata": {},
   "outputs": [
    {
     "ename": "TypeError",
     "evalue": "'module' object is not callable",
     "output_type": "error",
     "traceback": [
      "\u001b[1;31m---------------------------------------------------------------------------\u001b[0m",
      "\u001b[1;31mTypeError\u001b[0m                                 Traceback (most recent call last)",
      "\u001b[1;32m<ipython-input-5-99799d5ac24e>\u001b[0m in \u001b[0;36m<module>\u001b[1;34m\u001b[0m\n\u001b[1;32m----> 1\u001b[1;33m \u001b[0mrequests\u001b[0m\u001b[1;33m(\u001b[0m\u001b[0malamatnya\u001b[0m\u001b[1;33m)\u001b[0m\u001b[1;33m\u001b[0m\u001b[1;33m\u001b[0m\u001b[0m\n\u001b[0m",
      "\u001b[1;31mTypeError\u001b[0m: 'module' object is not callable"
     ]
    }
   ],
   "source": [
    "requests(alamatnya)"
   ]
  },
  {
   "cell_type": "code",
   "execution_count": 8,
   "id": "5cf7fdd5",
   "metadata": {},
   "outputs": [
    {
     "data": {
      "text/plain": [
       "'koe%20dan%20kamu'"
      ]
     },
     "execution_count": 8,
     "metadata": {},
     "output_type": "execute_result"
    }
   ],
   "source": [
    "requests.utils.quote('koe dan kamu')"
   ]
  },
  {
   "cell_type": "code",
   "execution_count": 13,
   "id": "6a0c5c55",
   "metadata": {},
   "outputs": [],
   "source": [
    "postman = requests.get('http://127.0.0.1:8000/myapi/')"
   ]
  },
  {
   "cell_type": "code",
   "execution_count": 16,
   "id": "a67ed3cb",
   "metadata": {},
   "outputs": [],
   "source": [
    "postman_create = requests.post('http://127.0.0.1:8000/myapi/create_data')"
   ]
  },
  {
   "cell_type": "code",
   "execution_count": 17,
   "id": "863e4493",
   "metadata": {},
   "outputs": [
    {
     "data": {
      "text/plain": [
       "b'{\"count\": 1, \"current\": 1, \"previous_page\": null, \"next_page\": false, \"previous\": \"0\", \"next\": false, \"total_data\": 6, \"data\": [{\"id\": 9, \"nama\": \"Di buat di postman\", \"alamat\": \"Saragi\", \"status\": \"anggota\"}, {\"id\": 11, \"nama\": \"nama dua\", \"alamat\": \"alamat dua\", \"status\": \"anggota\"}, {\"id\": 12, \"nama\": \"nama tiga\", \"alamat\": \"alamat tiga\", \"status\": \"anggota\"}, {\"id\": 15, \"nama\": \"nama enam\", \"alamat\": \"alamat  enam\", \"status\": \"anggota\"}, {\"id\": 16, \"nama\": \"nama tujuh\", \"alamat\": \"alamat tujuh\", \"status\": \"naggota\"}, {\"id\": 17, \"nama\": \"nama delapan\", \"alamat\": \"alamat delapan\", \"status\": \"anggota\"}], \"safe\": false, \"alamat\": \"http://127.0.0.1:8000/myapi/\"}'"
      ]
     },
     "execution_count": 17,
     "metadata": {},
     "output_type": "execute_result"
    }
   ],
   "source": [
    "postman_create.content"
   ]
  },
  {
   "cell_type": "code",
   "execution_count": 14,
   "id": "e7bbc349",
   "metadata": {},
   "outputs": [
    {
     "data": {
      "text/plain": [
       "{'Date': 'Fri, 03 Sep 2021 06:16:38 GMT', 'Server': 'WSGIServer/0.2 CPython/3.8.3', 'Content-Type': 'application/json', 'X-Frame-Options': 'DENY', 'Content-Length': '669', 'Vary': 'Origin', 'X-Content-Type-Options': 'nosniff', 'Referrer-Policy': 'same-origin'}"
      ]
     },
     "execution_count": 14,
     "metadata": {},
     "output_type": "execute_result"
    }
   ],
   "source": [
    "postman.headers"
   ]
  },
  {
   "cell_type": "code",
   "execution_count": 15,
   "id": "f5d823d6",
   "metadata": {},
   "outputs": [
    {
     "data": {
      "text/plain": [
       "b'{\"count\": 1, \"current\": 1, \"previous_page\": null, \"next_page\": false, \"previous\": \"0\", \"next\": false, \"total_data\": 6, \"data\": [{\"id\": 9, \"nama\": \"Di buat di postman\", \"alamat\": \"Saragi\", \"status\": \"anggota\"}, {\"id\": 11, \"nama\": \"nama dua\", \"alamat\": \"alamat dua\", \"status\": \"anggota\"}, {\"id\": 12, \"nama\": \"nama tiga\", \"alamat\": \"alamat tiga\", \"status\": \"anggota\"}, {\"id\": 15, \"nama\": \"nama enam\", \"alamat\": \"alamat  enam\", \"status\": \"anggota\"}, {\"id\": 16, \"nama\": \"nama tujuh\", \"alamat\": \"alamat tujuh\", \"status\": \"naggota\"}, {\"id\": 17, \"nama\": \"nama delapan\", \"alamat\": \"alamat delapan\", \"status\": \"anggota\"}], \"safe\": false, \"alamat\": \"http://127.0.0.1:8000/myapi/\"}'"
      ]
     },
     "execution_count": 15,
     "metadata": {},
     "output_type": "execute_result"
    }
   ],
   "source": [
    "postman.content"
   ]
  },
  {
   "cell_type": "code",
   "execution_count": null,
   "id": "61283971",
   "metadata": {},
   "outputs": [],
   "source": []
  },
  {
   "cell_type": "code",
   "execution_count": null,
   "id": "716c0957",
   "metadata": {},
   "outputs": [],
   "source": []
  },
  {
   "cell_type": "code",
   "execution_count": null,
   "id": "b31c87c3",
   "metadata": {},
   "outputs": [],
   "source": []
  },
  {
   "cell_type": "code",
   "execution_count": 1,
   "id": "2cca104e",
   "metadata": {},
   "outputs": [],
   "source": [
    "import requests"
   ]
  },
  {
   "cell_type": "code",
   "execution_count": 8,
   "id": "e1f4da95",
   "metadata": {},
   "outputs": [],
   "source": [
    "alamatnya = 'http://127.0.0.1:8000/myapi/coba?id=1&id=2&id=5&nama=mantap&nama=ladua&nama=latiga'"
   ]
  },
  {
   "cell_type": "code",
   "execution_count": 9,
   "id": "81777c51",
   "metadata": {},
   "outputs": [],
   "source": [
    "alamat_coba = requests.get(alamatnya)"
   ]
  },
  {
   "cell_type": "code",
   "execution_count": 6,
   "id": "dabc72cc",
   "metadata": {},
   "outputs": [
    {
     "data": {
      "text/plain": [
       "b'pesan'"
      ]
     },
     "execution_count": 6,
     "metadata": {},
     "output_type": "execute_result"
    }
   ],
   "source": [
    "alamat_coba.content"
   ]
  },
  {
   "cell_type": "markdown",
   "id": "f556ed14",
   "metadata": {},
   "source": [
    "<h2>authenticated</h2>"
   ]
  },
  {
   "cell_type": "code",
   "execution_count": 1,
   "id": "5e285963",
   "metadata": {},
   "outputs": [],
   "source": [
    " from django.contrib.auth import models"
   ]
  },
  {
   "cell_type": "code",
   "execution_count": 5,
   "id": "5c24b8dc",
   "metadata": {},
   "outputs": [
    {
     "data": {
      "text/plain": [
       "<property at 0x655ef50>"
      ]
     },
     "execution_count": 5,
     "metadata": {},
     "output_type": "execute_result"
    }
   ],
   "source": [
    "models.User.is_authenticated"
   ]
  },
  {
   "cell_type": "code",
   "execution_count": 14,
   "id": "dd1ce2a8",
   "metadata": {},
   "outputs": [],
   "source": [
    "semuadata = models.User.objects.all()"
   ]
  },
  {
   "cell_type": "code",
   "execution_count": 16,
   "id": "592efc38",
   "metadata": {},
   "outputs": [
    {
     "name": "stdout",
     "output_type": "stream",
     "text": [
      "6\n",
      "7\n",
      "8\n",
      "9\n",
      "10\n",
      "11\n",
      "12\n",
      "13\n"
     ]
    }
   ],
   "source": [
    "for value in semuadata:\n",
    "    print(value.id)"
   ]
  },
  {
   "cell_type": "code",
   "execution_count": 17,
   "id": "24d7646e",
   "metadata": {},
   "outputs": [],
   "source": [
    "lasepuluh = models.User.objects.get(pk=6)"
   ]
  },
  {
   "cell_type": "code",
   "execution_count": 31,
   "id": "a0464b40",
   "metadata": {},
   "outputs": [
    {
     "data": {
      "text/plain": [
       "4"
      ]
     },
     "execution_count": 31,
     "metadata": {},
     "output_type": "execute_result"
    }
   ],
   "source": [
    "lasepuluh.profil"
   ]
  },
  {
   "cell_type": "code",
   "execution_count": 24,
   "id": "cb21d491",
   "metadata": {},
   "outputs": [
    {
     "data": {
      "text/plain": [
       "False"
      ]
     },
     "execution_count": 24,
     "metadata": {},
     "output_type": "execute_result"
    }
   ],
   "source": [
    "if requ.is_authenticated:\n",
    "\takun = request.user."
   ]
  },
  {
   "cell_type": "code",
   "execution_count": null,
   "id": "295c2030",
   "metadata": {},
   "outputs": [],
   "source": []
  },
  {
   "cell_type": "code",
   "execution_count": 20,
   "id": "b2ee0e30",
   "metadata": {},
   "outputs": [
    {
     "data": {
      "text/plain": [
       "(3, {'myapi.Profile': 3})"
      ]
     },
     "execution_count": 20,
     "metadata": {},
     "output_type": "execute_result"
    }
   ],
   "source": [
    "Profile.objects.filter(anggota_id=None).delete()"
   ]
  },
  {
   "cell_type": "code",
   "execution_count": null,
   "id": "f186efee",
   "metadata": {},
   "outputs": [],
   "source": []
  },
  {
   "cell_type": "code",
   "execution_count": null,
   "id": "197b6ec8",
   "metadata": {},
   "outputs": [],
   "source": []
  },
  {
   "cell_type": "code",
   "execution_count": null,
   "id": "e16006e4",
   "metadata": {},
   "outputs": [],
   "source": []
  },
  {
   "cell_type": "code",
   "execution_count": 32,
   "id": "eed05b0b",
   "metadata": {},
   "outputs": [],
   "source": [
    "from myapi.forms import *"
   ]
  },
  {
   "cell_type": "code",
   "execution_count": 57,
   "id": "9eb60c74",
   "metadata": {},
   "outputs": [],
   "source": [
    "inputan = {\n",
    "    \"user\": 7,\n",
    "    \"nama_lengkap\": \"telah diubah\",\n",
    "    \"phone\": 234,\n",
    "    \"nim\": 1324,\n",
    "    \"alamat\": \"alamat telah diubah\",\n",
    "    \"email\": \"mantap@gmail.com\"\n",
    "}"
   ]
  },
  {
   "cell_type": "code",
   "execution_count": 58,
   "id": "a66b0897",
   "metadata": {},
   "outputs": [],
   "source": [
    "profil_id = Profil.objects.get(pk=11)"
   ]
  },
  {
   "cell_type": "code",
   "execution_count": 63,
   "id": "004edaa2",
   "metadata": {},
   "outputs": [],
   "source": [
    "myform = ProfilForm(inputan, instance=profil_id)"
   ]
  },
  {
   "cell_type": "code",
   "execution_count": 79,
   "id": "0a9ae58e",
   "metadata": {},
   "outputs": [
    {
     "data": {
      "text/plain": [
       "'telah diubah'"
      ]
     },
     "execution_count": 79,
     "metadata": {},
     "output_type": "execute_result"
    }
   ],
   "source": [
    "profil_id.nama_lengkap"
   ]
  },
  {
   "cell_type": "code",
   "execution_count": 73,
   "id": "4b3fc09e",
   "metadata": {},
   "outputs": [
    {
     "data": {
      "text/plain": [
       "'alamat telah diubah'"
      ]
     },
     "execution_count": 73,
     "metadata": {},
     "output_type": "execute_result"
    }
   ],
   "source": [
    "myform.instance.alamat"
   ]
  },
  {
   "cell_type": "code",
   "execution_count": 60,
   "id": "b76f3c73",
   "metadata": {},
   "outputs": [
    {
     "data": {
      "text/plain": [
       "False"
      ]
     },
     "execution_count": 60,
     "metadata": {},
     "output_type": "execute_result"
    }
   ],
   "source": [
    "myform.is_valid()"
   ]
  },
  {
   "cell_type": "code",
   "execution_count": 61,
   "id": "c448f3e3",
   "metadata": {},
   "outputs": [
    {
     "data": {
      "text/plain": [
       "{'user': ['Profil with this User already exists.']}"
      ]
     },
     "execution_count": 61,
     "metadata": {},
     "output_type": "execute_result"
    }
   ],
   "source": [
    "myform.errors"
   ]
  },
  {
   "cell_type": "code",
   "execution_count": null,
   "id": "20ee8c4e",
   "metadata": {},
   "outputs": [],
   "source": []
  },
  {
   "cell_type": "code",
   "execution_count": 102,
   "id": "bb132357",
   "metadata": {},
   "outputs": [],
   "source": [
    "inputan_profil = {\n",
    "    \"user\": \"7\",\n",
    "    \"nama_lengkap\": \"telah diubah\",\n",
    "    \"phone\": 234,\n",
    "    \"nim\": 1324,\n",
    "    \"alamat\": \"alamat telah diubah\",\n",
    "    \"email\": \"mantap@gmail.com\"\n",
    "}"
   ]
  },
  {
   "cell_type": "code",
   "execution_count": 83,
   "id": "86d7679d",
   "metadata": {},
   "outputs": [],
   "source": [
    "mapel_inputan = {\n",
    "    \"kode_pelajaran\": \"212212\",\n",
    "    \"nama_pelajaran\": \"Matematika Diskrit\"\n",
    "}"
   ]
  },
  {
   "cell_type": "code",
   "execution_count": 89,
   "id": "06d8c3ee",
   "metadata": {},
   "outputs": [],
   "source": [
    "user_id = User.objects.get(pk=7)"
   ]
  },
  {
   "cell_type": "code",
   "execution_count": 92,
   "id": "3a9dcf46",
   "metadata": {},
   "outputs": [
    {
     "data": {
      "text/plain": [
       "5"
      ]
     },
     "execution_count": 92,
     "metadata": {},
     "output_type": "execute_result"
    }
   ],
   "source": [
    "user_id.profil.id"
   ]
  },
  {
   "cell_type": "code",
   "execution_count": 98,
   "id": "fe771ac6",
   "metadata": {},
   "outputs": [],
   "source": [
    "mapel_id = Mapel.objects.get(pk=5)\n",
    "profil_id = Profil.objects.get(pk=5)"
   ]
  },
  {
   "cell_type": "code",
   "execution_count": 103,
   "id": "ca593ed0",
   "metadata": {},
   "outputs": [],
   "source": [
    "form_mapel = MapelForm(mapel_inputan, instance=mapel_id)\n",
    "form_profil = MapelForm(inputan_profil, instance=profil_id)"
   ]
  },
  {
   "cell_type": "code",
   "execution_count": 86,
   "id": "a29864d6",
   "metadata": {},
   "outputs": [
    {
     "data": {
      "text/plain": [
       "True"
      ]
     },
     "execution_count": 86,
     "metadata": {},
     "output_type": "execute_result"
    }
   ],
   "source": [
    "form_mapel.is_valid()"
   ]
  },
  {
   "cell_type": "code",
   "execution_count": 107,
   "id": "199dfa25",
   "metadata": {},
   "outputs": [
    {
     "data": {
      "text/plain": [
       "{}"
      ]
     },
     "execution_count": 107,
     "metadata": {},
     "output_type": "execute_result"
    }
   ],
   "source": [
    "form_profil.errors"
   ]
  },
  {
   "cell_type": "code",
   "execution_count": 104,
   "id": "893ce5ce",
   "metadata": {},
   "outputs": [
    {
     "data": {
      "text/plain": [
       "True"
      ]
     },
     "execution_count": 104,
     "metadata": {},
     "output_type": "execute_result"
    }
   ],
   "source": [
    "form_profil.is_valid()"
   ]
  },
  {
   "cell_type": "code",
   "execution_count": 105,
   "id": "af00398e",
   "metadata": {},
   "outputs": [
    {
     "data": {
      "text/plain": [
       "<Profil: Profil object (5)>"
      ]
     },
     "execution_count": 105,
     "metadata": {},
     "output_type": "execute_result"
    }
   ],
   "source": [
    "form_profil.save()"
   ]
  },
  {
   "cell_type": "code",
   "execution_count": 1,
   "id": "803ee86b",
   "metadata": {},
   "outputs": [],
   "source": [
    "from import_export import resources"
   ]
  },
  {
   "cell_type": "code",
   "execution_count": 3,
   "id": "96450226",
   "metadata": {},
   "outputs": [],
   "source": [
    "class Myresource(resources.ModelResource):\n",
    "    nama = resources."
   ]
  },
  {
   "cell_type": "code",
   "execution_count": 5,
   "id": "eba56b5c",
   "metadata": {},
   "outputs": [
    {
     "data": {
      "text/plain": [
       "__main__.Myresource"
      ]
     },
     "execution_count": 5,
     "metadata": {},
     "output_type": "execute_result"
    }
   ],
   "source": [
    "Myresource"
   ]
  },
  {
   "cell_type": "code",
   "execution_count": 106,
   "id": "5eefa1ec",
   "metadata": {},
   "outputs": [],
   "source": [
    "profil_id.alamat"
   ]
  },
  {
   "cell_type": "code",
   "execution_count": 10,
   "id": "a0f0ab8b",
   "metadata": {},
   "outputs": [],
   "source": [
    "a = [1, 3, 6, 4, 6, 6]\n",
    "b = [1, 3, 6, 4, 6, 6]"
   ]
  },
  {
   "cell_type": "code",
   "execution_count": 21,
   "id": "db6f1630",
   "metadata": {},
   "outputs": [
    {
     "data": {
      "text/plain": [
       "1.0"
      ]
     },
     "execution_count": 21,
     "metadata": {},
     "output_type": "execute_result"
    }
   ],
   "source": [
    "precision_score(a, b, average='weighted')"
   ]
  },
  {
   "cell_type": "code",
   "execution_count": 16,
   "id": "57b76b21",
   "metadata": {},
   "outputs": [],
   "source": [
    "a = [\"II\", \"III\", \"II\", \"II\", \"III\", \"II\"]\n",
    "b = [\"II\", \"III\", \"II\", \"II\", \"III\", \"II\"]"
   ]
  },
  {
   "cell_type": "code",
   "execution_count": 9,
   "id": "dc57482a",
   "metadata": {},
   "outputs": [
    {
     "data": {
      "text/plain": [
       "'              precision    recall  f1-score   support\\n\\n          II       1.00      1.00      1.00         4\\n         III       1.00      1.00      1.00         2\\n\\n    accuracy                           1.00         6\\n   macro avg       1.00      1.00      1.00         6\\nweighted avg       1.00      1.00      1.00         6\\n'"
      ]
     },
     "execution_count": 9,
     "metadata": {},
     "output_type": "execute_result"
    }
   ],
   "source": [
    "classification_report(a, b)"
   ]
  }
 ],
 "metadata": {
  "kernelspec": {
   "display_name": "Django Shell-Plus",
   "language": "python",
   "name": "django_extensions"
  },
  "language_info": {
   "codemirror_mode": {
    "name": "ipython",
    "version": 3
   },
   "file_extension": ".py",
   "mimetype": "text/x-python",
   "name": "python",
   "nbconvert_exporter": "python",
   "pygments_lexer": "ipython3",
   "version": "3.8.3"
  }
 },
 "nbformat": 4,
 "nbformat_minor": 5
}
