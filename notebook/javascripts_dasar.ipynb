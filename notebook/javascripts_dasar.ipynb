{
 "cells": [
  {
   "cell_type": "code",
   "execution_count": 1,
   "id": "e9654c87",
   "metadata": {},
   "outputs": [],
   "source": [
    "let b, a;"
   ]
  },
  {
   "cell_type": "code",
   "execution_count": 2,
   "id": "1208d4a2",
   "metadata": {},
   "outputs": [
    {
     "data": {
      "text/plain": [
       "3"
      ]
     },
     "execution_count": 2,
     "metadata": {},
     "output_type": "execute_result"
    }
   ],
   "source": [
    "b = 17\n",
    "a = 3"
   ]
  },
  {
   "cell_type": "code",
   "execution_count": 7,
   "id": "3942f299",
   "metadata": {},
   "outputs": [
    {
     "data": {
      "text/plain": [
       "5"
      ]
     },
     "execution_count": 7,
     "metadata": {},
     "output_type": "execute_result"
    }
   ],
   "source": [
    "Math.floor(b/a)"
   ]
  },
  {
   "cell_type": "code",
   "execution_count": null,
   "id": "f10995cd",
   "metadata": {},
   "outputs": [],
   "source": []
  },
  {
   "cell_type": "code",
   "execution_count": null,
   "id": "0b494134",
   "metadata": {},
   "outputs": [],
   "source": []
  },
  {
   "cell_type": "code",
   "execution_count": null,
   "id": "66ebc900",
   "metadata": {},
   "outputs": [],
   "source": [
    "// langka satu : membagi nilai total dengan nilai max\n",
    "// langka dua : memeriksa apakah ada hasil bagi dari pembagian angka total dan max\n",
    "// langka tiga: kalau ada hasil bagi nilainya ditambah satu, kalau tidak maka tidak usah ditambah"
   ]
  },
  {
   "cell_type": "code",
   "execution_count": 1,
   "id": "0326eb17",
   "metadata": {},
   "outputs": [],
   "source": [
    "let total, max, current;"
   ]
  },
  {
   "cell_type": "code",
   "execution_count": 5,
   "id": "d566400e",
   "metadata": {},
   "outputs": [
    {
     "data": {
      "text/plain": [
       "3"
      ]
     },
     "execution_count": 5,
     "metadata": {},
     "output_type": "execute_result"
    }
   ],
   "source": [
    "total = 23;\n",
    "max = 10;\n",
    "current = 3;"
   ]
  },
  {
   "cell_type": "code",
   "execution_count": 9,
   "id": "46826e1d",
   "metadata": {},
   "outputs": [
    {
     "data": {
      "text/plain": [
       "3"
      ]
     },
     "execution_count": 9,
     "metadata": {},
     "output_type": "execute_result"
    }
   ],
   "source": [
    "total = 3;\n",
    "max = 10;\n",
    "current = 3;"
   ]
  },
  {
   "cell_type": "code",
   "execution_count": 7,
   "id": "8c39e806",
   "metadata": {},
   "outputs": [],
   "source": [
    "const paginasiFungsi = (total, max, current) => {\n",
    "    jumlah = total / max; \n",
    "    hasil_bagi = total % max;\n",
    "    \n",
    "    hasil_bagi === 0 ? null : jumlah += 1;\n",
    "    \n",
    "    angkas = Array.from({length: jumlah}, (_, index) => (index + 1));\n",
    "    return {\n",
    "        angka: angkas,\n",
    "    }\n",
    "}"
   ]
  },
  {
   "cell_type": "code",
   "execution_count": 10,
   "id": "654f6bfe",
   "metadata": {},
   "outputs": [
    {
     "data": {
      "text/plain": [
       "{ angka: [ 1 ] }"
      ]
     },
     "execution_count": 10,
     "metadata": {},
     "output_type": "execute_result"
    }
   ],
   "source": [
    "paginasiFungsi(total, max, current);"
   ]
  },
  {
   "cell_type": "code",
   "execution_count": 2,
   "id": "035fcfc6",
   "metadata": {},
   "outputs": [],
   "source": [
    "const paginasiFungsi = (total, max, current) => {\n",
    "    let jumlah = total / max; \n",
    "    let hasil_bagi = total % max;\n",
    "\n",
    "    if (hasil_bagi === 0) {\n",
    "        jumlah = jumlah + 1;\n",
    "    }\n",
    "\n",
    "    let kumpul = Array.from({length: jumlah}, (_, index) => (index + 1));\n",
    "    return kumpul;\n",
    "}"
   ]
  },
  {
   "cell_type": "code",
   "execution_count": 3,
   "id": "da69e0dc",
   "metadata": {},
   "outputs": [
    {
     "data": {
      "text/plain": [
       "[ 1, 2 ]"
      ]
     },
     "execution_count": 3,
     "metadata": {},
     "output_type": "execute_result"
    }
   ],
   "source": [
    "paginasiFungsi(10, 10, 2)"
   ]
  },
  {
   "cell_type": "code",
   "execution_count": 6,
   "id": "43eff92f",
   "metadata": {},
   "outputs": [
    {
     "data": {
      "text/plain": [
       "3"
      ]
     },
     "execution_count": 6,
     "metadata": {},
     "output_type": "execute_result"
    }
   ],
   "source": [
    "current"
   ]
  },
  {
   "cell_type": "code",
   "execution_count": 9,
   "id": "dc19a48b",
   "metadata": {},
   "outputs": [
    {
     "data": {
      "text/plain": [
       "2"
      ]
     },
     "execution_count": 9,
     "metadata": {},
     "output_type": "execute_result"
    }
   ],
   "source": [
    "jumlah = Math.floor(total / max)"
   ]
  },
  {
   "cell_type": "code",
   "execution_count": 29,
   "id": "db3bb8aa",
   "metadata": {},
   "outputs": [
    {
     "data": {
      "text/plain": [
       "21"
      ]
     },
     "execution_count": 29,
     "metadata": {},
     "output_type": "execute_result"
    }
   ],
   "source": [
    "current = 21"
   ]
  },
  {
   "cell_type": "code",
   "execution_count": 30,
   "id": "bc134bc3",
   "metadata": {},
   "outputs": [
    {
     "name": "stdout",
     "output_type": "stream",
     "text": [
      "false\n"
     ]
    }
   ],
   "source": [
    "if (current < (jumlah * max) + 1) {\n",
    "    console.log(true);\n",
    "} else {\n",
    "    console.log(false);\n",
    "}"
   ]
  },
  {
   "cell_type": "code",
   "execution_count": 53,
   "id": "7dee2a78",
   "metadata": {},
   "outputs": [],
   "source": [
    "const coba5 = (total, max, current) => {\n",
    "    let jumlah = Math.floor(total / max); \n",
    "    let hasil_bagi = total % max;\n",
    "    let untukNext = (Math.floor(total/max) * max);\n",
    "    \n",
    "    if (hasil_bagi != 0) {\n",
    "        jumlah = jumlah + 1;\n",
    "    }\n",
    "\n",
    "    let prev = false;\n",
    "    let next = false;\n",
    "    if (current > 10) {\n",
    "        prev = true;\n",
    "    }\n",
    "\n",
    "    if (current > untukNext) {\n",
    "        next = false;\n",
    "    } else {\n",
    "        next = true;\n",
    "    }\n",
    "\n",
    "    let kumpul = Array.from({length: jumlah}, (_, index) => (index + 1));\n",
    "    return {\n",
    "        prev: prev,\n",
    "        angka: kumpul,\n",
    "        next: next,\n",
    "    };\n",
    "}"
   ]
  },
  {
   "cell_type": "code",
   "execution_count": 60,
   "id": "a6d0aa88",
   "metadata": {},
   "outputs": [
    {
     "data": {
      "text/plain": [
       "{ prev: false, angka: [ 1 ], next: false, lihat: 0 }"
      ]
     },
     "execution_count": 60,
     "metadata": {},
     "output_type": "execute_result"
    }
   ],
   "source": [
    "coba5(3, 10, 10)"
   ]
  },
  {
   "cell_type": "code",
   "execution_count": null,
   "id": "e47cf9a0",
   "metadata": {},
   "outputs": [],
   "source": []
  },
  {
   "cell_type": "code",
   "execution_count": null,
   "id": "b9e3a0f6",
   "metadata": {},
   "outputs": [],
   "source": []
  },
  {
   "cell_type": "code",
   "execution_count": null,
   "id": "f354d58a",
   "metadata": {},
   "outputs": [],
   "source": []
  },
  {
   "cell_type": "code",
   "execution_count": null,
   "id": "f26bbbdf",
   "metadata": {},
   "outputs": [],
   "source": []
  },
  {
   "cell_type": "code",
   "execution_count": null,
   "id": "66fabc5b",
   "metadata": {},
   "outputs": [],
   "source": []
  },
  {
   "cell_type": "markdown",
   "id": "11cdc5cf",
   "metadata": {},
   "source": [
    "<center><h2 style=\"color: #0000ff; font-size: 40px;\">paginasi</h2></center>"
   ]
  },
  {
   "cell_type": "code",
   "execution_count": 1,
   "id": "84e94bce",
   "metadata": {},
   "outputs": [],
   "source": [
    "let total, max, current;"
   ]
  },
  {
   "cell_type": "code",
   "execution_count": 2,
   "id": "ac6f0cd4",
   "metadata": {},
   "outputs": [
    {
     "data": {
      "text/plain": [
       "17"
      ]
     },
     "execution_count": 2,
     "metadata": {},
     "output_type": "execute_result"
    }
   ],
   "source": [
    "total = 32;\n",
    "max = 10;\n",
    "current = 17;"
   ]
  },
  {
   "cell_type": "code",
   "execution_count": 28,
   "id": "f9a8055f",
   "metadata": {},
   "outputs": [],
   "source": [
    "const coba2 = (total, max, current) => {\n",
    "    let mylength = Math.floor(total/max);\n",
    "    \n",
    "    if((total % max) > 0) {\n",
    "        mylength += 1;\n",
    "    };\n",
    "    \n",
    "    let prev = true;\n",
    "    if(current < 10) {\n",
    "        prev = false;\n",
    "    };\n",
    "    \n",
    "    let next = true;\n",
    "    let paramsNext = Math.floor(total/max) * max\n",
    "    if(current > paramsNext && total % max != 0 ) {\n",
    "        next = false;\n",
    "    } else if(total % max === 0 && current > paramsNext - 10) {\n",
    "        next = false;\n",
    "    }\n",
    "    \n",
    "    let angka = Array.from({length: 5}, (_, index) => (index + 1) * current);\n",
    "    return {\n",
    "        prev: prev,\n",
    "        angka: angka,\n",
    "        next: next\n",
    "    };\n",
    "}"
   ]
  },
  {
   "cell_type": "code",
   "execution_count": 29,
   "id": "ad455f4f",
   "metadata": {},
   "outputs": [
    {
     "data": {
      "text/plain": [
       "{ prev: false, angka: [ 1, 2, 3, 4, 5 ], next: true }"
      ]
     },
     "execution_count": 29,
     "metadata": {},
     "output_type": "execute_result"
    }
   ],
   "source": [
    "coba2(2334, 10, 1)"
   ]
  },
  {
   "cell_type": "code",
   "execution_count": 24,
   "id": "cb46effd",
   "metadata": {},
   "outputs": [
    {
     "data": {
      "text/plain": [
       "2"
      ]
     },
     "execution_count": 24,
     "metadata": {},
     "output_type": "execute_result"
    }
   ],
   "source": [
    "Math.floor(21/10)"
   ]
  },
  {
   "cell_type": "code",
   "execution_count": 31,
   "id": "6e0f6a6d",
   "metadata": {},
   "outputs": [
    {
     "data": {
      "text/plain": [
       "20"
      ]
     },
     "execution_count": 31,
     "metadata": {},
     "output_type": "execute_result"
    }
   ],
   "source": [
    "(Math.floor(30/10) * 10) - 10"
   ]
  },
  {
   "cell_type": "code",
   "execution_count": 34,
   "id": "b7509b7b",
   "metadata": {},
   "outputs": [
    {
     "data": {
      "text/plain": [
       "false"
      ]
     },
     "execution_count": 34,
     "metadata": {},
     "output_type": "execute_result"
    }
   ],
   "source": [
    "20 > 20"
   ]
  },
  {
   "cell_type": "code",
   "execution_count": null,
   "id": "a2e94bbc",
   "metadata": {},
   "outputs": [],
   "source": []
  },
  {
   "cell_type": "code",
   "execution_count": 25,
   "id": "df1817a4",
   "metadata": {},
   "outputs": [
    {
     "data": {
      "text/plain": [
       "1"
      ]
     },
     "execution_count": 25,
     "metadata": {},
     "output_type": "execute_result"
    }
   ],
   "source": [
    "21 % 10"
   ]
  },
  {
   "cell_type": "code",
   "execution_count": 4,
   "id": "3da7bafc",
   "metadata": {},
   "outputs": [],
   "source": [
    "/** \n",
    "params: total, max, current\n",
    "\n",
    "{\n",
    "    prev: bool,\n",
    "    angka: [1,2,3,4,5],\n",
    "    next: bool,\n",
    "}\n",
    "*/"
   ]
  },
  {
   "cell_type": "code",
   "execution_count": 19,
   "id": "6c45ebf6",
   "metadata": {},
   "outputs": [
    {
     "data": {
      "text/plain": [
       "{ prev: true, angka: [ 1, 2, 3, 4 ], next: false }"
      ]
     },
     "execution_count": 19,
     "metadata": {},
     "output_type": "execute_result"
    }
   ],
   "source": [
    "paginasi(20, 5, 11);"
   ]
  },
  {
   "cell_type": "code",
   "execution_count": 19,
   "id": "63446466",
   "metadata": {},
   "outputs": [
    {
     "data": {
      "text/plain": [
       "20"
      ]
     },
     "execution_count": 19,
     "metadata": {},
     "output_type": "execute_result"
    }
   ],
   "source": [
    "Math.floor(23/10) * 10"
   ]
  },
  {
   "cell_type": "code",
   "execution_count": null,
   "id": "2483c1fd",
   "metadata": {},
   "outputs": [],
   "source": []
  },
  {
   "cell_type": "code",
   "execution_count": 58,
   "id": "2d4497ae",
   "metadata": {},
   "outputs": [
    {
     "data": {
      "text/plain": [
       "[\n",
       "   1,  2,  3,  4,  5,  6,  7,\n",
       "   8,  9, 10, 11, 12, 13, 14,\n",
       "  15, 16, 17, 18, 19, 20, 21\n",
       "]"
      ]
     },
     "execution_count": 58,
     "metadata": {},
     "output_type": "execute_result"
    }
   ],
   "source": [
    "cobanya = [1,2,3,4,5,6,7,8,9,10,11,12,13,14,15,16,17,18,19,20,21]"
   ]
  },
  {
   "cell_type": "code",
   "execution_count": 41,
   "id": "764dd049",
   "metadata": {},
   "outputs": [],
   "source": [
    "let h"
   ]
  },
  {
   "cell_type": "code",
   "execution_count": 59,
   "id": "4fbf7e72",
   "metadata": {},
   "outputs": [
    {
     "data": {
      "text/plain": [
       "51"
      ]
     },
     "execution_count": 59,
     "metadata": {},
     "output_type": "execute_result"
    }
   ],
   "source": [
    "h = Math.floor(cobanya.length / 5)\n",
    "if ( cobanya.length % 10 != 0) {\n",
    "    h = 51\n",
    "};\n",
    "\n",
    "h"
   ]
  },
  {
   "cell_type": "code",
   "execution_count": null,
   "id": "26b6b178",
   "metadata": {},
   "outputs": [],
   "source": []
  }
 ],
 "metadata": {
  "kernelspec": {
   "display_name": "Javascript (Node.js)",
   "language": "javascript",
   "name": "javascript"
  },
  "language_info": {
   "file_extension": ".js",
   "mimetype": "application/javascript",
   "name": "javascript",
   "version": "12.19.0"
  }
 },
 "nbformat": 4,
 "nbformat_minor": 5
}
