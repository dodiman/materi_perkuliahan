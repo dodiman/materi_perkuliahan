{
 "cells": [
  {
   "cell_type": "code",
   "execution_count": 1,
   "id": "3005ce75",
   "metadata": {},
   "outputs": [],
   "source": [
    "import os\n",
    "os.environ['DJANGO_ALLOW_ASYNC_UNSAFE'] = \"true\""
   ]
  },
  {
   "cell_type": "code",
   "execution_count": 2,
   "id": "4d991ea4",
   "metadata": {},
   "outputs": [],
   "source": [
    "from django.http import JsonResponse, HttpResponse, HttpResponseBadRequest\n",
    "from myapi import serializers as myserializer\n",
    "from django.db.models import Q          # untuk filter multi parameter"
   ]
  },
  {
   "cell_type": "code",
   "execution_count": 3,
   "id": "444363f4",
   "metadata": {},
   "outputs": [],
   "source": [
    "from myapi.models import *\n",
    "from myapi.modulku import *\n",
    "from myapi.serializers import *\n",
    "from myapi.forms import *"
   ]
  },
  {
   "cell_type": "code",
   "execution_count": 4,
   "id": "629a080e",
   "metadata": {},
   "outputs": [],
   "source": [
    "from django.core.exceptions import ObjectDoesNotExist, ValidationError, FieldDoesNotExist"
   ]
  },
  {
   "cell_type": "code",
   "execution_count": null,
   "id": "58470a2f",
   "metadata": {},
   "outputs": [],
   "source": []
  },
  {
   "cell_type": "markdown",
   "id": "63f5970f",
   "metadata": {},
   "source": [
    "<center><h2 style=\"color: #0000FF; font-size: 40px\">Halaman Data</h2></center>"
   ]
  },
  {
   "cell_type": "code",
   "execution_count": 24,
   "id": "f5a17a7c",
   "metadata": {},
   "outputs": [],
   "source": [
    "# page = request.GET.get('page', 1)\n",
    "# alamat = request.build_absolute_uri()\n",
    "\n",
    "page = 3\n",
    "alamat = 'mantap'"
   ]
  },
  {
   "cell_type": "code",
   "execution_count": 25,
   "id": "6d1ee8d9",
   "metadata": {},
   "outputs": [
    {
     "data": {
      "text/plain": [
       "b'{\"count\": 1, \"current\": 3, \"previous_page\": null, \"next_page\": false, \"previous\": \"0\", \"next\": false, \"total_data\": 3, \"data\": [{\"id\": 2, \"nama\": \"Ayu\", \"alamat\": \"Dongkala\", \"status\": \"Anggota\"}, {\"id\": 3, \"nama\": \"Mantap\", \"alamat\": \"PASARWAJO\", \"status\": \"ANGGOTA\"}, {\"id\": 9, \"nama\": \"Di buat di postman\", \"alamat\": \"Saragi\", \"status\": \"anggota\"}], \"alamat\": \"mantap\"}'"
      ]
     },
     "execution_count": 25,
     "metadata": {},
     "output_type": "execute_result"
    }
   ],
   "source": [
    "anggota = Anggota.objects.all()\n",
    "anggota_serializer = AnggotaSerializer(anggota, many=True)\n",
    "\n",
    "# paginasinya\n",
    "anggota_paginasi = paginasinya(anggota_serializer.data, page, 10, alamat=alamat)\n",
    "\n",
    "# return JsonResponse(anggota_paginasi, safe=False)\n",
    "\n",
    "# 2 code dibawah ini jagnan dicopy di views.py\n",
    "res = JsonResponse(anggota_paginasi, safe=False)\n",
    "res.content"
   ]
  },
  {
   "cell_type": "code",
   "execution_count": 12,
   "id": "c7283115",
   "metadata": {},
   "outputs": [],
   "source": []
  },
  {
   "cell_type": "code",
   "execution_count": null,
   "id": "3531c2c3",
   "metadata": {},
   "outputs": [],
   "source": []
  },
  {
   "cell_type": "code",
   "execution_count": null,
   "id": "96439b9e",
   "metadata": {},
   "outputs": [],
   "source": []
  },
  {
   "cell_type": "markdown",
   "id": "616f84c4",
   "metadata": {},
   "source": [
    "<center><h2 style=\"color: #FF0000; font-size: 40px\">end Halaman Data</h2></center>"
   ]
  },
  {
   "cell_type": "markdown",
   "id": "1a473ecb",
   "metadata": {},
   "source": [
    "<center><h2 style=\"color: #0000FF; font-size: 40px\">halaman detail</h2></center>"
   ]
  },
  {
   "cell_type": "code",
   "execution_count": 13,
   "id": "127cdf77",
   "metadata": {},
   "outputs": [],
   "source": [
    "# detail\n",
    "id =2"
   ]
  },
  {
   "cell_type": "code",
   "execution_count": 15,
   "id": "bcd1896a",
   "metadata": {},
   "outputs": [
    {
     "data": {
      "text/plain": [
       "b'{\"anggota\": {\"id\": 2, \"nama\": \"Ayu\", \"alamat\": \"Dongkala\", \"status\": \"Anggota\"}, \"profile\": {\"id\": 17, \"keterangan\": \"ini keterangan yang di rubah di postman id 2\", \"selfi\": null, \"ktp\": null, \"diri\": null, \"anggota\": 2}}'"
      ]
     },
     "execution_count": 15,
     "metadata": {},
     "output_type": "execute_result"
    }
   ],
   "source": [
    "anggotaDetail = Anggota.objects.get(pk=id)\n",
    "anggota_serializer = AnggotaSerializer(anggotaDetail)\n",
    "\n",
    "try:\n",
    "    profile_anggota = anggotaDetail.profile\n",
    "    foto_anggota = anggotaDetail.foto_set.all()   \n",
    "    profile_serializer = FotoSerializer(profile_anggota)\n",
    "    \n",
    "    context = {\n",
    "        \"anggota\": anggota_serializer.data,\n",
    "        \"profile\": profile_serializer.data\n",
    "    }\n",
    "except ObjectDoesNotExist:\n",
    "    profile_anggota = {\n",
    "        \"keterangan\" : \"\",\n",
    "        \"selfi\" : \"\",\n",
    "        \"ktp\" : \"\",\n",
    "        \"diri\" : \"\",\n",
    "        \"anggota\" : None,\n",
    "        \"id\": None,\n",
    "    }\n",
    "    \n",
    "    context = {\n",
    "        \"anggota\": anggota_serializer.data,\n",
    "        \"profile\": profile_anggota\n",
    "    }\n",
    "    \n",
    "# return JsonResponse(context)      # tanpa paginas\n",
    "    \n",
    "# 2 code di bawah ini dicomment ketika dipaste di views.py\n",
    "res = JsonResponse(context)\n",
    "res.content"
   ]
  },
  {
   "cell_type": "code",
   "execution_count": null,
   "id": "657ff9e7",
   "metadata": {},
   "outputs": [],
   "source": []
  },
  {
   "cell_type": "markdown",
   "id": "40a16c00",
   "metadata": {},
   "source": [
    "<center><h2 style=\"color: #FF0000; font-size: 40px\">end halaman detail</h2></center>"
   ]
  },
  {
   "cell_type": "markdown",
   "id": "4f04de35",
   "metadata": {},
   "source": [
    "<center><h2 style=\"font-size: 40px; color: #0000FF\">Post Data</h2></center>"
   ]
  },
  {
   "cell_type": "markdown",
   "id": "6a62dfc4",
   "metadata": {},
   "source": [
    "<h2>======================= simpan data baru ==================================</h2>"
   ]
  },
  {
   "cell_type": "code",
   "execution_count": 41,
   "id": "00a48426",
   "metadata": {},
   "outputs": [],
   "source": [
    "# if method.request == 'POST':\n",
    "data_post = {\n",
    "    \"nama\": \"Kurnia\",\n",
    "    \"alamat\": \"KOMBELI\",\n",
    "    \"status\": \"ANGGOTA\"\n",
    "}"
   ]
  },
  {
   "cell_type": "code",
   "execution_count": 42,
   "id": "1b699bc8",
   "metadata": {},
   "outputs": [
    {
     "data": {
      "text/plain": [
       "True"
      ]
     },
     "execution_count": 42,
     "metadata": {},
     "output_type": "execute_result"
    }
   ],
   "source": [
    "anggota_form = AnggotaForm(data_post or None)\n",
    "anggota_form.is_valid()"
   ]
  },
  {
   "cell_type": "code",
   "execution_count": 43,
   "id": "0f5f4441",
   "metadata": {},
   "outputs": [
    {
     "data": {
      "text/plain": [
       "<Anggota: Kurnia>"
      ]
     },
     "execution_count": 43,
     "metadata": {},
     "output_type": "execute_result"
    }
   ],
   "source": [
    "# simapan data\n",
    "anggota_form.save()"
   ]
  },
  {
   "cell_type": "code",
   "execution_count": 30,
   "id": "107609ed",
   "metadata": {},
   "outputs": [],
   "source": [
    "# ini untuk mengecek error\n",
    "# anggota_form.errors"
   ]
  },
  {
   "cell_type": "markdown",
   "id": "ee7bf03e",
   "metadata": {},
   "source": [
    "<h2>======================= update data yang ada ==============================</h2>"
   ]
  },
  {
   "cell_type": "code",
   "execution_count": 57,
   "id": "8aff01dc",
   "metadata": {},
   "outputs": [],
   "source": [
    "data_profile = {\n",
    "    \"keterangan\": \"ini adalah id 3\",\n",
    "    \"selfi\": None,\n",
    "    \"diri\": None,\n",
    "    \"ktp\": None,\n",
    "    \"anggota\": 3 \n",
    "}"
   ]
  },
  {
   "cell_type": "code",
   "execution_count": 46,
   "id": "02765ded",
   "metadata": {},
   "outputs": [],
   "source": [
    "id = 5"
   ]
  },
  {
   "cell_type": "code",
   "execution_count": 48,
   "id": "f1bd1b19",
   "metadata": {},
   "outputs": [],
   "source": [
    "profile_anggota = Profile.objects.get(pk=id)\n",
    "form_update_profile = ProfileForm(data_profile or None, instance=profile_anggota)"
   ]
  },
  {
   "cell_type": "code",
   "execution_count": 49,
   "id": "31ea19d4",
   "metadata": {},
   "outputs": [
    {
     "data": {
      "text/plain": [
       "True"
      ]
     },
     "execution_count": 49,
     "metadata": {},
     "output_type": "execute_result"
    }
   ],
   "source": [
    "# untuk mengecek apakah sesuai atau tidak\n",
    "form_update_profile.is_valid()"
   ]
  },
  {
   "cell_type": "code",
   "execution_count": 28,
   "id": "4f03d838",
   "metadata": {},
   "outputs": [],
   "source": [
    "# untuk mengecek ada error atau tidak\n",
    "# form_update_profile.errors"
   ]
  },
  {
   "cell_type": "code",
   "execution_count": 50,
   "id": "125a9069",
   "metadata": {},
   "outputs": [
    {
     "data": {
      "text/plain": [
       "<Profile: Profile object (5)>"
      ]
     },
     "execution_count": 50,
     "metadata": {},
     "output_type": "execute_result"
    }
   ],
   "source": [
    "form_update_profile.save()"
   ]
  },
  {
   "cell_type": "code",
   "execution_count": 13,
   "id": "c0f2ef53",
   "metadata": {},
   "outputs": [
    {
     "data": {
      "text/plain": [
       "'=============================================================================================================='"
      ]
     },
     "execution_count": 13,
     "metadata": {},
     "output_type": "execute_result"
    }
   ],
   "source": [
    "'''=============================== modifikasi sebelum simpan ======================================================'''\n",
    "modifikasi = form_update_profile.save(commit=False)\n",
    "modifikasi.anggota_id = 3\n",
    "modifikasi.keterangan = \"oke dirubah lah sudah berhasil dan bagus'\"\n",
    "# modifikasi.anggota =3\n",
    "modifikasi.ktp = None\n",
    "'''=============================================================================================================='''"
   ]
  },
  {
   "cell_type": "code",
   "execution_count": 14,
   "id": "57c7baca",
   "metadata": {},
   "outputs": [
    {
     "data": {
      "text/plain": [
       "<Profile: Profile object (2)>"
      ]
     },
     "execution_count": 14,
     "metadata": {},
     "output_type": "execute_result"
    }
   ],
   "source": [
    "form_update_profile.save()"
   ]
  },
  {
   "cell_type": "code",
   "execution_count": 21,
   "id": "32dcbbbf",
   "metadata": {},
   "outputs": [],
   "source": []
  },
  {
   "cell_type": "code",
   "execution_count": 22,
   "id": "d6dd6e98",
   "metadata": {},
   "outputs": [
    {
     "name": "stdout",
     "output_type": "stream",
     "text": [
      "save\n"
     ]
    },
    {
     "data": {
      "text/plain": [
       "'====================================================================================================================='"
      ]
     },
     "execution_count": 22,
     "metadata": {},
     "output_type": "execute_result"
    }
   ],
   "source": [
    "data_profile = {\n",
    "    \"keterangan\": \"ini adalah id dirubajfdfjdsfjsdfjsdfjsdfj3\",\n",
    "    \"selfi\": None,\n",
    "    \"diri\": None,\n",
    "    \"ktp\": None,\n",
    "    \"anggota\": 3\n",
    "}\n",
    "\n",
    "'''================================= update data relasi =================================================================='''\n",
    "id = 3\n",
    "d_anggota = Anggota.objects.get(pk=id)\n",
    "d_profile = False\n",
    "try:\n",
    "    d_profile = Profile.objects.get(pk=d_anggota.profile.id)\n",
    "    proses_simpan = ProfileForm(data_profile, instance=d_profile)\n",
    "    if proses_simpan.is_valid():\n",
    "        proses_simpan.save(commit=False)\n",
    "        proses_simpan.anggota = id\n",
    "        proses_simpan.save()\n",
    "        print('save')\n",
    "except Profile.DoesNotExist:\n",
    "    proses_simpan = ProfileForm(data_profile)\n",
    "    if proses_simpan.is_valid():\n",
    "        proses_simpan.save(commit=False)\n",
    "        proses_simpan.anggota = id\n",
    "        proses_simpan.save()\n",
    "        print('buat baru')\n",
    "'''====================================================================================================================='''"
   ]
  },
  {
   "cell_type": "markdown",
   "id": "e573cac5",
   "metadata": {},
   "source": [
    "<h2>======================= delete data yang ada ==============================</h2>"
   ]
  },
  {
   "cell_type": "code",
   "execution_count": 44,
   "id": "7c5b42ea",
   "metadata": {},
   "outputs": [
    {
     "data": {
      "text/plain": [
       "<QuerySet [{'id': 1, 'nama': 'Bambang', 'alamat': 'Jakarta', 'status': 'Anggota'}, {'id': 2, 'nama': 'Ayu', 'alamat': 'Dongkala', 'status': 'Anggota'}, {'id': 3, 'nama': 'Mantap', 'alamat': 'PASARWAJO', 'status': 'ANGGOTA'}, {'id': 4, 'nama': 'Kumbang', 'alamat': 'Takimpo', 'status': 'Anggota'}, {'id': 5, 'nama': 'nama Jupyter', 'alamat': 'KOMBELI', 'status': 'ANGGOTA'}, {'id': 7, 'nama': 'Kurnia', 'alamat': 'KOMBELI', 'status': 'ANGGOTA'}]>"
      ]
     },
     "execution_count": 44,
     "metadata": {},
     "output_type": "execute_result"
    }
   ],
   "source": [
    "data_anggota = Anggota.objects.all()\n",
    "data_anggota.values()"
   ]
  },
  {
   "cell_type": "code",
   "execution_count": 45,
   "id": "429d44ee",
   "metadata": {},
   "outputs": [
    {
     "data": {
      "text/plain": [
       "<QuerySet [{'id': 1, 'keterangan': 'update keterangan yang id satu dan mantap jiwa', 'selfi': '', 'ktp': '', 'diri': '', 'anggota_id': 2}, {'id': 2, 'keterangan': \"oke dirubah lah sudah berhasil dan bagus'\", 'selfi': '', 'ktp': '', 'diri': '', 'anggota_id': 3}, {'id': 3, 'keterangan': 'telah di ubah', 'selfi': '', 'ktp': '', 'diri': '', 'anggota_id': 1}, {'id': 5, 'keterangan': None, 'selfi': '', 'ktp': '', 'diri': '', 'anggota_id': 7}]>"
      ]
     },
     "execution_count": 45,
     "metadata": {},
     "output_type": "execute_result"
    }
   ],
   "source": [
    "profile_anggota.values()"
   ]
  },
  {
   "cell_type": "code",
   "execution_count": 35,
   "id": "70ebfcb3",
   "metadata": {},
   "outputs": [],
   "source": [
    "# inputan\n",
    "pk = 6"
   ]
  },
  {
   "cell_type": "code",
   "execution_count": 37,
   "id": "b2846979",
   "metadata": {},
   "outputs": [
    {
     "data": {
      "text/plain": [
       "<Anggota: Kurnia>"
      ]
     },
     "execution_count": 37,
     "metadata": {},
     "output_type": "execute_result"
    }
   ],
   "source": [
    "data_anggota_hapus = Anggota.objects.get(id=pk)\n",
    "data_anggota_hapus"
   ]
  },
  {
   "cell_type": "code",
   "execution_count": 38,
   "id": "7967e4c7",
   "metadata": {},
   "outputs": [
    {
     "data": {
      "text/plain": [
       "(2, {'myapi.Profile': 1, 'myapi.Anggota': 1})"
      ]
     },
     "execution_count": 38,
     "metadata": {},
     "output_type": "execute_result"
    }
   ],
   "source": [
    "# preses menghapus\n",
    "data_anggota_hapus.delete()"
   ]
  },
  {
   "cell_type": "code",
   "execution_count": null,
   "id": "56a96ab1",
   "metadata": {},
   "outputs": [],
   "source": [
    "''' \n",
    "pengkondisian \n",
    "\n",
    "kondisi = True\n",
    "if kondisi:\n",
    "    return JsonResponse({\"pesan\": \"sukses hapus\"}, status=200)\n",
    "\n",
    "return JsonResponse({\"pesan\": \"gagal hapus\"}, status=400)\n",
    "'''\n",
    "\n"
   ]
  },
  {
   "cell_type": "markdown",
   "id": "1fe706cb",
   "metadata": {},
   "source": [
    "<h2 style=\"color: #0000ff;\">delete multiple data selected</h2>"
   ]
  },
  {
   "cell_type": "raw",
   "id": "3e65bbce",
   "metadata": {},
   "source": [
    "anggota_id = [1, 7]\n",
    "for value in anggota_id:\n",
    "    anggotas = Anggota.objects.get(pk=value)\n",
    "    anggotas.delete()"
   ]
  },
  {
   "cell_type": "code",
   "execution_count": 113,
   "id": "d76e70cd",
   "metadata": {
    "collapsed": true
   },
   "outputs": [
    {
     "data": {
      "text/plain": [
       "\"\\n\\nif request.method == 'POST':\\n    anggota_id = request.POST.getlist('id[]')\\n    for value in data_id:\\n        anggota = Anggota.objects.get(id=value)\\n        anggota.delete()\\n    \\n    return redirect('')   # diarahkan kembali ke halaman data tampil anggota\\n\""
      ]
     },
     "execution_count": 113,
     "metadata": {},
     "output_type": "execute_result"
    }
   ],
   "source": [
    "# delete multiple\n",
    "'''\n",
    "\n",
    "if request.method == 'POST':\n",
    "    anggota_id = request.POST.getlist('id[]')\n",
    "    for value in anggota_id:\n",
    "        anggota = Anggota.objects.get(id=value)\n",
    "        anggota.delete()\n",
    "    \n",
    "    return redirect('')   # diarahkan kembali ke halaman data tampil anggota\n",
    "'''"
   ]
  },
  {
   "cell_type": "code",
   "execution_count": null,
   "id": "0d76d195",
   "metadata": {},
   "outputs": [],
   "source": []
  },
  {
   "cell_type": "code",
   "execution_count": null,
   "id": "91804554",
   "metadata": {},
   "outputs": [],
   "source": []
  },
  {
   "cell_type": "code",
   "execution_count": null,
   "id": "eef532d0",
   "metadata": {},
   "outputs": [],
   "source": []
  },
  {
   "cell_type": "markdown",
   "id": "12f70f68",
   "metadata": {},
   "source": [
    "<h2>=========================== Filter Data ==================================</h2>"
   ]
  },
  {
   "cell_type": "code",
   "execution_count": 93,
   "id": "e2ed1a8e",
   "metadata": {},
   "outputs": [],
   "source": [
    "katakunci = \"kombb\""
   ]
  },
  {
   "cell_type": "code",
   "execution_count": 94,
   "id": "feab593a",
   "metadata": {},
   "outputs": [],
   "source": [
    "filter_data_anggota = Anggota.objects.filter(Q(nama__contains=katakunci) | Q(alamat__contains=katakunci))"
   ]
  },
  {
   "cell_type": "code",
   "execution_count": 95,
   "id": "838bd6c4",
   "metadata": {},
   "outputs": [
    {
     "data": {
      "text/plain": [
       "b'{\"count\": 1, \"current\": 3, \"previous_page\": null, \"next_page\": false, \"previous\": \"0\", \"next\": false, \"total_data\": 0, \"data\": [], \"alamat\": \"mantap\"}'"
      ]
     },
     "execution_count": 95,
     "metadata": {},
     "output_type": "execute_result"
    }
   ],
   "source": [
    "hasilcari_serializer = AnggotaSerializer(filter_data_anggota, many=True)\n",
    "\n",
    "# paginasinya\n",
    "'''\n",
    "page = request.GET.get('page', 1)\n",
    "alamat = request.build_absolute_uri()\n",
    "'''\n",
    "\n",
    "page = 3\n",
    "alamat = 'mantap'\n",
    "\n",
    "anggota_paginasi = paginasinya(hasilcari_serializer.data, page, 10, alamat=alamat)\n",
    "\n",
    "# return JsonResponse(anggota_paginasi, safe=False)\n",
    "\n",
    "# 2 code dibawah ini jagnan dicopy di views.py\n",
    "hasilcari = JsonResponse(anggota_paginasi, safe=False)\n",
    "hasilcari.content"
   ]
  },
  {
   "cell_type": "code",
   "execution_count": null,
   "id": "94c7d00b",
   "metadata": {},
   "outputs": [],
   "source": []
  },
  {
   "cell_type": "markdown",
   "id": "e92336aa",
   "metadata": {},
   "source": [
    "<h2 style=\"color: #ff0000\"><center>End Post</center></h2>"
   ]
  },
  {
   "cell_type": "code",
   "execution_count": null,
   "id": "28935431",
   "metadata": {},
   "outputs": [],
   "source": []
  },
  {
   "cell_type": "markdown",
   "id": "33783e90",
   "metadata": {},
   "source": [
    "<h2 style=\"color: #0000ff\"><center>queryset (request) post atau get </center></h2>"
   ]
  },
  {
   "cell_type": "code",
   "execution_count": 129,
   "id": "0d790ca0",
   "metadata": {},
   "outputs": [],
   "source": [
    "from django.http import QueryDict"
   ]
  },
  {
   "cell_type": "code",
   "execution_count": 144,
   "id": "3589e9f5",
   "metadata": {},
   "outputs": [],
   "source": [
    "ordinary_dict = {\n",
    "    \"a\": \"ini adalah a\",\n",
    "    \"b\": \"ini adalah nilai b\",\n",
    "    \"id\": ['[2,4]'],\n",
    "    \"pk\": [2,4]\n",
    "}"
   ]
  },
  {
   "cell_type": "code",
   "execution_count": 145,
   "id": "a6d04c1b",
   "metadata": {},
   "outputs": [],
   "source": [
    "query_dict = QueryDict('', mutable=True)"
   ]
  },
  {
   "cell_type": "code",
   "execution_count": 146,
   "id": "385f81f6",
   "metadata": {},
   "outputs": [],
   "source": [
    "query_dict.update(ordinary_dict)"
   ]
  },
  {
   "cell_type": "code",
   "execution_count": 147,
   "id": "95c13c4c",
   "metadata": {},
   "outputs": [
    {
     "data": {
      "text/plain": [
       "['[2,4]']"
      ]
     },
     "execution_count": 147,
     "metadata": {},
     "output_type": "execute_result"
    }
   ],
   "source": [
    "query_dict['id']"
   ]
  },
  {
   "cell_type": "code",
   "execution_count": null,
   "id": "1f8826aa",
   "metadata": {},
   "outputs": [],
   "source": []
  },
  {
   "cell_type": "code",
   "execution_count": 163,
   "id": "0fc0430e",
   "metadata": {},
   "outputs": [
    {
     "data": {
      "text/plain": [
       "[]"
      ]
     },
     "execution_count": 163,
     "metadata": {},
     "output_type": "execute_result"
    }
   ],
   "source": [
    "query_dict.getlist('get')"
   ]
  },
  {
   "cell_type": "code",
   "execution_count": null,
   "id": "dc619ce1",
   "metadata": {},
   "outputs": [],
   "source": []
  },
  {
   "cell_type": "code",
   "execution_count": 10,
   "id": "fc2e8506",
   "metadata": {},
   "outputs": [
    {
     "data": {
      "text/plain": [
       "<Profile: Profile object (19)>"
      ]
     },
     "execution_count": 10,
     "metadata": {},
     "output_type": "execute_result"
    }
   ],
   "source": [
    "data_anggota = Anggota.objects.get(id=3)\n",
    "data_anggota.profile"
   ]
  },
  {
   "cell_type": "code",
   "execution_count": null,
   "id": "468a05b8",
   "metadata": {},
   "outputs": [],
   "source": []
  },
  {
   "cell_type": "code",
   "execution_count": 20,
   "id": "b2ee0e30",
   "metadata": {},
   "outputs": [
    {
     "data": {
      "text/plain": [
       "(3, {'myapi.Profile': 3})"
      ]
     },
     "execution_count": 20,
     "metadata": {},
     "output_type": "execute_result"
    }
   ],
   "source": [
    "Profile.objects.filter(anggota_id=None).delete()"
   ]
  }
 ],
 "metadata": {
  "kernelspec": {
   "display_name": "Django Shell-Plus",
   "language": "python",
   "name": "django_extensions"
  },
  "language_info": {
   "codemirror_mode": {
    "name": "ipython",
    "version": 3
   },
   "file_extension": ".py",
   "mimetype": "text/x-python",
   "name": "python",
   "nbconvert_exporter": "python",
   "pygments_lexer": "ipython3",
   "version": "3.8.3"
  }
 },
 "nbformat": 4,
 "nbformat_minor": 5
}
