{
 "cells": [
  {
   "cell_type": "code",
   "execution_count": 2,
   "id": "f9ce0066",
   "metadata": {},
   "outputs": [],
   "source": [
    "import pandas as pd\n",
    "import numpy as np"
   ]
  },
  {
   "cell_type": "code",
   "execution_count": 3,
   "id": "3dd01652",
   "metadata": {},
   "outputs": [],
   "source": [
    "from sklearn import preprocessing"
   ]
  },
  {
   "cell_type": "code",
   "execution_count": 4,
   "id": "c52989f1",
   "metadata": {},
   "outputs": [],
   "source": [
    "from sklearn import naive_bayes"
   ]
  },
  {
   "cell_type": "code",
   "execution_count": 5,
   "id": "a21807ca",
   "metadata": {},
   "outputs": [],
   "source": [
    "data_awal = pd.read_excel(\"angkauji.xlsx\")"
   ]
  },
  {
   "cell_type": "code",
   "execution_count": 6,
   "id": "2487d6ef",
   "metadata": {},
   "outputs": [],
   "source": [
    "x = data_awal.iloc[:, 1:-1]"
   ]
  },
  {
   "cell_type": "code",
   "execution_count": 7,
   "id": "42ebf6dd",
   "metadata": {},
   "outputs": [],
   "source": [
    "y = data_awal.iloc[:, -1]"
   ]
  },
  {
   "cell_type": "code",
   "execution_count": null,
   "id": "ae248a93",
   "metadata": {},
   "outputs": [],
   "source": []
  },
  {
   "cell_type": "code",
   "execution_count": 8,
   "id": "3837c32d",
   "metadata": {},
   "outputs": [],
   "source": [
    "model = naive_bayes.CategoricalNB()"
   ]
  },
  {
   "cell_type": "code",
   "execution_count": 9,
   "id": "711f948c",
   "metadata": {},
   "outputs": [
    {
     "data": {
      "text/plain": [
       "CategoricalNB()"
      ]
     },
     "execution_count": 9,
     "metadata": {},
     "output_type": "execute_result"
    }
   ],
   "source": [
    "model.fit(x,y)"
   ]
  },
  {
   "cell_type": "code",
   "execution_count": 56,
   "id": "4ba874d2",
   "metadata": {},
   "outputs": [
    {
     "data": {
      "text/plain": [
       "array([[0, 0, 1, 1, 2, 0, 3, 1, 2, 1],\n",
       "       [2, 1, 1, 1, 0, 0, 1, 0, 2, 1],\n",
       "       [2, 0, 0, 1, 0, 0, 2, 1, 2, 1],\n",
       "       [2, 0, 1, 1, 3, 1, 0, 2, 2, 1],\n",
       "       [0, 0, 1, 1, 3, 1, 0, 0, 2, 1],\n",
       "       [0, 0, 0, 1, 1, 1, 0, 0, 2, 1],\n",
       "       [0, 0, 0, 0, 1, 1, 0, 0, 2, 1],\n",
       "       [0, 0, 0, 1, 1, 1, 0, 0, 0, 0],\n",
       "       [1, 0, 1, 1, 1, 1, 0, 0, 1, 0],\n",
       "       [0, 0, 1, 1, 1, 1, 0, 2, 1, 0]], dtype=int64)"
      ]
     },
     "execution_count": 56,
     "metadata": {},
     "output_type": "execute_result"
    }
   ],
   "source": [
    "x.values"
   ]
  },
  {
   "cell_type": "code",
   "execution_count": 32,
   "id": "b544c68d",
   "metadata": {},
   "outputs": [],
   "source": [
    "d = np.array([])"
   ]
  },
  {
   "cell_type": "code",
   "execution_count": 37,
   "id": "244f961b",
   "metadata": {},
   "outputs": [],
   "source": [
    " def joint_log_likelihood(X):\n",
    "    jll = np.zeros((X.shape[0], model.class_count_.shape[0]))\n",
    "    for i in range(model.n_features_):\n",
    "        indices = X[:, i]\n",
    "        jll += model.feature_log_prob_[i][:, indices].T\n",
    "    total_ll = jll + model.class_log_prior_\n",
    "    print(jll)\n",
    "    print(jll)\n",
    "    return total_ll"
   ]
  },
  {
   "cell_type": "code",
   "execution_count": 59,
   "id": "46429213",
   "metadata": {},
   "outputs": [],
   "source": [
    "jll = np.zeros((10,10))"
   ]
  },
  {
   "cell_type": "code",
   "execution_count": 57,
   "id": "0c296c99",
   "metadata": {
    "collapsed": true
   },
   "outputs": [
    {
     "ename": "TypeError",
     "evalue": "'tuple' object cannot be interpreted as an integer",
     "output_type": "error",
     "traceback": [
      "\u001b[1;31m---------------------------------------------------------------------------\u001b[0m",
      "\u001b[1;31mTypeError\u001b[0m                                 Traceback (most recent call last)",
      "\u001b[1;32m<ipython-input-57-9601489f5abf>\u001b[0m in \u001b[0;36m<module>\u001b[1;34m\u001b[0m\n\u001b[1;32m----> 1\u001b[1;33m \u001b[0mjll\u001b[0m \u001b[1;33m=\u001b[0m \u001b[0mnp\u001b[0m\u001b[1;33m.\u001b[0m\u001b[0mzeros\u001b[0m\u001b[1;33m(\u001b[0m\u001b[1;33m(\u001b[0m\u001b[0mx\u001b[0m\u001b[1;33m.\u001b[0m\u001b[0mvalues\u001b[0m\u001b[1;33m.\u001b[0m\u001b[0mshape\u001b[0m\u001b[1;33m[\u001b[0m\u001b[1;36m0\u001b[0m\u001b[1;33m]\u001b[0m\u001b[1;33m,\u001b[0m \u001b[0mmodel\u001b[0m\u001b[1;33m.\u001b[0m\u001b[0mclass_count_\u001b[0m\u001b[1;33m.\u001b[0m\u001b[0mshape\u001b[0m\u001b[1;33m)\u001b[0m\u001b[1;33m)\u001b[0m\u001b[1;33m\u001b[0m\u001b[1;33m\u001b[0m\u001b[0m\n\u001b[0m\u001b[0;32m      2\u001b[0m \u001b[0mjll\u001b[0m\u001b[1;33m\u001b[0m\u001b[1;33m\u001b[0m\u001b[0m\n",
      "\u001b[1;31mTypeError\u001b[0m: 'tuple' object cannot be interpreted as an integer"
     ]
    }
   ],
   "source": [
    "jll = np.zeros((x.values.shape[0], model.class_count_.shape))\n",
    "jll"
   ]
  },
  {
   "cell_type": "code",
   "execution_count": null,
   "id": "5c85533b",
   "metadata": {},
   "outputs": [],
   "source": []
  },
  {
   "cell_type": "code",
   "execution_count": 89,
   "id": "e1f621aa",
   "metadata": {},
   "outputs": [],
   "source": [
    "nilaiku = np.zeros((3,5))"
   ]
  },
  {
   "cell_type": "code",
   "execution_count": 91,
   "id": "2568e819",
   "metadata": {},
   "outputs": [
    {
     "data": {
      "text/plain": [
       "(3, 5)"
      ]
     },
     "execution_count": 91,
     "metadata": {},
     "output_type": "execute_result"
    }
   ],
   "source": [
    "nilaiku.shape"
   ]
  },
  {
   "cell_type": "code",
   "execution_count": 74,
   "id": "b8fbf5b5",
   "metadata": {},
   "outputs": [],
   "source": [
    "nilaiku += 1"
   ]
  },
  {
   "cell_type": "code",
   "execution_count": 111,
   "id": "b1e04c5e",
   "metadata": {},
   "outputs": [
    {
     "data": {
      "text/plain": [
       "array([1, 1, 0, 1, 1, 0, 0, 0, 1, 1], dtype=int64)"
      ]
     },
     "execution_count": 111,
     "metadata": {},
     "output_type": "execute_result"
    }
   ],
   "source": [
    "x.values[:, i]"
   ]
  },
  {
   "cell_type": "code",
   "execution_count": 115,
   "id": "34bf60fb",
   "metadata": {},
   "outputs": [
    {
     "data": {
      "text/plain": [
       "10"
      ]
     },
     "execution_count": 115,
     "metadata": {},
     "output_type": "execute_result"
    }
   ],
   "source": [
    "model.n_features_"
   ]
  },
  {
   "cell_type": "code",
   "execution_count": 122,
   "id": "9f37f79a",
   "metadata": {},
   "outputs": [],
   "source": [
    "nilaiku = np.zeros((10, 5))"
   ]
  },
  {
   "cell_type": "code",
   "execution_count": 123,
   "id": "6c93e806",
   "metadata": {},
   "outputs": [
    {
     "data": {
      "text/plain": [
       "(10, 5)"
      ]
     },
     "execution_count": 123,
     "metadata": {},
     "output_type": "execute_result"
    }
   ],
   "source": [
    "nilaiku.shape"
   ]
  },
  {
   "cell_type": "code",
   "execution_count": 124,
   "id": "59c97286",
   "metadata": {},
   "outputs": [],
   "source": [
    "for i in range(10):\n",
    "    indices = x.values[:, i]\n",
    "    nilaiku += model.feature_log_prob_[i][:, indices].T"
   ]
  },
  {
   "cell_type": "code",
   "execution_count": 125,
   "id": "d4fe9fb4",
   "metadata": {},
   "outputs": [
    {
     "data": {
      "text/plain": [
       "array([[-10.09823163, -11.58584874,  -6.38450714,  -9.40508445,\n",
       "         -8.71193727],\n",
       "       [-10.79137881, -13.3776082 ,  -9.56256097,  -5.93934855,\n",
       "         -8.71193727],\n",
       "       [-10.09823163, -13.48296872,  -8.86941379,  -8.71193727,\n",
       "         -5.93934855],\n",
       "       [ -9.40508445,  -8.22547335,  -6.38450714,  -9.40508445,\n",
       "         -9.40508445],\n",
       "       [ -8.01879009,  -5.6997447 ,  -7.07765432,  -9.40508445,\n",
       "        -10.09823163],\n",
       "       [ -6.63249573,  -5.07113604,  -8.86941379, -10.09823163,\n",
       "         -9.40508445],\n",
       "       [ -5.93934855,  -6.86289551,  -9.96802607, -10.79137881,\n",
       "        -10.09823163],\n",
       "       [ -8.01879009,  -5.18891908, -11.06663836, -11.48452599,\n",
       "        -10.79137881],\n",
       "       [ -9.40508445,  -5.41206263, -10.66117325, -10.79137881,\n",
       "        -11.48452599],\n",
       "       [ -9.40508445,  -5.41206263,  -9.27487889, -11.48452599,\n",
       "        -11.48452599]])"
      ]
     },
     "execution_count": 125,
     "metadata": {},
     "output_type": "execute_result"
    }
   ],
   "source": [
    "nilaiku"
   ]
  },
  {
   "cell_type": "code",
   "execution_count": 128,
   "id": "58b73de8",
   "metadata": {},
   "outputs": [
    {
     "data": {
      "text/plain": [
       "(10, 5)"
      ]
     },
     "execution_count": 128,
     "metadata": {},
     "output_type": "execute_result"
    }
   ],
   "source": [
    "nilaiku.shape"
   ]
  },
  {
   "cell_type": "code",
   "execution_count": 127,
   "id": "c6aee5fe",
   "metadata": {},
   "outputs": [
    {
     "data": {
      "text/plain": [
       "(5,)"
      ]
     },
     "execution_count": 127,
     "metadata": {},
     "output_type": "execute_result"
    }
   ],
   "source": [
    "model.class_log_prior_.shape"
   ]
  },
  {
   "cell_type": "code",
   "execution_count": 130,
   "id": "a60014b5",
   "metadata": {},
   "outputs": [],
   "source": [
    "dijumlahkan = nilaiku + model.class_log_prior_"
   ]
  },
  {
   "cell_type": "code",
   "execution_count": 132,
   "id": "234673a6",
   "metadata": {},
   "outputs": [
    {
     "data": {
      "text/plain": [
       "array([[-10.09823163, -11.58584874,  -6.38450714,  -9.40508445,\n",
       "         -8.71193727],\n",
       "       [-10.79137881, -13.3776082 ,  -9.56256097,  -5.93934855,\n",
       "         -8.71193727],\n",
       "       [-10.09823163, -13.48296872,  -8.86941379,  -8.71193727,\n",
       "         -5.93934855],\n",
       "       [ -9.40508445,  -8.22547335,  -6.38450714,  -9.40508445,\n",
       "         -9.40508445],\n",
       "       [ -8.01879009,  -5.6997447 ,  -7.07765432,  -9.40508445,\n",
       "        -10.09823163],\n",
       "       [ -6.63249573,  -5.07113604,  -8.86941379, -10.09823163,\n",
       "         -9.40508445],\n",
       "       [ -5.93934855,  -6.86289551,  -9.96802607, -10.79137881,\n",
       "        -10.09823163],\n",
       "       [ -8.01879009,  -5.18891908, -11.06663836, -11.48452599,\n",
       "        -10.79137881],\n",
       "       [ -9.40508445,  -5.41206263, -10.66117325, -10.79137881,\n",
       "        -11.48452599],\n",
       "       [ -9.40508445,  -5.41206263,  -9.27487889, -11.48452599,\n",
       "        -11.48452599]])"
      ]
     },
     "execution_count": 132,
     "metadata": {},
     "output_type": "execute_result"
    }
   ],
   "source": [
    "nilaiku"
   ]
  },
  {
   "cell_type": "code",
   "execution_count": 131,
   "id": "5859ec49",
   "metadata": {},
   "outputs": [
    {
     "data": {
      "text/plain": [
       "array([[-12.40081672, -12.27899592,  -7.99394505, -11.70766954,\n",
       "        -11.01452236],\n",
       "       [-13.0939639 , -14.07075539, -11.17199888,  -8.24193364,\n",
       "        -11.01452236],\n",
       "       [-12.40081672, -14.1761159 , -10.4788517 , -11.01452236,\n",
       "         -8.24193364],\n",
       "       [-11.70766954,  -8.91862053,  -7.99394505, -11.70766954,\n",
       "        -11.70766954],\n",
       "       [-10.32137518,  -6.39289188,  -8.68709223, -11.70766954,\n",
       "        -12.40081672],\n",
       "       [ -8.93508082,  -5.76428323, -10.4788517 , -12.40081672,\n",
       "        -11.70766954],\n",
       "       [ -8.24193364,  -7.55604269, -11.57746399, -13.0939639 ,\n",
       "        -12.40081672],\n",
       "       [-10.32137518,  -5.88206626, -12.67607627, -13.78711108,\n",
       "        -13.0939639 ],\n",
       "       [-11.70766954,  -6.10520981, -12.27061117, -13.0939639 ,\n",
       "        -13.78711108],\n",
       "       [-11.70766954,  -6.10520981, -10.88431681, -13.78711108,\n",
       "        -13.78711108]])"
      ]
     },
     "execution_count": 131,
     "metadata": {},
     "output_type": "execute_result"
    }
   ],
   "source": [
    "dijumlahkan"
   ]
  },
  {
   "cell_type": "code",
   "execution_count": null,
   "id": "be954263",
   "metadata": {},
   "outputs": [],
   "source": []
  },
  {
   "cell_type": "code",
   "execution_count": 149,
   "id": "02694fb3",
   "metadata": {},
   "outputs": [],
   "source": [
    "x8 = x.iloc[8:9 , :]"
   ]
  },
  {
   "cell_type": "code",
   "execution_count": 163,
   "id": "3ca96062",
   "metadata": {},
   "outputs": [],
   "source": [
    "nilai_awal = np.zeros((3,5))"
   ]
  },
  {
   "cell_type": "code",
   "execution_count": 166,
   "id": "2465898c",
   "metadata": {},
   "outputs": [
    {
     "data": {
      "text/plain": [
       "0.0"
      ]
     },
     "execution_count": 166,
     "metadata": {},
     "output_type": "execute_result"
    }
   ],
   "source": [
    "nilai_awal[1][3]"
   ]
  },
  {
   "cell_type": "code",
   "execution_count": 179,
   "id": "ad671698",
   "metadata": {},
   "outputs": [],
   "source": [
    "indi = x.values[:, 0]"
   ]
  },
  {
   "cell_type": "code",
   "execution_count": 184,
   "id": "e819897b",
   "metadata": {},
   "outputs": [
    {
     "data": {
      "text/plain": [
       "array([0, 2, 2, 2, 0, 0, 0, 0, 1, 0], dtype=int64)"
      ]
     },
     "execution_count": 184,
     "metadata": {},
     "output_type": "execute_result"
    }
   ],
   "source": [
    "indi"
   ]
  },
  {
   "cell_type": "code",
   "execution_count": 197,
   "id": "505e38c2",
   "metadata": {},
   "outputs": [
    {
     "data": {
      "text/plain": [
       "[array([[-0.69314718, -1.38629436, -1.38629436],\n",
       "        [-0.47000363, -1.38629436, -2.07944154],\n",
       "        [-0.91629073, -1.60943791, -0.91629073],\n",
       "        [-1.38629436, -1.38629436, -0.69314718],\n",
       "        [-1.38629436, -1.38629436, -0.69314718]]),\n",
       " array([[-0.40546511, -1.09861229],\n",
       "        [-0.15415068, -1.94591015],\n",
       "        [-0.28768207, -1.38629436],\n",
       "        [-1.09861229, -0.40546511],\n",
       "        [-0.40546511, -1.09861229]]),\n",
       " array([[-0.40546511, -1.09861229],\n",
       "        [-0.84729786, -0.55961579],\n",
       "        [-1.38629436, -0.28768207],\n",
       "        [-1.09861229, -0.40546511],\n",
       "        [-0.40546511, -1.09861229]]),\n",
       " array([[-0.40546511, -1.09861229],\n",
       "        [-1.94591015, -0.15415068],\n",
       "        [-1.38629436, -0.28768207],\n",
       "        [-1.09861229, -0.40546511],\n",
       "        [-1.09861229, -0.40546511]]),\n",
       " array([[-1.60943791, -0.91629073, -1.60943791, -1.60943791],\n",
       "        [-2.19722458, -0.58778666, -2.19722458, -1.5040774 ],\n",
       "        [-1.79175947, -1.79175947, -1.09861229, -1.09861229],\n",
       "        [-0.91629073, -1.60943791, -1.60943791, -1.60943791],\n",
       "        [-0.91629073, -1.60943791, -1.60943791, -1.60943791]]),\n",
       " array([[-1.09861229, -0.40546511],\n",
       "        [-1.94591015, -0.15415068],\n",
       "        [-0.69314718, -0.69314718],\n",
       "        [-0.40546511, -1.09861229],\n",
       "        [-0.40546511, -1.09861229]]),\n",
       " array([[-0.91629073, -1.60943791, -1.60943791, -1.60943791],\n",
       "        [-0.40546511, -2.19722458, -2.19722458, -2.19722458],\n",
       "        [-1.09861229, -1.79175947, -1.79175947, -1.09861229],\n",
       "        [-1.60943791, -0.91629073, -1.60943791, -1.60943791],\n",
       "        [-1.60943791, -1.60943791, -0.91629073, -1.60943791]]),\n",
       " array([[-0.69314718, -1.38629436, -1.38629436],\n",
       "        [-0.47000363, -2.07944154, -1.38629436],\n",
       "        [-1.60943791, -0.91629073, -0.91629073],\n",
       "        [-0.69314718, -1.38629436, -1.38629436],\n",
       "        [-1.38629436, -0.69314718, -1.38629436]]),\n",
       " array([[-1.38629436, -1.38629436, -0.69314718],\n",
       "        [-1.38629436, -0.98082925, -0.98082925],\n",
       "        [-1.60943791, -1.60943791, -0.51082562],\n",
       "        [-1.38629436, -1.38629436, -0.69314718],\n",
       "        [-1.38629436, -1.38629436, -0.69314718]]),\n",
       " array([[-1.09861229, -0.40546511],\n",
       "        [-0.55961579, -0.84729786],\n",
       "        [-1.38629436, -0.28768207],\n",
       "        [-1.09861229, -0.40546511],\n",
       "        [-1.09861229, -0.40546511]])]"
      ]
     },
     "execution_count": 197,
     "metadata": {},
     "output_type": "execute_result"
    }
   ],
   "source": [
    "model.feature_log_prob_ "
   ]
  },
  {
   "cell_type": "code",
   "execution_count": 193,
   "id": "01433d48",
   "metadata": {},
   "outputs": [
    {
     "data": {
      "text/plain": [
       "(10, 5)"
      ]
     },
     "execution_count": 193,
     "metadata": {},
     "output_type": "execute_result"
    }
   ],
   "source": [
    "model.feature_log_prob_[0][:, indi].T.shape"
   ]
  },
  {
   "cell_type": "markdown",
   "id": "7044f61d",
   "metadata": {},
   "source": [
    "<center><span style=\"color: #0000ff; font-size: 30px;\">Perhitungan Naive bayes di tahap akhir</span></center>"
   ]
  },
  {
   "cell_type": "code",
   "execution_count": 145,
   "id": "8ff867a5",
   "metadata": {},
   "outputs": [],
   "source": [
    "def joint_log_likelihood(X):\n",
    "    jll = np.zeros((X.shape[0], model.class_count_.shape[0]))\n",
    "    for i in range(model.n_features_):\n",
    "        indices = X[:, i]\n",
    "        jll += model.feature_log_prob_[i][:, indices].T\n",
    "    total_ll = jll + model.class_log_prior_\n",
    "    return total_ll"
   ]
  },
  {
   "cell_type": "code",
   "execution_count": 156,
   "id": "a991ceed",
   "metadata": {},
   "outputs": [],
   "source": [
    "def prediksi(X):\n",
    "    jll = joint_log_likelihood(X)\n",
    "    return model.classes_[np.argmax(jll, axis=1)]"
   ]
  },
  {
   "cell_type": "code",
   "execution_count": null,
   "id": "3a884d29",
   "metadata": {},
   "outputs": [],
   "source": []
  },
  {
   "cell_type": "code",
   "execution_count": null,
   "id": "8890baa9",
   "metadata": {},
   "outputs": [],
   "source": []
  },
  {
   "cell_type": "code",
   "execution_count": null,
   "id": "cfd0b77a",
   "metadata": {},
   "outputs": [],
   "source": []
  },
  {
   "cell_type": "code",
   "execution_count": null,
   "id": "abf32d73",
   "metadata": {},
   "outputs": [],
   "source": []
  },
  {
   "cell_type": "code",
   "execution_count": 157,
   "id": "eabdc1c1",
   "metadata": {},
   "outputs": [
    {
     "data": {
      "text/plain": [
       "array(['II'], dtype='<U3')"
      ]
     },
     "execution_count": 157,
     "metadata": {},
     "output_type": "execute_result"
    }
   ],
   "source": [
    "prediksi(x8.values)"
   ]
  },
  {
   "cell_type": "code",
   "execution_count": 152,
   "id": "b87693bc",
   "metadata": {},
   "outputs": [
    {
     "data": {
      "text/plain": [
       "array([[-11.70766954,  -6.10520981, -12.27061117, -13.0939639 ,\n",
       "        -13.78711108]])"
      ]
     },
     "execution_count": 152,
     "metadata": {},
     "output_type": "execute_result"
    }
   ],
   "source": [
    "joint_log_likelihood(x8.values)"
   ]
  },
  {
   "cell_type": "code",
   "execution_count": 95,
   "id": "587f1ee8",
   "metadata": {},
   "outputs": [
    {
     "data": {
      "text/plain": [
       "array([[0., 0., 0., 0., 0.],\n",
       "       [0., 0., 0., 0., 0.],\n",
       "       [0., 0., 0., 0., 0.]])"
      ]
     },
     "execution_count": 95,
     "metadata": {},
     "output_type": "execute_result"
    }
   ],
   "source": [
    "nilaiku"
   ]
  },
  {
   "cell_type": "code",
   "execution_count": 81,
   "id": "8f275942",
   "metadata": {},
   "outputs": [
    {
     "data": {
      "text/plain": [
       "array([[0., 0., 0., 0., 0.],\n",
       "       [0., 0., 0., 0., 0.],\n",
       "       [0., 0., 0., 0., 0.]])"
      ]
     },
     "execution_count": 81,
     "metadata": {},
     "output_type": "execute_result"
    }
   ],
   "source": [
    "nilaiku"
   ]
  },
  {
   "cell_type": "code",
   "execution_count": null,
   "id": "43ef0fb5",
   "metadata": {},
   "outputs": [],
   "source": []
  },
  {
   "cell_type": "code",
   "execution_count": 61,
   "id": "d8ae9004",
   "metadata": {},
   "outputs": [
    {
     "ename": "ValueError",
     "evalue": "operands could not be broadcast together with shapes (10,10) (10,5) (10,10) ",
     "output_type": "error",
     "traceback": [
      "\u001b[1;31m---------------------------------------------------------------------------\u001b[0m",
      "\u001b[1;31mValueError\u001b[0m                                Traceback (most recent call last)",
      "\u001b[1;32m<ipython-input-61-a1af08d5647c>\u001b[0m in \u001b[0;36m<module>\u001b[1;34m\u001b[0m\n\u001b[0;32m      1\u001b[0m \u001b[1;32mfor\u001b[0m \u001b[0mi\u001b[0m \u001b[1;32min\u001b[0m \u001b[0mrange\u001b[0m\u001b[1;33m(\u001b[0m\u001b[0mmodel\u001b[0m\u001b[1;33m.\u001b[0m\u001b[0mn_features_\u001b[0m\u001b[1;33m)\u001b[0m\u001b[1;33m:\u001b[0m\u001b[1;33m\u001b[0m\u001b[1;33m\u001b[0m\u001b[0m\n\u001b[0;32m      2\u001b[0m         \u001b[0mindices\u001b[0m \u001b[1;33m=\u001b[0m \u001b[0mx\u001b[0m\u001b[1;33m.\u001b[0m\u001b[0mvalues\u001b[0m\u001b[1;33m[\u001b[0m\u001b[1;33m:\u001b[0m\u001b[1;33m,\u001b[0m \u001b[0mi\u001b[0m\u001b[1;33m]\u001b[0m\u001b[1;33m\u001b[0m\u001b[1;33m\u001b[0m\u001b[0m\n\u001b[1;32m----> 3\u001b[1;33m         \u001b[0mjll\u001b[0m \u001b[1;33m+=\u001b[0m \u001b[0mmodel\u001b[0m\u001b[1;33m.\u001b[0m\u001b[0mfeature_log_prob_\u001b[0m\u001b[1;33m[\u001b[0m\u001b[0mi\u001b[0m\u001b[1;33m]\u001b[0m\u001b[1;33m[\u001b[0m\u001b[1;33m:\u001b[0m\u001b[1;33m,\u001b[0m \u001b[0mindices\u001b[0m\u001b[1;33m]\u001b[0m\u001b[1;33m.\u001b[0m\u001b[0mT\u001b[0m\u001b[1;33m\u001b[0m\u001b[1;33m\u001b[0m\u001b[0m\n\u001b[0m",
      "\u001b[1;31mValueError\u001b[0m: operands could not be broadcast together with shapes (10,10) (10,5) (10,10) "
     ]
    }
   ],
   "source": [
    "for i in range(model.n_features_):\n",
    "        indices = x.values[:, i]\n",
    "        jll += model.feature_log_prob_[i][:, indices].T"
   ]
  },
  {
   "cell_type": "code",
   "execution_count": null,
   "id": "9bf9f2aa",
   "metadata": {},
   "outputs": [],
   "source": []
  },
  {
   "cell_type": "code",
   "execution_count": 62,
   "id": "f4000465",
   "metadata": {},
   "outputs": [
    {
     "data": {
      "text/plain": [
       "(10, 10)"
      ]
     },
     "execution_count": 62,
     "metadata": {},
     "output_type": "execute_result"
    }
   ],
   "source": [
    "jll.shape"
   ]
  },
  {
   "cell_type": "code",
   "execution_count": 46,
   "id": "91459213",
   "metadata": {},
   "outputs": [
    {
     "data": {
      "text/plain": [
       "array([0, 1, 0, 0, 0, 0, 0, 0, 0, 0], dtype=int64)"
      ]
     },
     "execution_count": 46,
     "metadata": {},
     "output_type": "execute_result"
    }
   ],
   "source": [
    "dd = x.values[:, 1]\n",
    "dd"
   ]
  },
  {
   "cell_type": "code",
   "execution_count": 51,
   "id": "85cf0a51",
   "metadata": {},
   "outputs": [
    {
     "data": {
      "text/plain": [
       "array([[-0.40546511, -0.15415068, -0.28768207, -1.09861229, -0.40546511],\n",
       "       [-1.09861229, -1.94591015, -1.38629436, -0.40546511, -1.09861229],\n",
       "       [-0.40546511, -0.15415068, -0.28768207, -1.09861229, -0.40546511],\n",
       "       [-0.40546511, -0.15415068, -0.28768207, -1.09861229, -0.40546511],\n",
       "       [-0.40546511, -0.15415068, -0.28768207, -1.09861229, -0.40546511],\n",
       "       [-0.40546511, -0.15415068, -0.28768207, -1.09861229, -0.40546511],\n",
       "       [-0.40546511, -0.15415068, -0.28768207, -1.09861229, -0.40546511],\n",
       "       [-0.40546511, -0.15415068, -0.28768207, -1.09861229, -0.40546511],\n",
       "       [-0.40546511, -0.15415068, -0.28768207, -1.09861229, -0.40546511],\n",
       "       [-0.40546511, -0.15415068, -0.28768207, -1.09861229, -0.40546511]])"
      ]
     },
     "execution_count": 51,
     "metadata": {},
     "output_type": "execute_result"
    }
   ],
   "source": [
    "kkk = model.feature_log_prob_[1][: , dd].T\n",
    "kkk"
   ]
  },
  {
   "cell_type": "code",
   "execution_count": 52,
   "id": "df53199d",
   "metadata": {},
   "outputs": [
    {
     "data": {
      "text/plain": [
       "numpy.ndarray"
      ]
     },
     "execution_count": 52,
     "metadata": {},
     "output_type": "execute_result"
    }
   ],
   "source": [
    "type(kkk)"
   ]
  },
  {
   "cell_type": "code",
   "execution_count": 54,
   "id": "48ac0de3",
   "metadata": {},
   "outputs": [
    {
     "data": {
      "text/plain": [
       "(10,)"
      ]
     },
     "execution_count": 54,
     "metadata": {},
     "output_type": "execute_result"
    }
   ],
   "source": [
    "dd.shape"
   ]
  },
  {
   "cell_type": "code",
   "execution_count": 53,
   "id": "822fde83",
   "metadata": {},
   "outputs": [
    {
     "data": {
      "text/plain": [
       "(10, 5)"
      ]
     },
     "execution_count": 53,
     "metadata": {},
     "output_type": "execute_result"
    }
   ],
   "source": [
    "kkk.shape"
   ]
  },
  {
   "cell_type": "code",
   "execution_count": 34,
   "id": "3d2934b8",
   "metadata": {},
   "outputs": [],
   "source": [
    "data_test = x.iloc[0, :]"
   ]
  },
  {
   "cell_type": "code",
   "execution_count": 38,
   "id": "76314aa9",
   "metadata": {},
   "outputs": [],
   "source": [
    "h = data_test.values.reshape(1, -1)"
   ]
  },
  {
   "cell_type": "code",
   "execution_count": 39,
   "id": "3191684d",
   "metadata": {},
   "outputs": [
    {
     "name": "stdout",
     "output_type": "stream",
     "text": [
      "[[-10.09823163 -11.58584874  -6.38450714  -9.40508445  -8.71193727]]\n",
      "[[-10.09823163 -11.58584874  -6.38450714  -9.40508445  -8.71193727]]\n"
     ]
    },
    {
     "data": {
      "text/plain": [
       "array([[-12.40081672, -12.27899592,  -7.99394505, -11.70766954,\n",
       "        -11.01452236]])"
      ]
     },
     "execution_count": 39,
     "metadata": {},
     "output_type": "execute_result"
    }
   ],
   "source": [
    "joint_log_likelihood(h)"
   ]
  },
  {
   "cell_type": "code",
   "execution_count": null,
   "id": "fc46af58",
   "metadata": {},
   "outputs": [],
   "source": []
  },
  {
   "cell_type": "code",
   "execution_count": 26,
   "id": "ae195c3c",
   "metadata": {},
   "outputs": [],
   "source": [
    "def predict(X):\n",
    "        jll = joint_log_likelihood(X)\n",
    "        return model.classes_[np.argmax(jll, axis=1)]"
   ]
  },
  {
   "cell_type": "code",
   "execution_count": 27,
   "id": "99d9f8d5",
   "metadata": {},
   "outputs": [
    {
     "data": {
      "text/plain": [
       "array(['III'], dtype='<U3')"
      ]
     },
     "execution_count": 27,
     "metadata": {},
     "output_type": "execute_result"
    }
   ],
   "source": [
    "predict(h)"
   ]
  },
  {
   "cell_type": "code",
   "execution_count": 140,
   "id": "68b77715",
   "metadata": {},
   "outputs": [
    {
     "data": {
      "text/plain": [
       "array(['III', 'IV', 'V', 'III', 'II', 'II', 'II', 'II', 'II', 'II'],\n",
       "      dtype='<U3')"
      ]
     },
     "execution_count": 140,
     "metadata": {},
     "output_type": "execute_result"
    }
   ],
   "source": [
    "model.classes_[np.argmax(dijumlahkan, axis=1)]"
   ]
  },
  {
   "cell_type": "code",
   "execution_count": null,
   "id": "aa308174",
   "metadata": {},
   "outputs": [],
   "source": []
  },
  {
   "cell_type": "code",
   "execution_count": 25,
   "id": "429db18f",
   "metadata": {},
   "outputs": [
    {
     "data": {
      "text/plain": [
       "array(['I', 'II', 'III', 'IV', 'V'], dtype='<U3')"
      ]
     },
     "execution_count": 25,
     "metadata": {},
     "output_type": "execute_result"
    }
   ],
   "source": [
    "model.classes_"
   ]
  },
  {
   "cell_type": "code",
   "execution_count": 26,
   "id": "caa87e9f",
   "metadata": {},
   "outputs": [
    {
     "data": {
      "text/plain": [
       "array([-2.30258509, -0.69314718, -1.60943791, -2.30258509, -2.30258509])"
      ]
     },
     "execution_count": 26,
     "metadata": {},
     "output_type": "execute_result"
    }
   ],
   "source": [
    "model.class_log_prior_"
   ]
  },
  {
   "cell_type": "code",
   "execution_count": 20,
   "id": "ee252bf7",
   "metadata": {},
   "outputs": [
    {
     "data": {
      "text/plain": [
       "array([1., 5., 2., 1., 1.])"
      ]
     },
     "execution_count": 20,
     "metadata": {},
     "output_type": "execute_result"
    }
   ],
   "source": [
    "model.class_count_"
   ]
  },
  {
   "cell_type": "code",
   "execution_count": 27,
   "id": "3cd2462e",
   "metadata": {},
   "outputs": [
    {
     "data": {
      "text/plain": [
       "[array([[-0.69314718, -1.38629436, -1.38629436],\n",
       "        [-0.47000363, -1.38629436, -2.07944154],\n",
       "        [-0.91629073, -1.60943791, -0.91629073],\n",
       "        [-1.38629436, -1.38629436, -0.69314718],\n",
       "        [-1.38629436, -1.38629436, -0.69314718]]),\n",
       " array([[-0.40546511, -1.09861229],\n",
       "        [-0.15415068, -1.94591015],\n",
       "        [-0.28768207, -1.38629436],\n",
       "        [-1.09861229, -0.40546511],\n",
       "        [-0.40546511, -1.09861229]]),\n",
       " array([[-0.40546511, -1.09861229],\n",
       "        [-0.84729786, -0.55961579],\n",
       "        [-1.38629436, -0.28768207],\n",
       "        [-1.09861229, -0.40546511],\n",
       "        [-0.40546511, -1.09861229]]),\n",
       " array([[-0.40546511, -1.09861229],\n",
       "        [-1.94591015, -0.15415068],\n",
       "        [-1.38629436, -0.28768207],\n",
       "        [-1.09861229, -0.40546511],\n",
       "        [-1.09861229, -0.40546511]]),\n",
       " array([[-1.60943791, -0.91629073, -1.60943791, -1.60943791],\n",
       "        [-2.19722458, -0.58778666, -2.19722458, -1.5040774 ],\n",
       "        [-1.79175947, -1.79175947, -1.09861229, -1.09861229],\n",
       "        [-0.91629073, -1.60943791, -1.60943791, -1.60943791],\n",
       "        [-0.91629073, -1.60943791, -1.60943791, -1.60943791]]),\n",
       " array([[-1.09861229, -0.40546511],\n",
       "        [-1.94591015, -0.15415068],\n",
       "        [-0.69314718, -0.69314718],\n",
       "        [-0.40546511, -1.09861229],\n",
       "        [-0.40546511, -1.09861229]]),\n",
       " array([[-0.91629073, -1.60943791, -1.60943791, -1.60943791],\n",
       "        [-0.40546511, -2.19722458, -2.19722458, -2.19722458],\n",
       "        [-1.09861229, -1.79175947, -1.79175947, -1.09861229],\n",
       "        [-1.60943791, -0.91629073, -1.60943791, -1.60943791],\n",
       "        [-1.60943791, -1.60943791, -0.91629073, -1.60943791]]),\n",
       " array([[-0.69314718, -1.38629436, -1.38629436],\n",
       "        [-0.47000363, -2.07944154, -1.38629436],\n",
       "        [-1.60943791, -0.91629073, -0.91629073],\n",
       "        [-0.69314718, -1.38629436, -1.38629436],\n",
       "        [-1.38629436, -0.69314718, -1.38629436]]),\n",
       " array([[-1.38629436, -1.38629436, -0.69314718],\n",
       "        [-1.38629436, -0.98082925, -0.98082925],\n",
       "        [-1.60943791, -1.60943791, -0.51082562],\n",
       "        [-1.38629436, -1.38629436, -0.69314718],\n",
       "        [-1.38629436, -1.38629436, -0.69314718]]),\n",
       " array([[-1.09861229, -0.40546511],\n",
       "        [-0.55961579, -0.84729786],\n",
       "        [-1.38629436, -0.28768207],\n",
       "        [-1.09861229, -0.40546511],\n",
       "        [-1.09861229, -0.40546511]])]"
      ]
     },
     "execution_count": 27,
     "metadata": {},
     "output_type": "execute_result"
    }
   ],
   "source": [
    "model.feature_log_prob_"
   ]
  },
  {
   "cell_type": "code",
   "execution_count": null,
   "id": "05ee46bd",
   "metadata": {},
   "outputs": [],
   "source": []
  },
  {
   "cell_type": "code",
   "execution_count": 26,
   "id": "72fcf593",
   "metadata": {},
   "outputs": [
    {
     "data": {
      "text/plain": [
       "array(['I', 'II', 'III', 'IV', 'V'], dtype='<U3')"
      ]
     },
     "execution_count": 26,
     "metadata": {},
     "output_type": "execute_result"
    }
   ],
   "source": [
    "model.classes_"
   ]
  },
  {
   "cell_type": "code",
   "execution_count": 41,
   "id": "11990be2",
   "metadata": {},
   "outputs": [
    {
     "data": {
      "text/plain": [
       "array([10,  3,  2,  2,  2,  4,  2,  4,  3,  3,  2])"
      ]
     },
     "execution_count": 41,
     "metadata": {},
     "output_type": "execute_result"
    }
   ],
   "source": [
    "model.n_categories_"
   ]
  },
  {
   "cell_type": "code",
   "execution_count": 10,
   "id": "af278bad",
   "metadata": {},
   "outputs": [
    {
     "data": {
      "text/plain": [
       "[array([[0., 0., 0., 0., 0., 0., 1., 0., 0., 0.],\n",
       "        [0., 0., 0., 0., 1., 1., 0., 1., 1., 1.],\n",
       "        [1., 0., 0., 1., 0., 0., 0., 0., 0., 0.],\n",
       "        [0., 1., 0., 0., 0., 0., 0., 0., 0., 0.],\n",
       "        [0., 0., 1., 0., 0., 0., 0., 0., 0., 0.]]),\n",
       " array([[1., 0., 0.],\n",
       "        [4., 1., 0.],\n",
       "        [1., 0., 1.],\n",
       "        [0., 0., 1.],\n",
       "        [0., 0., 1.]]),\n",
       " array([[1., 0.],\n",
       "        [5., 0.],\n",
       "        [2., 0.],\n",
       "        [0., 1.],\n",
       "        [1., 0.]]),\n",
       " array([[1., 0.],\n",
       "        [2., 3.],\n",
       "        [0., 2.],\n",
       "        [0., 1.],\n",
       "        [1., 0.]]),\n",
       " array([[1., 0.],\n",
       "        [0., 5.],\n",
       "        [0., 2.],\n",
       "        [0., 1.],\n",
       "        [0., 1.]]),\n",
       " array([[0., 1., 0., 0.],\n",
       "        [0., 4., 0., 1.],\n",
       "        [0., 0., 1., 1.],\n",
       "        [1., 0., 0., 0.],\n",
       "        [1., 0., 0., 0.]]),\n",
       " array([[0., 1.],\n",
       "        [0., 5.],\n",
       "        [1., 1.],\n",
       "        [1., 0.],\n",
       "        [1., 0.]]),\n",
       " array([[1., 0., 0., 0.],\n",
       "        [5., 0., 0., 0.],\n",
       "        [1., 0., 0., 1.],\n",
       "        [0., 1., 0., 0.],\n",
       "        [0., 0., 1., 0.]]),\n",
       " array([[1., 0., 0.],\n",
       "        [4., 0., 1.],\n",
       "        [0., 1., 1.],\n",
       "        [1., 0., 0.],\n",
       "        [0., 1., 0.]]),\n",
       " array([[0., 0., 1.],\n",
       "        [1., 2., 2.],\n",
       "        [0., 0., 2.],\n",
       "        [0., 0., 1.],\n",
       "        [0., 0., 1.]]),\n",
       " array([[0., 1.],\n",
       "        [3., 2.],\n",
       "        [0., 2.],\n",
       "        [0., 1.],\n",
       "        [0., 1.]])]"
      ]
     },
     "execution_count": 10,
     "metadata": {},
     "output_type": "execute_result"
    }
   ],
   "source": [
    "model.category_count_"
   ]
  },
  {
   "cell_type": "code",
   "execution_count": 34,
   "id": "e918af51",
   "metadata": {},
   "outputs": [
    {
     "data": {
      "text/plain": [
       "array([[0., 0., 0., 0., 0., 0., 1., 0., 0., 0.],\n",
       "       [0., 0., 0., 0., 1., 1., 0., 1., 1., 1.],\n",
       "       [1., 0., 0., 1., 0., 0., 0., 0., 0., 0.],\n",
       "       [0., 1., 0., 0., 0., 0., 0., 0., 0., 0.],\n",
       "       [0., 0., 1., 0., 0., 0., 0., 0., 0., 0.]])"
      ]
     },
     "execution_count": 34,
     "metadata": {},
     "output_type": "execute_result"
    }
   ],
   "source": [
    "model.category_count_[0]"
   ]
  },
  {
   "cell_type": "code",
   "execution_count": 29,
   "id": "913b6940",
   "metadata": {},
   "outputs": [
    {
     "name": "stderr",
     "output_type": "stream",
     "text": [
      "D:\\python39\\python38\\venv\\lib\\site-packages\\pandas\\core\\internals\\construction.py:309: VisibleDeprecationWarning: Creating an ndarray from ragged nested sequences (which is a list-or-tuple of lists-or-tuples-or ndarrays with different lengths or shapes) is deprecated. If you meant to do this, you must specify 'dtype=object' when creating the ndarray.\n",
      "  values = np.array([convert(v) for v in values])\n"
     ]
    },
    {
     "data": {
      "text/html": [
       "<div>\n",
       "<style scoped>\n",
       "    .dataframe tbody tr th:only-of-type {\n",
       "        vertical-align: middle;\n",
       "    }\n",
       "\n",
       "    .dataframe tbody tr th {\n",
       "        vertical-align: top;\n",
       "    }\n",
       "\n",
       "    .dataframe thead th {\n",
       "        text-align: right;\n",
       "    }\n",
       "</style>\n",
       "<table border=\"1\" class=\"dataframe\">\n",
       "  <thead>\n",
       "    <tr style=\"text-align: right;\">\n",
       "      <th></th>\n",
       "      <th>0</th>\n",
       "    </tr>\n",
       "  </thead>\n",
       "  <tbody>\n",
       "    <tr>\n",
       "      <th>0</th>\n",
       "      <td>[[0.0, 0.0, 0.0, 0.0, 0.0, 0.0, 1.0, 0.0, 0.0,...</td>\n",
       "    </tr>\n",
       "    <tr>\n",
       "      <th>1</th>\n",
       "      <td>[[1.0, 0.0, 0.0], [4.0, 1.0, 0.0], [1.0, 0.0, ...</td>\n",
       "    </tr>\n",
       "    <tr>\n",
       "      <th>2</th>\n",
       "      <td>[[1.0, 0.0], [5.0, 0.0], [2.0, 0.0], [0.0, 1.0...</td>\n",
       "    </tr>\n",
       "    <tr>\n",
       "      <th>3</th>\n",
       "      <td>[[1.0, 0.0], [2.0, 3.0], [0.0, 2.0], [0.0, 1.0...</td>\n",
       "    </tr>\n",
       "    <tr>\n",
       "      <th>4</th>\n",
       "      <td>[[1.0, 0.0], [0.0, 5.0], [0.0, 2.0], [0.0, 1.0...</td>\n",
       "    </tr>\n",
       "    <tr>\n",
       "      <th>5</th>\n",
       "      <td>[[0.0, 1.0, 0.0, 0.0], [0.0, 4.0, 0.0, 1.0], [...</td>\n",
       "    </tr>\n",
       "    <tr>\n",
       "      <th>6</th>\n",
       "      <td>[[0.0, 1.0], [0.0, 5.0], [1.0, 1.0], [1.0, 0.0...</td>\n",
       "    </tr>\n",
       "    <tr>\n",
       "      <th>7</th>\n",
       "      <td>[[1.0, 0.0, 0.0, 0.0], [5.0, 0.0, 0.0, 0.0], [...</td>\n",
       "    </tr>\n",
       "    <tr>\n",
       "      <th>8</th>\n",
       "      <td>[[1.0, 0.0, 0.0], [4.0, 0.0, 1.0], [0.0, 1.0, ...</td>\n",
       "    </tr>\n",
       "    <tr>\n",
       "      <th>9</th>\n",
       "      <td>[[0.0, 0.0, 1.0], [1.0, 2.0, 2.0], [0.0, 0.0, ...</td>\n",
       "    </tr>\n",
       "    <tr>\n",
       "      <th>10</th>\n",
       "      <td>[[0.0, 1.0], [3.0, 2.0], [0.0, 2.0], [0.0, 1.0...</td>\n",
       "    </tr>\n",
       "  </tbody>\n",
       "</table>\n",
       "</div>"
      ],
      "text/plain": [
       "                                                    0\n",
       "0   [[0.0, 0.0, 0.0, 0.0, 0.0, 0.0, 1.0, 0.0, 0.0,...\n",
       "1   [[1.0, 0.0, 0.0], [4.0, 1.0, 0.0], [1.0, 0.0, ...\n",
       "2   [[1.0, 0.0], [5.0, 0.0], [2.0, 0.0], [0.0, 1.0...\n",
       "3   [[1.0, 0.0], [2.0, 3.0], [0.0, 2.0], [0.0, 1.0...\n",
       "4   [[1.0, 0.0], [0.0, 5.0], [0.0, 2.0], [0.0, 1.0...\n",
       "5   [[0.0, 1.0, 0.0, 0.0], [0.0, 4.0, 0.0, 1.0], [...\n",
       "6   [[0.0, 1.0], [0.0, 5.0], [1.0, 1.0], [1.0, 0.0...\n",
       "7   [[1.0, 0.0, 0.0, 0.0], [5.0, 0.0, 0.0, 0.0], [...\n",
       "8   [[1.0, 0.0, 0.0], [4.0, 0.0, 1.0], [0.0, 1.0, ...\n",
       "9   [[0.0, 0.0, 1.0], [1.0, 2.0, 2.0], [0.0, 0.0, ...\n",
       "10  [[0.0, 1.0], [3.0, 2.0], [0.0, 2.0], [0.0, 1.0..."
      ]
     },
     "execution_count": 29,
     "metadata": {},
     "output_type": "execute_result"
    }
   ],
   "source": [
    "pd.DataFrame(model.category_count_)"
   ]
  },
  {
   "cell_type": "code",
   "execution_count": 48,
   "id": "6b791ead",
   "metadata": {},
   "outputs": [
    {
     "data": {
      "text/plain": [
       "3.4011973816621555"
      ]
     },
     "execution_count": 48,
     "metadata": {},
     "output_type": "execute_result"
    }
   ],
   "source": [
    "np.log(30)"
   ]
  },
  {
   "cell_type": "code",
   "execution_count": 49,
   "id": "38567763",
   "metadata": {},
   "outputs": [
    {
     "data": {
      "text/plain": [
       "2.302585092994046"
      ]
     },
     "execution_count": 49,
     "metadata": {},
     "output_type": "execute_result"
    }
   ],
   "source": [
    "np.log(10)"
   ]
  },
  {
   "cell_type": "code",
   "execution_count": 50,
   "id": "ff0c833a",
   "metadata": {},
   "outputs": [
    {
     "data": {
      "text/plain": [
       "1.0"
      ]
     },
     "execution_count": 50,
     "metadata": {},
     "output_type": "execute_result"
    }
   ],
   "source": [
    "np.log10(10)"
   ]
  },
  {
   "cell_type": "code",
   "execution_count": 51,
   "id": "fa5ab2f8",
   "metadata": {},
   "outputs": [
    {
     "data": {
      "text/plain": [
       "array([-2.30258509, -0.69314718, -1.60943791, -2.30258509, -2.30258509])"
      ]
     },
     "execution_count": 51,
     "metadata": {},
     "output_type": "execute_result"
    }
   ],
   "source": [
    "model.class_log_prior_"
   ]
  },
  {
   "cell_type": "code",
   "execution_count": 67,
   "id": "0ba736cb",
   "metadata": {},
   "outputs": [
    {
     "data": {
      "text/plain": [
       "{'alpha': 1.0, 'class_prior': None, 'fit_prior': True, 'min_categories': None}"
      ]
     },
     "execution_count": 67,
     "metadata": {},
     "output_type": "execute_result"
    }
   ],
   "source": [
    "model.get_params()"
   ]
  },
  {
   "cell_type": "code",
   "execution_count": 75,
   "id": "0a3b6cb1",
   "metadata": {},
   "outputs": [],
   "source": []
  },
  {
   "cell_type": "code",
   "execution_count": 68,
   "id": "9cbb234d",
   "metadata": {},
   "outputs": [
    {
     "name": "stderr",
     "output_type": "stream",
     "text": [
      "D:\\python39\\python38\\venv\\lib\\site-packages\\sklearn\\utils\\deprecation.py:101: FutureWarning: Attribute coef_ was deprecated in version 0.24 and will be removed in 1.1 (renaming of 0.26).\n",
      "  warnings.warn(msg, category=FutureWarning)\n"
     ]
    },
    {
     "data": {
      "text/plain": [
       "[array([[-2.39789527, -2.39789527, -2.39789527, -2.39789527, -2.39789527,\n",
       "         -2.39789527, -1.70474809, -2.39789527, -2.39789527, -2.39789527],\n",
       "        [-2.7080502 , -2.7080502 , -2.7080502 , -2.7080502 , -2.01490302,\n",
       "         -2.01490302, -2.7080502 , -2.01490302, -2.01490302, -2.01490302],\n",
       "        [-1.79175947, -2.48490665, -2.48490665, -1.79175947, -2.48490665,\n",
       "         -2.48490665, -2.48490665, -2.48490665, -2.48490665, -2.48490665],\n",
       "        [-2.39789527, -1.70474809, -2.39789527, -2.39789527, -2.39789527,\n",
       "         -2.39789527, -2.39789527, -2.39789527, -2.39789527, -2.39789527],\n",
       "        [-2.39789527, -2.39789527, -1.70474809, -2.39789527, -2.39789527,\n",
       "         -2.39789527, -2.39789527, -2.39789527, -2.39789527, -2.39789527]]),\n",
       " array([[-0.69314718, -1.38629436, -1.38629436],\n",
       "        [-0.47000363, -1.38629436, -2.07944154],\n",
       "        [-0.91629073, -1.60943791, -0.91629073],\n",
       "        [-1.38629436, -1.38629436, -0.69314718],\n",
       "        [-1.38629436, -1.38629436, -0.69314718]]),\n",
       " array([[-0.40546511, -1.09861229],\n",
       "        [-0.15415068, -1.94591015],\n",
       "        [-0.28768207, -1.38629436],\n",
       "        [-1.09861229, -0.40546511],\n",
       "        [-0.40546511, -1.09861229]]),\n",
       " array([[-0.40546511, -1.09861229],\n",
       "        [-0.84729786, -0.55961579],\n",
       "        [-1.38629436, -0.28768207],\n",
       "        [-1.09861229, -0.40546511],\n",
       "        [-0.40546511, -1.09861229]]),\n",
       " array([[-0.40546511, -1.09861229],\n",
       "        [-1.94591015, -0.15415068],\n",
       "        [-1.38629436, -0.28768207],\n",
       "        [-1.09861229, -0.40546511],\n",
       "        [-1.09861229, -0.40546511]]),\n",
       " array([[-1.60943791, -0.91629073, -1.60943791, -1.60943791],\n",
       "        [-2.19722458, -0.58778666, -2.19722458, -1.5040774 ],\n",
       "        [-1.79175947, -1.79175947, -1.09861229, -1.09861229],\n",
       "        [-0.91629073, -1.60943791, -1.60943791, -1.60943791],\n",
       "        [-0.91629073, -1.60943791, -1.60943791, -1.60943791]]),\n",
       " array([[-1.09861229, -0.40546511],\n",
       "        [-1.94591015, -0.15415068],\n",
       "        [-0.69314718, -0.69314718],\n",
       "        [-0.40546511, -1.09861229],\n",
       "        [-0.40546511, -1.09861229]]),\n",
       " array([[-0.91629073, -1.60943791, -1.60943791, -1.60943791],\n",
       "        [-0.40546511, -2.19722458, -2.19722458, -2.19722458],\n",
       "        [-1.09861229, -1.79175947, -1.79175947, -1.09861229],\n",
       "        [-1.60943791, -0.91629073, -1.60943791, -1.60943791],\n",
       "        [-1.60943791, -1.60943791, -0.91629073, -1.60943791]]),\n",
       " array([[-0.69314718, -1.38629436, -1.38629436],\n",
       "        [-0.47000363, -2.07944154, -1.38629436],\n",
       "        [-1.60943791, -0.91629073, -0.91629073],\n",
       "        [-0.69314718, -1.38629436, -1.38629436],\n",
       "        [-1.38629436, -0.69314718, -1.38629436]]),\n",
       " array([[-1.38629436, -1.38629436, -0.69314718],\n",
       "        [-1.38629436, -0.98082925, -0.98082925],\n",
       "        [-1.60943791, -1.60943791, -0.51082562],\n",
       "        [-1.38629436, -1.38629436, -0.69314718],\n",
       "        [-1.38629436, -1.38629436, -0.69314718]]),\n",
       " array([[-1.09861229, -0.40546511],\n",
       "        [-0.55961579, -0.84729786],\n",
       "        [-1.38629436, -0.28768207],\n",
       "        [-1.09861229, -0.40546511],\n",
       "        [-1.09861229, -0.40546511]])]"
      ]
     },
     "execution_count": 68,
     "metadata": {},
     "output_type": "execute_result"
    }
   ],
   "source": [
    "model.coef_"
   ]
  },
  {
   "cell_type": "code",
   "execution_count": 53,
   "id": "cc969647",
   "metadata": {},
   "outputs": [
    {
     "data": {
      "text/plain": [
       "0.10000000029940456"
      ]
     },
     "execution_count": 53,
     "metadata": {},
     "output_type": "execute_result"
    }
   ],
   "source": [
    "np.exp(-2.30258509)"
   ]
  },
  {
   "cell_type": "code",
   "execution_count": 54,
   "id": "bbbf2b7b",
   "metadata": {},
   "outputs": [
    {
     "data": {
      "text/plain": [
       "4.1588830833596715"
      ]
     },
     "execution_count": 54,
     "metadata": {},
     "output_type": "execute_result"
    }
   ],
   "source": [
    "np.log(64)"
   ]
  },
  {
   "cell_type": "code",
   "execution_count": 55,
   "id": "086b44a7",
   "metadata": {},
   "outputs": [
    {
     "data": {
      "text/plain": [
       "63.99999999999998"
      ]
     },
     "execution_count": 55,
     "metadata": {},
     "output_type": "execute_result"
    }
   ],
   "source": [
    "np.exp(4.1588830833596715)"
   ]
  },
  {
   "cell_type": "code",
   "execution_count": 56,
   "id": "2d2f7257",
   "metadata": {},
   "outputs": [
    {
     "data": {
      "text/plain": [
       "1.806179973983887"
      ]
     },
     "execution_count": 56,
     "metadata": {},
     "output_type": "execute_result"
    }
   ],
   "source": [
    "np. (64)"
   ]
  },
  {
   "cell_type": "code",
   "execution_count": 76,
   "id": "05bca7bd",
   "metadata": {},
   "outputs": [
    {
     "data": {
      "text/plain": [
       "[array([[-2.39789527, -2.39789527, -2.39789527, -2.39789527, -2.39789527,\n",
       "         -2.39789527, -1.70474809, -2.39789527, -2.39789527, -2.39789527],\n",
       "        [-2.7080502 , -2.7080502 , -2.7080502 , -2.7080502 , -2.01490302,\n",
       "         -2.01490302, -2.7080502 , -2.01490302, -2.01490302, -2.01490302],\n",
       "        [-1.79175947, -2.48490665, -2.48490665, -1.79175947, -2.48490665,\n",
       "         -2.48490665, -2.48490665, -2.48490665, -2.48490665, -2.48490665],\n",
       "        [-2.39789527, -1.70474809, -2.39789527, -2.39789527, -2.39789527,\n",
       "         -2.39789527, -2.39789527, -2.39789527, -2.39789527, -2.39789527],\n",
       "        [-2.39789527, -2.39789527, -1.70474809, -2.39789527, -2.39789527,\n",
       "         -2.39789527, -2.39789527, -2.39789527, -2.39789527, -2.39789527]]),\n",
       " array([[-0.69314718, -1.38629436, -1.38629436],\n",
       "        [-0.47000363, -1.38629436, -2.07944154],\n",
       "        [-0.91629073, -1.60943791, -0.91629073],\n",
       "        [-1.38629436, -1.38629436, -0.69314718],\n",
       "        [-1.38629436, -1.38629436, -0.69314718]]),\n",
       " array([[-0.40546511, -1.09861229],\n",
       "        [-0.15415068, -1.94591015],\n",
       "        [-0.28768207, -1.38629436],\n",
       "        [-1.09861229, -0.40546511],\n",
       "        [-0.40546511, -1.09861229]]),\n",
       " array([[-0.40546511, -1.09861229],\n",
       "        [-0.84729786, -0.55961579],\n",
       "        [-1.38629436, -0.28768207],\n",
       "        [-1.09861229, -0.40546511],\n",
       "        [-0.40546511, -1.09861229]]),\n",
       " array([[-0.40546511, -1.09861229],\n",
       "        [-1.94591015, -0.15415068],\n",
       "        [-1.38629436, -0.28768207],\n",
       "        [-1.09861229, -0.40546511],\n",
       "        [-1.09861229, -0.40546511]]),\n",
       " array([[-1.60943791, -0.91629073, -1.60943791, -1.60943791],\n",
       "        [-2.19722458, -0.58778666, -2.19722458, -1.5040774 ],\n",
       "        [-1.79175947, -1.79175947, -1.09861229, -1.09861229],\n",
       "        [-0.91629073, -1.60943791, -1.60943791, -1.60943791],\n",
       "        [-0.91629073, -1.60943791, -1.60943791, -1.60943791]]),\n",
       " array([[-1.09861229, -0.40546511],\n",
       "        [-1.94591015, -0.15415068],\n",
       "        [-0.69314718, -0.69314718],\n",
       "        [-0.40546511, -1.09861229],\n",
       "        [-0.40546511, -1.09861229]]),\n",
       " array([[-0.91629073, -1.60943791, -1.60943791, -1.60943791],\n",
       "        [-0.40546511, -2.19722458, -2.19722458, -2.19722458],\n",
       "        [-1.09861229, -1.79175947, -1.79175947, -1.09861229],\n",
       "        [-1.60943791, -0.91629073, -1.60943791, -1.60943791],\n",
       "        [-1.60943791, -1.60943791, -0.91629073, -1.60943791]]),\n",
       " array([[-0.69314718, -1.38629436, -1.38629436],\n",
       "        [-0.47000363, -2.07944154, -1.38629436],\n",
       "        [-1.60943791, -0.91629073, -0.91629073],\n",
       "        [-0.69314718, -1.38629436, -1.38629436],\n",
       "        [-1.38629436, -0.69314718, -1.38629436]]),\n",
       " array([[-1.38629436, -1.38629436, -0.69314718],\n",
       "        [-1.38629436, -0.98082925, -0.98082925],\n",
       "        [-1.60943791, -1.60943791, -0.51082562],\n",
       "        [-1.38629436, -1.38629436, -0.69314718],\n",
       "        [-1.38629436, -1.38629436, -0.69314718]]),\n",
       " array([[-1.09861229, -0.40546511],\n",
       "        [-0.55961579, -0.84729786],\n",
       "        [-1.38629436, -0.28768207],\n",
       "        [-1.09861229, -0.40546511],\n",
       "        [-1.09861229, -0.40546511]])]"
      ]
     },
     "execution_count": 76,
     "metadata": {},
     "output_type": "execute_result"
    }
   ],
   "source": [
    "model.feature_log_prob_"
   ]
  },
  {
   "cell_type": "code",
   "execution_count": 88,
   "id": "14b8e97a",
   "metadata": {},
   "outputs": [
    {
     "data": {
      "text/plain": [
       "array(['I', 'II', 'III', 'IV', 'V'], dtype='<U3')"
      ]
     },
     "execution_count": 88,
     "metadata": {},
     "output_type": "execute_result"
    }
   ],
   "source": [
    "model.classes_"
   ]
  },
  {
   "cell_type": "code",
   "execution_count": 86,
   "id": "6c9f90d7",
   "metadata": {},
   "outputs": [
    {
     "data": {
      "text/plain": [
       "array([1., 5., 2., 1., 1.])"
      ]
     },
     "execution_count": 86,
     "metadata": {},
     "output_type": "execute_result"
    }
   ],
   "source": [
    "model.class_count_"
   ]
  },
  {
   "cell_type": "code",
   "execution_count": 87,
   "id": "ba465ec3",
   "metadata": {},
   "outputs": [
    {
     "data": {
      "text/plain": [
       "11"
      ]
     },
     "execution_count": 87,
     "metadata": {},
     "output_type": "execute_result"
    }
   ],
   "source": [
    "model.n_features_"
   ]
  },
  {
   "cell_type": "code",
   "execution_count": 92,
   "id": "a7731217",
   "metadata": {},
   "outputs": [
    {
     "data": {
      "text/plain": [
       "11"
      ]
     },
     "execution_count": 92,
     "metadata": {},
     "output_type": "execute_result"
    }
   ],
   "source": [
    "model.n_features_"
   ]
  },
  {
   "cell_type": "code",
   "execution_count": null,
   "id": "9dc8be72",
   "metadata": {},
   "outputs": [],
   "source": [
    " for i in range(self.n_features_):\n",
    "            X_feature = X[:, i]\n",
    "            self.category_count_[i] = _update_cat_count_dims(\n",
    "                self.category_count_[i], self.n_categories_[i] - 1)\n",
    "            _update_cat_count(X_feature, Y,\n",
    "                              self.category_count_[i],\n",
    "                              self.class_count_.shape[0])"
   ]
  },
  {
   "cell_type": "code",
   "execution_count": null,
   "id": "f8e154d1",
   "metadata": {},
   "outputs": [],
   "source": [
    "self.category_count_ = [np.zeros((n_effective_classes, 0))\n",
    "                                for _ in range(n_features)]"
   ]
  },
  {
   "cell_type": "code",
   "execution_count": 9,
   "id": "540ca327",
   "metadata": {},
   "outputs": [
    {
     "data": {
      "text/plain": [
       "[array([[0., 0., 0., 0., 0., 0., 1., 0., 0., 0.],\n",
       "        [0., 0., 0., 0., 1., 1., 0., 1., 1., 1.],\n",
       "        [1., 0., 0., 1., 0., 0., 0., 0., 0., 0.],\n",
       "        [0., 1., 0., 0., 0., 0., 0., 0., 0., 0.],\n",
       "        [0., 0., 1., 0., 0., 0., 0., 0., 0., 0.]]),\n",
       " array([[1., 0., 0.],\n",
       "        [4., 1., 0.],\n",
       "        [1., 0., 1.],\n",
       "        [0., 0., 1.],\n",
       "        [0., 0., 1.]]),\n",
       " array([[1., 0.],\n",
       "        [5., 0.],\n",
       "        [2., 0.],\n",
       "        [0., 1.],\n",
       "        [1., 0.]]),\n",
       " array([[1., 0.],\n",
       "        [2., 3.],\n",
       "        [0., 2.],\n",
       "        [0., 1.],\n",
       "        [1., 0.]]),\n",
       " array([[1., 0.],\n",
       "        [0., 5.],\n",
       "        [0., 2.],\n",
       "        [0., 1.],\n",
       "        [0., 1.]]),\n",
       " array([[0., 1., 0., 0.],\n",
       "        [0., 4., 0., 1.],\n",
       "        [0., 0., 1., 1.],\n",
       "        [1., 0., 0., 0.],\n",
       "        [1., 0., 0., 0.]]),\n",
       " array([[0., 1.],\n",
       "        [0., 5.],\n",
       "        [1., 1.],\n",
       "        [1., 0.],\n",
       "        [1., 0.]]),\n",
       " array([[1., 0., 0., 0.],\n",
       "        [5., 0., 0., 0.],\n",
       "        [1., 0., 0., 1.],\n",
       "        [0., 1., 0., 0.],\n",
       "        [0., 0., 1., 0.]]),\n",
       " array([[1., 0., 0.],\n",
       "        [4., 0., 1.],\n",
       "        [0., 1., 1.],\n",
       "        [1., 0., 0.],\n",
       "        [0., 1., 0.]]),\n",
       " array([[0., 0., 1.],\n",
       "        [1., 2., 2.],\n",
       "        [0., 0., 2.],\n",
       "        [0., 0., 1.],\n",
       "        [0., 0., 1.]]),\n",
       " array([[0., 1.],\n",
       "        [3., 2.],\n",
       "        [0., 2.],\n",
       "        [0., 1.],\n",
       "        [0., 1.]])]"
      ]
     },
     "execution_count": 9,
     "metadata": {},
     "output_type": "execute_result"
    }
   ],
   "source": [
    "model.category_count_"
   ]
  },
  {
   "cell_type": "code",
   "execution_count": null,
   "id": "b1bad32d",
   "metadata": {},
   "outputs": [],
   "source": []
  },
  {
   "cell_type": "code",
   "execution_count": 102,
   "id": "255db9d1",
   "metadata": {},
   "outputs": [
    {
     "data": {
      "text/plain": [
       "array([1., 5., 2., 1., 1.])"
      ]
     },
     "execution_count": 102,
     "metadata": {},
     "output_type": "execute_result"
    }
   ],
   "source": [
    "model.class_count_"
   ]
  },
  {
   "cell_type": "code",
   "execution_count": 107,
   "id": "f209bb4d",
   "metadata": {},
   "outputs": [
    {
     "ename": "TypeError",
     "evalue": "predict_proba() missing 1 required positional argument: 'X'",
     "output_type": "error",
     "traceback": [
      "\u001b[1;31m---------------------------------------------------------------------------\u001b[0m",
      "\u001b[1;31mTypeError\u001b[0m                                 Traceback (most recent call last)",
      "\u001b[1;32m<ipython-input-107-33cfb5b39811>\u001b[0m in \u001b[0;36m<module>\u001b[1;34m\u001b[0m\n\u001b[1;32m----> 1\u001b[1;33m \u001b[0mmodel\u001b[0m\u001b[1;33m.\u001b[0m\u001b[0mpredict_proba\u001b[0m\u001b[1;33m(\u001b[0m\u001b[1;33m)\u001b[0m\u001b[1;33m\u001b[0m\u001b[1;33m\u001b[0m\u001b[0m\n\u001b[0m",
      "\u001b[1;31mTypeError\u001b[0m: predict_proba() missing 1 required positional argument: 'X'"
     ]
    }
   ],
   "source": [
    "model.predict_proba()"
   ]
  },
  {
   "cell_type": "code",
   "execution_count": 100,
   "id": "0d42f78e",
   "metadata": {},
   "outputs": [
    {
     "data": {
      "text/plain": [
       "array([10,  3,  2,  2,  2,  4,  2,  4,  3,  3,  2])"
      ]
     },
     "execution_count": 100,
     "metadata": {},
     "output_type": "execute_result"
    }
   ],
   "source": [
    "model.n_categories_"
   ]
  },
  {
   "cell_type": "code",
   "execution_count": 90,
   "id": "98717b6f",
   "metadata": {},
   "outputs": [
    {
     "data": {
      "text/plain": [
       "[array([[0., 0., 0., 0., 0., 0., 1., 0., 0., 0.],\n",
       "        [0., 0., 0., 0., 1., 1., 0., 1., 1., 1.],\n",
       "        [1., 0., 0., 1., 0., 0., 0., 0., 0., 0.],\n",
       "        [0., 1., 0., 0., 0., 0., 0., 0., 0., 0.],\n",
       "        [0., 0., 1., 0., 0., 0., 0., 0., 0., 0.]]),\n",
       " array([[1., 0., 0.],\n",
       "        [4., 1., 0.],\n",
       "        [1., 0., 1.],\n",
       "        [0., 0., 1.],\n",
       "        [0., 0., 1.]]),\n",
       " array([[1., 0.],\n",
       "        [5., 0.],\n",
       "        [2., 0.],\n",
       "        [0., 1.],\n",
       "        [1., 0.]]),\n",
       " array([[1., 0.],\n",
       "        [2., 3.],\n",
       "        [0., 2.],\n",
       "        [0., 1.],\n",
       "        [1., 0.]]),\n",
       " array([[1., 0.],\n",
       "        [0., 5.],\n",
       "        [0., 2.],\n",
       "        [0., 1.],\n",
       "        [0., 1.]]),\n",
       " array([[0., 1., 0., 0.],\n",
       "        [0., 4., 0., 1.],\n",
       "        [0., 0., 1., 1.],\n",
       "        [1., 0., 0., 0.],\n",
       "        [1., 0., 0., 0.]]),\n",
       " array([[0., 1.],\n",
       "        [0., 5.],\n",
       "        [1., 1.],\n",
       "        [1., 0.],\n",
       "        [1., 0.]]),\n",
       " array([[1., 0., 0., 0.],\n",
       "        [5., 0., 0., 0.],\n",
       "        [1., 0., 0., 1.],\n",
       "        [0., 1., 0., 0.],\n",
       "        [0., 0., 1., 0.]]),\n",
       " array([[1., 0., 0.],\n",
       "        [4., 0., 1.],\n",
       "        [0., 1., 1.],\n",
       "        [1., 0., 0.],\n",
       "        [0., 1., 0.]]),\n",
       " array([[0., 0., 1.],\n",
       "        [1., 2., 2.],\n",
       "        [0., 0., 2.],\n",
       "        [0., 0., 1.],\n",
       "        [0., 0., 1.]]),\n",
       " array([[0., 1.],\n",
       "        [3., 2.],\n",
       "        [0., 2.],\n",
       "        [0., 1.],\n",
       "        [0., 1.]])]"
      ]
     },
     "execution_count": 90,
     "metadata": {},
     "output_type": "execute_result"
    }
   ],
   "source": [
    "model.category_count_"
   ]
  },
  {
   "cell_type": "code",
   "execution_count": 97,
   "id": "a9050a5f",
   "metadata": {},
   "outputs": [
    {
     "data": {
      "text/plain": [
       "11"
      ]
     },
     "execution_count": 97,
     "metadata": {},
     "output_type": "execute_result"
    }
   ],
   "source": [
    "model.n_features_"
   ]
  },
  {
   "cell_type": "code",
   "execution_count": 99,
   "id": "6dfe985f",
   "metadata": {},
   "outputs": [
    {
     "data": {
      "text/plain": [
       "array([-2.30258509, -0.69314718, -1.60943791, -2.30258509, -2.30258509])"
      ]
     },
     "execution_count": 99,
     "metadata": {},
     "output_type": "execute_result"
    }
   ],
   "source": [
    "model.class_log_prior_"
   ]
  },
  {
   "cell_type": "code",
   "execution_count": null,
   "id": "1a8b673b",
   "metadata": {},
   "outputs": [],
   "source": [
    "for i in range(11):\n",
    "    prnt()"
   ]
  },
  {
   "cell_type": "code",
   "execution_count": 80,
   "id": "f423cc93",
   "metadata": {},
   "outputs": [],
   "source": [
    "def update_feature_log_prob(alpha):\n",
    "    feature_log_prob = []\n",
    "    for i in range(model.n_features_):\n",
    "        smoothed_cat_count = model.category_count_[i] + alpha\n",
    "        smoothed_class_count = smoothed_cat_count.sum(axis=1)\n",
    "        feature_log_prob.append(\n",
    "            np.log(smoothed_cat_count) -\n",
    "            np.log(smoothed_class_count.reshape(-1, 1)))\n",
    "#     self.feature_log_prob_ = feature_log_prob\n",
    "    return feature_log_prob"
   ]
  },
  {
   "cell_type": "code",
   "execution_count": 96,
   "id": "a64baba6",
   "metadata": {},
   "outputs": [
    {
     "data": {
      "text/plain": [
       "0.6931471805599453"
      ]
     },
     "execution_count": 96,
     "metadata": {},
     "output_type": "execute_result"
    }
   ],
   "source": []
  },
  {
   "cell_type": "code",
   "execution_count": 83,
   "id": "c17ab077",
   "metadata": {},
   "outputs": [
    {
     "data": {
      "text/plain": [
       "[array([[-2.39789527, -2.39789527, -2.39789527, -2.39789527, -2.39789527,\n",
       "         -2.39789527, -1.70474809, -2.39789527, -2.39789527, -2.39789527],\n",
       "        [-2.7080502 , -2.7080502 , -2.7080502 , -2.7080502 , -2.01490302,\n",
       "         -2.01490302, -2.7080502 , -2.01490302, -2.01490302, -2.01490302],\n",
       "        [-1.79175947, -2.48490665, -2.48490665, -1.79175947, -2.48490665,\n",
       "         -2.48490665, -2.48490665, -2.48490665, -2.48490665, -2.48490665],\n",
       "        [-2.39789527, -1.70474809, -2.39789527, -2.39789527, -2.39789527,\n",
       "         -2.39789527, -2.39789527, -2.39789527, -2.39789527, -2.39789527],\n",
       "        [-2.39789527, -2.39789527, -1.70474809, -2.39789527, -2.39789527,\n",
       "         -2.39789527, -2.39789527, -2.39789527, -2.39789527, -2.39789527]]),\n",
       " array([[-0.69314718, -1.38629436, -1.38629436],\n",
       "        [-0.47000363, -1.38629436, -2.07944154],\n",
       "        [-0.91629073, -1.60943791, -0.91629073],\n",
       "        [-1.38629436, -1.38629436, -0.69314718],\n",
       "        [-1.38629436, -1.38629436, -0.69314718]]),\n",
       " array([[-0.40546511, -1.09861229],\n",
       "        [-0.15415068, -1.94591015],\n",
       "        [-0.28768207, -1.38629436],\n",
       "        [-1.09861229, -0.40546511],\n",
       "        [-0.40546511, -1.09861229]]),\n",
       " array([[-0.40546511, -1.09861229],\n",
       "        [-0.84729786, -0.55961579],\n",
       "        [-1.38629436, -0.28768207],\n",
       "        [-1.09861229, -0.40546511],\n",
       "        [-0.40546511, -1.09861229]]),\n",
       " array([[-0.40546511, -1.09861229],\n",
       "        [-1.94591015, -0.15415068],\n",
       "        [-1.38629436, -0.28768207],\n",
       "        [-1.09861229, -0.40546511],\n",
       "        [-1.09861229, -0.40546511]]),\n",
       " array([[-1.60943791, -0.91629073, -1.60943791, -1.60943791],\n",
       "        [-2.19722458, -0.58778666, -2.19722458, -1.5040774 ],\n",
       "        [-1.79175947, -1.79175947, -1.09861229, -1.09861229],\n",
       "        [-0.91629073, -1.60943791, -1.60943791, -1.60943791],\n",
       "        [-0.91629073, -1.60943791, -1.60943791, -1.60943791]]),\n",
       " array([[-1.09861229, -0.40546511],\n",
       "        [-1.94591015, -0.15415068],\n",
       "        [-0.69314718, -0.69314718],\n",
       "        [-0.40546511, -1.09861229],\n",
       "        [-0.40546511, -1.09861229]]),\n",
       " array([[-0.91629073, -1.60943791, -1.60943791, -1.60943791],\n",
       "        [-0.40546511, -2.19722458, -2.19722458, -2.19722458],\n",
       "        [-1.09861229, -1.79175947, -1.79175947, -1.09861229],\n",
       "        [-1.60943791, -0.91629073, -1.60943791, -1.60943791],\n",
       "        [-1.60943791, -1.60943791, -0.91629073, -1.60943791]]),\n",
       " array([[-0.69314718, -1.38629436, -1.38629436],\n",
       "        [-0.47000363, -2.07944154, -1.38629436],\n",
       "        [-1.60943791, -0.91629073, -0.91629073],\n",
       "        [-0.69314718, -1.38629436, -1.38629436],\n",
       "        [-1.38629436, -0.69314718, -1.38629436]]),\n",
       " array([[-1.38629436, -1.38629436, -0.69314718],\n",
       "        [-1.38629436, -0.98082925, -0.98082925],\n",
       "        [-1.60943791, -1.60943791, -0.51082562],\n",
       "        [-1.38629436, -1.38629436, -0.69314718],\n",
       "        [-1.38629436, -1.38629436, -0.69314718]]),\n",
       " array([[-1.09861229, -0.40546511],\n",
       "        [-0.55961579, -0.84729786],\n",
       "        [-1.38629436, -0.28768207],\n",
       "        [-1.09861229, -0.40546511],\n",
       "        [-1.09861229, -0.40546511]])]"
      ]
     },
     "execution_count": 83,
     "metadata": {},
     "output_type": "execute_result"
    }
   ],
   "source": [
    "update_feature_log_prob(1.0)"
   ]
  },
  {
   "cell_type": "code",
   "execution_count": 82,
   "id": "8d058019",
   "metadata": {},
   "outputs": [
    {
     "data": {
      "text/plain": [
       "{'alpha': 1.0, 'class_prior': None, 'fit_prior': True, 'min_categories': None}"
      ]
     },
     "execution_count": 82,
     "metadata": {},
     "output_type": "execute_result"
    }
   ],
   "source": [
    "model.get_params()"
   ]
  },
  {
   "cell_type": "code",
   "execution_count": 108,
   "id": "ac28bc94",
   "metadata": {},
   "outputs": [
    {
     "data": {
      "text/html": [
       "<div>\n",
       "<style scoped>\n",
       "    .dataframe tbody tr th:only-of-type {\n",
       "        vertical-align: middle;\n",
       "    }\n",
       "\n",
       "    .dataframe tbody tr th {\n",
       "        vertical-align: top;\n",
       "    }\n",
       "\n",
       "    .dataframe thead th {\n",
       "        text-align: right;\n",
       "    }\n",
       "</style>\n",
       "<table border=\"1\" class=\"dataframe\">\n",
       "  <thead>\n",
       "    <tr style=\"text-align: right;\">\n",
       "      <th></th>\n",
       "      <th>Unnamed: 0</th>\n",
       "      <th>jenis_bantuan</th>\n",
       "      <th>jum_saudara_kandung</th>\n",
       "      <th>wilayah</th>\n",
       "      <th>kondisi_orang_tua</th>\n",
       "      <th>pendidikan_ayah</th>\n",
       "      <th>pekerjaan_ayah</th>\n",
       "      <th>pendapatan_ayah</th>\n",
       "      <th>pendidikan_ibu</th>\n",
       "      <th>pekerjaan_ibu</th>\n",
       "      <th>pendapatan_ibu</th>\n",
       "    </tr>\n",
       "  </thead>\n",
       "  <tbody>\n",
       "    <tr>\n",
       "      <th>0</th>\n",
       "      <td>0</td>\n",
       "      <td>0</td>\n",
       "      <td>0</td>\n",
       "      <td>1</td>\n",
       "      <td>1</td>\n",
       "      <td>2</td>\n",
       "      <td>0</td>\n",
       "      <td>3</td>\n",
       "      <td>1</td>\n",
       "      <td>2</td>\n",
       "      <td>1</td>\n",
       "    </tr>\n",
       "    <tr>\n",
       "      <th>1</th>\n",
       "      <td>1</td>\n",
       "      <td>2</td>\n",
       "      <td>1</td>\n",
       "      <td>1</td>\n",
       "      <td>1</td>\n",
       "      <td>0</td>\n",
       "      <td>0</td>\n",
       "      <td>1</td>\n",
       "      <td>0</td>\n",
       "      <td>2</td>\n",
       "      <td>1</td>\n",
       "    </tr>\n",
       "    <tr>\n",
       "      <th>2</th>\n",
       "      <td>2</td>\n",
       "      <td>2</td>\n",
       "      <td>0</td>\n",
       "      <td>0</td>\n",
       "      <td>1</td>\n",
       "      <td>0</td>\n",
       "      <td>0</td>\n",
       "      <td>2</td>\n",
       "      <td>1</td>\n",
       "      <td>2</td>\n",
       "      <td>1</td>\n",
       "    </tr>\n",
       "    <tr>\n",
       "      <th>3</th>\n",
       "      <td>3</td>\n",
       "      <td>2</td>\n",
       "      <td>0</td>\n",
       "      <td>1</td>\n",
       "      <td>1</td>\n",
       "      <td>3</td>\n",
       "      <td>1</td>\n",
       "      <td>0</td>\n",
       "      <td>2</td>\n",
       "      <td>2</td>\n",
       "      <td>1</td>\n",
       "    </tr>\n",
       "    <tr>\n",
       "      <th>4</th>\n",
       "      <td>4</td>\n",
       "      <td>0</td>\n",
       "      <td>0</td>\n",
       "      <td>1</td>\n",
       "      <td>1</td>\n",
       "      <td>3</td>\n",
       "      <td>1</td>\n",
       "      <td>0</td>\n",
       "      <td>0</td>\n",
       "      <td>2</td>\n",
       "      <td>1</td>\n",
       "    </tr>\n",
       "    <tr>\n",
       "      <th>5</th>\n",
       "      <td>5</td>\n",
       "      <td>0</td>\n",
       "      <td>0</td>\n",
       "      <td>0</td>\n",
       "      <td>1</td>\n",
       "      <td>1</td>\n",
       "      <td>1</td>\n",
       "      <td>0</td>\n",
       "      <td>0</td>\n",
       "      <td>2</td>\n",
       "      <td>1</td>\n",
       "    </tr>\n",
       "    <tr>\n",
       "      <th>6</th>\n",
       "      <td>6</td>\n",
       "      <td>0</td>\n",
       "      <td>0</td>\n",
       "      <td>0</td>\n",
       "      <td>0</td>\n",
       "      <td>1</td>\n",
       "      <td>1</td>\n",
       "      <td>0</td>\n",
       "      <td>0</td>\n",
       "      <td>2</td>\n",
       "      <td>1</td>\n",
       "    </tr>\n",
       "    <tr>\n",
       "      <th>7</th>\n",
       "      <td>7</td>\n",
       "      <td>0</td>\n",
       "      <td>0</td>\n",
       "      <td>0</td>\n",
       "      <td>1</td>\n",
       "      <td>1</td>\n",
       "      <td>1</td>\n",
       "      <td>0</td>\n",
       "      <td>0</td>\n",
       "      <td>0</td>\n",
       "      <td>0</td>\n",
       "    </tr>\n",
       "    <tr>\n",
       "      <th>8</th>\n",
       "      <td>8</td>\n",
       "      <td>1</td>\n",
       "      <td>0</td>\n",
       "      <td>1</td>\n",
       "      <td>1</td>\n",
       "      <td>1</td>\n",
       "      <td>1</td>\n",
       "      <td>0</td>\n",
       "      <td>0</td>\n",
       "      <td>1</td>\n",
       "      <td>0</td>\n",
       "    </tr>\n",
       "    <tr>\n",
       "      <th>9</th>\n",
       "      <td>9</td>\n",
       "      <td>0</td>\n",
       "      <td>0</td>\n",
       "      <td>1</td>\n",
       "      <td>1</td>\n",
       "      <td>1</td>\n",
       "      <td>1</td>\n",
       "      <td>0</td>\n",
       "      <td>2</td>\n",
       "      <td>1</td>\n",
       "      <td>0</td>\n",
       "    </tr>\n",
       "  </tbody>\n",
       "</table>\n",
       "</div>"
      ],
      "text/plain": [
       "   Unnamed: 0  jenis_bantuan  jum_saudara_kandung  wilayah  kondisi_orang_tua  \\\n",
       "0           0              0                    0        1                  1   \n",
       "1           1              2                    1        1                  1   \n",
       "2           2              2                    0        0                  1   \n",
       "3           3              2                    0        1                  1   \n",
       "4           4              0                    0        1                  1   \n",
       "5           5              0                    0        0                  1   \n",
       "6           6              0                    0        0                  0   \n",
       "7           7              0                    0        0                  1   \n",
       "8           8              1                    0        1                  1   \n",
       "9           9              0                    0        1                  1   \n",
       "\n",
       "   pendidikan_ayah  pekerjaan_ayah  pendapatan_ayah  pendidikan_ibu  \\\n",
       "0                2               0                3               1   \n",
       "1                0               0                1               0   \n",
       "2                0               0                2               1   \n",
       "3                3               1                0               2   \n",
       "4                3               1                0               0   \n",
       "5                1               1                0               0   \n",
       "6                1               1                0               0   \n",
       "7                1               1                0               0   \n",
       "8                1               1                0               0   \n",
       "9                1               1                0               2   \n",
       "\n",
       "   pekerjaan_ibu  pendapatan_ibu  \n",
       "0              2               1  \n",
       "1              2               1  \n",
       "2              2               1  \n",
       "3              2               1  \n",
       "4              2               1  \n",
       "5              2               1  \n",
       "6              2               1  \n",
       "7              0               0  \n",
       "8              1               0  \n",
       "9              1               0  "
      ]
     },
     "execution_count": 108,
     "metadata": {},
     "output_type": "execute_result"
    }
   ],
   "source": [
    "x"
   ]
  },
  {
   "cell_type": "code",
   "execution_count": 28,
   "id": "4b665a45",
   "metadata": {},
   "outputs": [
    {
     "data": {
      "text/plain": [
       "[array([[-0.69314718, -1.38629436, -1.38629436],\n",
       "        [-0.47000363, -1.38629436, -2.07944154],\n",
       "        [-0.91629073, -1.60943791, -0.91629073],\n",
       "        [-1.38629436, -1.38629436, -0.69314718],\n",
       "        [-1.38629436, -1.38629436, -0.69314718]]),\n",
       " array([[-0.40546511, -1.09861229],\n",
       "        [-0.15415068, -1.94591015],\n",
       "        [-0.28768207, -1.38629436],\n",
       "        [-1.09861229, -0.40546511],\n",
       "        [-0.40546511, -1.09861229]]),\n",
       " array([[-0.40546511, -1.09861229],\n",
       "        [-0.84729786, -0.55961579],\n",
       "        [-1.38629436, -0.28768207],\n",
       "        [-1.09861229, -0.40546511],\n",
       "        [-0.40546511, -1.09861229]]),\n",
       " array([[-0.40546511, -1.09861229],\n",
       "        [-1.94591015, -0.15415068],\n",
       "        [-1.38629436, -0.28768207],\n",
       "        [-1.09861229, -0.40546511],\n",
       "        [-1.09861229, -0.40546511]]),\n",
       " array([[-1.60943791, -0.91629073, -1.60943791, -1.60943791],\n",
       "        [-2.19722458, -0.58778666, -2.19722458, -1.5040774 ],\n",
       "        [-1.79175947, -1.79175947, -1.09861229, -1.09861229],\n",
       "        [-0.91629073, -1.60943791, -1.60943791, -1.60943791],\n",
       "        [-0.91629073, -1.60943791, -1.60943791, -1.60943791]]),\n",
       " array([[-1.09861229, -0.40546511],\n",
       "        [-1.94591015, -0.15415068],\n",
       "        [-0.69314718, -0.69314718],\n",
       "        [-0.40546511, -1.09861229],\n",
       "        [-0.40546511, -1.09861229]]),\n",
       " array([[-0.91629073, -1.60943791, -1.60943791, -1.60943791],\n",
       "        [-0.40546511, -2.19722458, -2.19722458, -2.19722458],\n",
       "        [-1.09861229, -1.79175947, -1.79175947, -1.09861229],\n",
       "        [-1.60943791, -0.91629073, -1.60943791, -1.60943791],\n",
       "        [-1.60943791, -1.60943791, -0.91629073, -1.60943791]]),\n",
       " array([[-0.69314718, -1.38629436, -1.38629436],\n",
       "        [-0.47000363, -2.07944154, -1.38629436],\n",
       "        [-1.60943791, -0.91629073, -0.91629073],\n",
       "        [-0.69314718, -1.38629436, -1.38629436],\n",
       "        [-1.38629436, -0.69314718, -1.38629436]]),\n",
       " array([[-1.38629436, -1.38629436, -0.69314718],\n",
       "        [-1.38629436, -0.98082925, -0.98082925],\n",
       "        [-1.60943791, -1.60943791, -0.51082562],\n",
       "        [-1.38629436, -1.38629436, -0.69314718],\n",
       "        [-1.38629436, -1.38629436, -0.69314718]]),\n",
       " array([[-1.09861229, -0.40546511],\n",
       "        [-0.55961579, -0.84729786],\n",
       "        [-1.38629436, -0.28768207],\n",
       "        [-1.09861229, -0.40546511],\n",
       "        [-1.09861229, -0.40546511]])]"
      ]
     },
     "execution_count": 28,
     "metadata": {},
     "output_type": "execute_result"
    }
   ],
   "source": [
    "model.feature_log_prob_"
   ]
  },
  {
   "cell_type": "code",
   "execution_count": 112,
   "id": "65856efd",
   "metadata": {},
   "outputs": [
    {
     "data": {
      "text/plain": [
       "array([-2.30258509, -0.69314718, -1.60943791, -2.30258509, -2.30258509])"
      ]
     },
     "execution_count": 112,
     "metadata": {},
     "output_type": "execute_result"
    }
   ],
   "source": [
    "model.class_log_prior_"
   ]
  },
  {
   "cell_type": "code",
   "execution_count": 30,
   "id": "24b4db19",
   "metadata": {},
   "outputs": [],
   "source": [
    "def joint_log_likelihood(X):\n",
    "    if not X.shape[1] == model.n_features_:\n",
    "        raise ValueError(\"Expected input with %d features, got %d instead\"\n",
    "                         % (model.n_features_, X.shape[1]))\n",
    "    jll = np.zeros((X.shape[0], model.class_count_))\n",
    "    for i in range(model.n_features_):\n",
    "        indices = X[:, i]\n",
    "        jll += model.feature_log_prob_[i][:, indices].T\n",
    "    total_ll = jll + model.class_log_prior_\n",
    "    return total_ll"
   ]
  },
  {
   "cell_type": "code",
   "execution_count": 38,
   "id": "776ca74f",
   "metadata": {},
   "outputs": [],
   "source": [
    "def likelihood(X):\n",
    "#     if not X.shape[1] == model.n_features_:\n",
    "#         raise ValueError(\"Expected input with %d features, got %d instead\"\n",
    "#                          % (model.n_features_, X.shape[1]))\n",
    "    jll = np.zeros((X.shape[0], model.class_count_))\n",
    "    for i in range(model.n_features_):\n",
    "        indices = X[:, i]\n",
    "        jll += model.feature_log_prob_[i][:, indices].T\n",
    "    total_ll = jll + model.class_log_prior_\n",
    "    return total_ll"
   ]
  },
  {
   "cell_type": "code",
   "execution_count": 42,
   "id": "0425828e",
   "metadata": {},
   "outputs": [
    {
     "ename": "TypeError",
     "evalue": "int() argument must be a string, a bytes-like object or a number, not 'DataFrame'",
     "output_type": "error",
     "traceback": [
      "\u001b[1;31m---------------------------------------------------------------------------\u001b[0m",
      "\u001b[1;31mTypeError\u001b[0m                                 Traceback (most recent call last)",
      "\u001b[1;32m<ipython-input-42-acaae37f5ab0>\u001b[0m in \u001b[0;36m<module>\u001b[1;34m\u001b[0m\n\u001b[1;32m----> 1\u001b[1;33m \u001b[0mint\u001b[0m\u001b[1;33m(\u001b[0m\u001b[0mx\u001b[0m\u001b[1;33m)\u001b[0m\u001b[1;33m\u001b[0m\u001b[1;33m\u001b[0m\u001b[0m\n\u001b[0m",
      "\u001b[1;31mTypeError\u001b[0m: int() argument must be a string, a bytes-like object or a number, not 'DataFrame'"
     ]
    }
   ],
   "source": []
  },
  {
   "cell_type": "code",
   "execution_count": 39,
   "id": "68a9393b",
   "metadata": {},
   "outputs": [
    {
     "ename": "TypeError",
     "evalue": "only integer scalar arrays can be converted to a scalar index",
     "output_type": "error",
     "traceback": [
      "\u001b[1;31m---------------------------------------------------------------------------\u001b[0m",
      "\u001b[1;31mTypeError\u001b[0m                                 Traceback (most recent call last)",
      "\u001b[1;32m<ipython-input-39-a154b6f8a164>\u001b[0m in \u001b[0;36m<module>\u001b[1;34m\u001b[0m\n\u001b[1;32m----> 1\u001b[1;33m \u001b[0mlikelihood\u001b[0m\u001b[1;33m(\u001b[0m\u001b[0mx\u001b[0m\u001b[1;33m)\u001b[0m\u001b[1;33m\u001b[0m\u001b[1;33m\u001b[0m\u001b[0m\n\u001b[0m",
      "\u001b[1;32m<ipython-input-38-9275cd287528>\u001b[0m in \u001b[0;36mlikelihood\u001b[1;34m(X)\u001b[0m\n\u001b[0;32m      3\u001b[0m \u001b[1;31m#         raise ValueError(\"Expected input with %d features, got %d instead\"\u001b[0m\u001b[1;33m\u001b[0m\u001b[1;33m\u001b[0m\u001b[1;33m\u001b[0m\u001b[0m\n\u001b[0;32m      4\u001b[0m \u001b[1;31m#                          % (model.n_features_, X.shape[1]))\u001b[0m\u001b[1;33m\u001b[0m\u001b[1;33m\u001b[0m\u001b[1;33m\u001b[0m\u001b[0m\n\u001b[1;32m----> 5\u001b[1;33m     \u001b[0mjll\u001b[0m \u001b[1;33m=\u001b[0m \u001b[0mnp\u001b[0m\u001b[1;33m.\u001b[0m\u001b[0mzeros\u001b[0m\u001b[1;33m(\u001b[0m\u001b[1;33m(\u001b[0m\u001b[0mX\u001b[0m\u001b[1;33m.\u001b[0m\u001b[0mshape\u001b[0m\u001b[1;33m[\u001b[0m\u001b[1;36m0\u001b[0m\u001b[1;33m]\u001b[0m\u001b[1;33m,\u001b[0m \u001b[0mmodel\u001b[0m\u001b[1;33m.\u001b[0m\u001b[0mclass_count_\u001b[0m\u001b[1;33m)\u001b[0m\u001b[1;33m)\u001b[0m\u001b[1;33m\u001b[0m\u001b[1;33m\u001b[0m\u001b[0m\n\u001b[0m\u001b[0;32m      6\u001b[0m     \u001b[1;32mfor\u001b[0m \u001b[0mi\u001b[0m \u001b[1;32min\u001b[0m \u001b[0mrange\u001b[0m\u001b[1;33m(\u001b[0m\u001b[0mmodel\u001b[0m\u001b[1;33m.\u001b[0m\u001b[0mn_features_\u001b[0m\u001b[1;33m)\u001b[0m\u001b[1;33m:\u001b[0m\u001b[1;33m\u001b[0m\u001b[1;33m\u001b[0m\u001b[0m\n\u001b[0;32m      7\u001b[0m         \u001b[0mindices\u001b[0m \u001b[1;33m=\u001b[0m \u001b[0mX\u001b[0m\u001b[1;33m[\u001b[0m\u001b[1;33m:\u001b[0m\u001b[1;33m,\u001b[0m \u001b[0mi\u001b[0m\u001b[1;33m]\u001b[0m\u001b[1;33m\u001b[0m\u001b[1;33m\u001b[0m\u001b[0m\n",
      "\u001b[1;31mTypeError\u001b[0m: only integer scalar arrays can be converted to a scalar index"
     ]
    }
   ],
   "source": [
    "likelihood(x)"
   ]
  },
  {
   "cell_type": "code",
   "execution_count": 37,
   "id": "f871158c",
   "metadata": {},
   "outputs": [
    {
     "data": {
      "text/plain": [
       "array([1., 5., 2., 1., 1.])"
      ]
     },
     "execution_count": 37,
     "metadata": {},
     "output_type": "execute_result"
    }
   ],
   "source": [
    "model.class_count_"
   ]
  },
  {
   "cell_type": "code",
   "execution_count": 48,
   "id": "346d6c32",
   "metadata": {},
   "outputs": [
    {
     "ename": "TypeError",
     "evalue": "Cannot construct a dtype from an array",
     "output_type": "error",
     "traceback": [
      "\u001b[1;31m---------------------------------------------------------------------------\u001b[0m",
      "\u001b[1;31mTypeError\u001b[0m                                 Traceback (most recent call last)",
      "\u001b[1;32m<ipython-input-48-1a2fc7bfd4ce>\u001b[0m in \u001b[0;36m<module>\u001b[1;34m\u001b[0m\n\u001b[1;32m----> 1\u001b[1;33m \u001b[0mnp\u001b[0m\u001b[1;33m.\u001b[0m\u001b[0mzeros\u001b[0m\u001b[1;33m(\u001b[0m\u001b[1;36m10\u001b[0m\u001b[1;33m,\u001b[0m \u001b[0mmodel\u001b[0m\u001b[1;33m.\u001b[0m\u001b[0mclass_count_\u001b[0m\u001b[1;33m)\u001b[0m\u001b[1;33m\u001b[0m\u001b[1;33m\u001b[0m\u001b[0m\n\u001b[0m",
      "\u001b[1;31mTypeError\u001b[0m: Cannot construct a dtype from an array"
     ]
    }
   ],
   "source": [
    "np.zeros(10, model.class_count_)"
   ]
  },
  {
   "cell_type": "code",
   "execution_count": 36,
   "id": "0537dd5b",
   "metadata": {},
   "outputs": [
    {
     "ename": "SyntaxError",
     "evalue": "unmatched ')' (<ipython-input-36-52af60cb3862>, line 1)",
     "output_type": "error",
     "traceback": [
      "\u001b[1;36m  File \u001b[1;32m\"<ipython-input-36-52af60cb3862>\"\u001b[1;36m, line \u001b[1;32m1\u001b[0m\n\u001b[1;33m    np.zeros(x.shape[0], model_class_count_))\u001b[0m\n\u001b[1;37m                                            ^\u001b[0m\n\u001b[1;31mSyntaxError\u001b[0m\u001b[1;31m:\u001b[0m unmatched ')'\n"
     ]
    }
   ],
   "source": [
    "np.zeros(x.shape[0], model_class_count_))"
   ]
  },
  {
   "cell_type": "code",
   "execution_count": 52,
   "id": "950e29f5",
   "metadata": {},
   "outputs": [],
   "source": [
    "xvalues = x.values"
   ]
  },
  {
   "cell_type": "code",
   "execution_count": 54,
   "id": "41162328",
   "metadata": {},
   "outputs": [
    {
     "data": {
      "text/plain": [
       "array([1., 5., 2., 1., 1.])"
      ]
     },
     "execution_count": 54,
     "metadata": {},
     "output_type": "execute_result"
    }
   ],
   "source": [
    "model.class_count_"
   ]
  },
  {
   "cell_type": "code",
   "execution_count": 53,
   "id": "83a3cfc6",
   "metadata": {},
   "outputs": [
    {
     "ename": "TypeError",
     "evalue": "only integer scalar arrays can be converted to a scalar index",
     "output_type": "error",
     "traceback": [
      "\u001b[1;31m---------------------------------------------------------------------------\u001b[0m",
      "\u001b[1;31mTypeError\u001b[0m                                 Traceback (most recent call last)",
      "\u001b[1;32m<ipython-input-53-f3a37b602613>\u001b[0m in \u001b[0;36m<module>\u001b[1;34m\u001b[0m\n\u001b[1;32m----> 1\u001b[1;33m \u001b[0mjoint_log_likelihood\u001b[0m\u001b[1;33m(\u001b[0m\u001b[0mxvalues\u001b[0m\u001b[1;33m)\u001b[0m\u001b[1;33m\u001b[0m\u001b[1;33m\u001b[0m\u001b[0m\n\u001b[0m",
      "\u001b[1;32m<ipython-input-30-264f8663bfc7>\u001b[0m in \u001b[0;36mjoint_log_likelihood\u001b[1;34m(X)\u001b[0m\n\u001b[0;32m      3\u001b[0m         raise ValueError(\"Expected input with %d features, got %d instead\"\n\u001b[0;32m      4\u001b[0m                          % (model.n_features_, X.shape[1]))\n\u001b[1;32m----> 5\u001b[1;33m     \u001b[0mjll\u001b[0m \u001b[1;33m=\u001b[0m \u001b[0mnp\u001b[0m\u001b[1;33m.\u001b[0m\u001b[0mzeros\u001b[0m\u001b[1;33m(\u001b[0m\u001b[1;33m(\u001b[0m\u001b[0mX\u001b[0m\u001b[1;33m.\u001b[0m\u001b[0mshape\u001b[0m\u001b[1;33m[\u001b[0m\u001b[1;36m0\u001b[0m\u001b[1;33m]\u001b[0m\u001b[1;33m,\u001b[0m \u001b[0mmodel\u001b[0m\u001b[1;33m.\u001b[0m\u001b[0mclass_count_\u001b[0m\u001b[1;33m)\u001b[0m\u001b[1;33m)\u001b[0m\u001b[1;33m\u001b[0m\u001b[1;33m\u001b[0m\u001b[0m\n\u001b[0m\u001b[0;32m      6\u001b[0m     \u001b[1;32mfor\u001b[0m \u001b[0mi\u001b[0m \u001b[1;32min\u001b[0m \u001b[0mrange\u001b[0m\u001b[1;33m(\u001b[0m\u001b[0mmodel\u001b[0m\u001b[1;33m.\u001b[0m\u001b[0mn_features_\u001b[0m\u001b[1;33m)\u001b[0m\u001b[1;33m:\u001b[0m\u001b[1;33m\u001b[0m\u001b[1;33m\u001b[0m\u001b[0m\n\u001b[0;32m      7\u001b[0m         \u001b[0mindices\u001b[0m \u001b[1;33m=\u001b[0m \u001b[0mX\u001b[0m\u001b[1;33m[\u001b[0m\u001b[1;33m:\u001b[0m\u001b[1;33m,\u001b[0m \u001b[0mi\u001b[0m\u001b[1;33m]\u001b[0m\u001b[1;33m\u001b[0m\u001b[1;33m\u001b[0m\u001b[0m\n",
      "\u001b[1;31mTypeError\u001b[0m: only integer scalar arrays can be converted to a scalar index"
     ]
    }
   ],
   "source": [
    "joint_log_likelihood(xvalues)"
   ]
  },
  {
   "cell_type": "code",
   "execution_count": 91,
   "id": "207de5b3",
   "metadata": {},
   "outputs": [
    {
     "data": {
      "text/plain": [
       "array([1., 5., 2., 1., 1.])"
      ]
     },
     "execution_count": 91,
     "metadata": {},
     "output_type": "execute_result"
    }
   ],
   "source": [
    "model.class_count_"
   ]
  },
  {
   "cell_type": "code",
   "execution_count": 69,
   "id": "b0b15292",
   "metadata": {},
   "outputs": [
    {
     "data": {
      "text/plain": [
       "5"
      ]
     },
     "execution_count": 69,
     "metadata": {},
     "output_type": "execute_result"
    }
   ],
   "source": [
    "model.class_count_.shape[0]"
   ]
  },
  {
   "cell_type": "code",
   "execution_count": 92,
   "id": "267c118c",
   "metadata": {},
   "outputs": [
    {
     "data": {
      "text/plain": [
       "array([[0., 0., 0.],\n",
       "       [0., 0., 0.]])"
      ]
     },
     "execution_count": 92,
     "metadata": {},
     "output_type": "execute_result"
    }
   ],
   "source": [
    "np.zeros((2,3))"
   ]
  },
  {
   "cell_type": "code",
   "execution_count": 79,
   "id": "bf5ea023",
   "metadata": {},
   "outputs": [
    {
     "data": {
      "text/plain": [
       "array([[0., 0., 0.],\n",
       "       [0., 0., 0.],\n",
       "       [0., 0., 0.]])"
      ]
     },
     "execution_count": 79,
     "metadata": {},
     "output_type": "execute_result"
    }
   ],
   "source": [
    "np.zeros((3,3))"
   ]
  },
  {
   "cell_type": "code",
   "execution_count": 87,
   "id": "cb408409",
   "metadata": {},
   "outputs": [
    {
     "data": {
      "text/plain": [
       "array([[0, 0, 1, 1, 2, 0, 3, 1, 2, 1],\n",
       "       [2, 1, 1, 1, 0, 0, 1, 0, 2, 1],\n",
       "       [2, 0, 0, 1, 0, 0, 2, 1, 2, 1],\n",
       "       [2, 0, 1, 1, 3, 1, 0, 2, 2, 1],\n",
       "       [0, 0, 1, 1, 3, 1, 0, 0, 2, 1],\n",
       "       [0, 0, 0, 1, 1, 1, 0, 0, 2, 1],\n",
       "       [0, 0, 0, 0, 1, 1, 0, 0, 2, 1],\n",
       "       [0, 0, 0, 1, 1, 1, 0, 0, 0, 0],\n",
       "       [1, 0, 1, 1, 1, 1, 0, 0, 1, 0],\n",
       "       [0, 0, 1, 1, 1, 1, 0, 2, 1, 0]], dtype=int64)"
      ]
     },
     "execution_count": 87,
     "metadata": {},
     "output_type": "execute_result"
    }
   ],
   "source": [
    "xvalues"
   ]
  },
  {
   "cell_type": "code",
   "execution_count": 74,
   "id": "bfba5ba7",
   "metadata": {},
   "outputs": [
    {
     "ename": "TypeError",
     "evalue": "zeros() missing required argument 'shape' (pos 1)",
     "output_type": "error",
     "traceback": [
      "\u001b[1;31m---------------------------------------------------------------------------\u001b[0m",
      "\u001b[1;31mTypeError\u001b[0m                                 Traceback (most recent call last)",
      "\u001b[1;32m<ipython-input-74-f08d7517924f>\u001b[0m in \u001b[0;36m<module>\u001b[1;34m\u001b[0m\n\u001b[1;32m----> 1\u001b[1;33m \u001b[0mnp\u001b[0m\u001b[1;33m.\u001b[0m\u001b[0mzeros\u001b[0m\u001b[1;33m(\u001b[0m\u001b[1;33m)\u001b[0m\u001b[1;33m\u001b[0m\u001b[1;33m\u001b[0m\u001b[0m\n\u001b[0m",
      "\u001b[1;31mTypeError\u001b[0m: zeros() missing required argument 'shape' (pos 1)"
     ]
    }
   ],
   "source": [
    "np.zeros()"
   ]
  },
  {
   "cell_type": "code",
   "execution_count": 67,
   "id": "2eb21aaf",
   "metadata": {},
   "outputs": [
    {
     "ename": "TypeError",
     "evalue": "Cannot interpret '5' as a data type",
     "output_type": "error",
     "traceback": [
      "\u001b[1;31m---------------------------------------------------------------------------\u001b[0m",
      "\u001b[1;31mTypeError\u001b[0m                                 Traceback (most recent call last)",
      "\u001b[1;32m<ipython-input-67-b20743e99d23>\u001b[0m in \u001b[0;36m<module>\u001b[1;34m\u001b[0m\n\u001b[1;32m----> 1\u001b[1;33m \u001b[0mnp\u001b[0m\u001b[1;33m.\u001b[0m\u001b[0mzeros\u001b[0m\u001b[1;33m(\u001b[0m\u001b[0mx\u001b[0m\u001b[1;33m.\u001b[0m\u001b[0mshape\u001b[0m\u001b[1;33m[\u001b[0m\u001b[1;36m0\u001b[0m\u001b[1;33m]\u001b[0m\u001b[1;33m,\u001b[0m \u001b[0mmodel\u001b[0m\u001b[1;33m.\u001b[0m\u001b[0mclass_count_\u001b[0m\u001b[1;33m.\u001b[0m\u001b[0mshape\u001b[0m\u001b[1;33m[\u001b[0m\u001b[1;36m0\u001b[0m\u001b[1;33m]\u001b[0m\u001b[1;33m)\u001b[0m\u001b[1;33m\u001b[0m\u001b[1;33m\u001b[0m\u001b[0m\n\u001b[0m",
      "\u001b[1;31mTypeError\u001b[0m: Cannot interpret '5' as a data type"
     ]
    }
   ],
   "source": [
    "np.zeros(x.shape[0], model.class_count_.shape[0])"
   ]
  },
  {
   "cell_type": "code",
   "execution_count": 64,
   "id": "7eef3d4e",
   "metadata": {},
   "outputs": [],
   "source": [
    "def okedong(X):\n",
    "    if not X.shape[1] == model.n_features_:\n",
    "        raise ValueError(\"Expected input with %d features, got %d instead\"\n",
    "                         % (model.n_features_, X.shape[1]))\n",
    "    jll = np.zeros((X.shape[0], model.class_count_.shape[0]))\n",
    "    for i in range(model.n_features_):\n",
    "        indices = X[:, i]\n",
    "        jll += model.feature_log_prob_[i][:, indices].T\n",
    "    total_ll = jll + model.class_log_prior_\n",
    "    return total_ll"
   ]
  },
  {
   "cell_type": "code",
   "execution_count": 101,
   "id": "07b772da",
   "metadata": {},
   "outputs": [],
   "source": [
    "b = [[]]"
   ]
  },
  {
   "cell_type": "code",
   "execution_count": 105,
   "id": "43b93f6c",
   "metadata": {},
   "outputs": [],
   "source": [
    "a = [[1,3,5], [3,5,6]]"
   ]
  },
  {
   "cell_type": "code",
   "execution_count": 106,
   "id": "a9e63e62",
   "metadata": {},
   "outputs": [],
   "source": [
    "b.append(a)"
   ]
  },
  {
   "cell_type": "code",
   "execution_count": 111,
   "id": "b4e26cf2",
   "metadata": {},
   "outputs": [],
   "source": [
    "n = np.array([])"
   ]
  },
  {
   "cell_type": "code",
   "execution_count": 113,
   "id": "b383b80d",
   "metadata": {},
   "outputs": [
    {
     "ename": "AttributeError",
     "evalue": "'numpy.ndarray' object has no attribute 'append'",
     "output_type": "error",
     "traceback": [
      "\u001b[1;31m---------------------------------------------------------------------------\u001b[0m",
      "\u001b[1;31mAttributeError\u001b[0m                            Traceback (most recent call last)",
      "\u001b[1;32m<ipython-input-113-adb582fd6f10>\u001b[0m in \u001b[0;36m<module>\u001b[1;34m\u001b[0m\n\u001b[1;32m----> 1\u001b[1;33m \u001b[0mn\u001b[0m\u001b[1;33m.\u001b[0m\u001b[0mappend\u001b[0m\u001b[1;33m(\u001b[0m\u001b[0ma\u001b[0m\u001b[1;33m)\u001b[0m\u001b[1;33m\u001b[0m\u001b[1;33m\u001b[0m\u001b[0m\n\u001b[0m",
      "\u001b[1;31mAttributeError\u001b[0m: 'numpy.ndarray' object has no attribute 'append'"
     ]
    }
   ],
   "source": [
    "n.append(a)"
   ]
  },
  {
   "cell_type": "code",
   "execution_count": 115,
   "id": "f70cfb3c",
   "metadata": {},
   "outputs": [
    {
     "data": {
      "text/plain": [
       "array([], dtype=float64)"
      ]
     },
     "execution_count": 115,
     "metadata": {},
     "output_type": "execute_result"
    }
   ],
   "source": [
    "np.array([])"
   ]
  },
  {
   "cell_type": "code",
   "execution_count": 108,
   "id": "0d8496a9",
   "metadata": {},
   "outputs": [
    {
     "ename": "TypeError",
     "evalue": "list indices must be integers or slices, not tuple",
     "output_type": "error",
     "traceback": [
      "\u001b[1;31m---------------------------------------------------------------------------\u001b[0m",
      "\u001b[1;31mTypeError\u001b[0m                                 Traceback (most recent call last)",
      "\u001b[1;32m<ipython-input-108-64fa433cb01b>\u001b[0m in \u001b[0;36m<module>\u001b[1;34m\u001b[0m\n\u001b[1;32m----> 1\u001b[1;33m \u001b[0mb\u001b[0m\u001b[1;33m[\u001b[0m\u001b[1;33m:\u001b[0m\u001b[1;33m,\u001b[0m \u001b[1;33m:\u001b[0m\u001b[1;33m]\u001b[0m\u001b[1;33m\u001b[0m\u001b[1;33m\u001b[0m\u001b[0m\n\u001b[0m",
      "\u001b[1;31mTypeError\u001b[0m: list indices must be integers or slices, not tuple"
     ]
    }
   ],
   "source": [
    "b[:, :]"
   ]
  },
  {
   "cell_type": "code",
   "execution_count": 102,
   "id": "2e23be74",
   "metadata": {},
   "outputs": [],
   "source": [
    "k = [[2,3,3]]"
   ]
  },
  {
   "cell_type": "code",
   "execution_count": 99,
   "id": "c5a61a28",
   "metadata": {},
   "outputs": [],
   "source": [
    "for i in range(3):\n",
    "    k = [[]]\n",
    "    b.append(i)"
   ]
  },
  {
   "cell_type": "code",
   "execution_count": 100,
   "id": "8dc36657",
   "metadata": {},
   "outputs": [
    {
     "data": {
      "text/plain": [
       "[[], 0, 1, 2]"
      ]
     },
     "execution_count": 100,
     "metadata": {},
     "output_type": "execute_result"
    }
   ],
   "source": [
    "b"
   ]
  },
  {
   "cell_type": "code",
   "execution_count": 90,
   "id": "24cd5e61",
   "metadata": {},
   "outputs": [
    {
     "data": {
      "text/plain": [
       "array([-2.30258509, -0.69314718, -1.60943791, -2.30258509, -2.30258509])"
      ]
     },
     "execution_count": 90,
     "metadata": {},
     "output_type": "execute_result"
    }
   ],
   "source": [
    "model.class_log_prior_"
   ]
  },
  {
   "cell_type": "code",
   "execution_count": 93,
   "id": "51830aea",
   "metadata": {},
   "outputs": [
    {
     "data": {
      "text/plain": [
       "242999.9994355874"
      ]
     },
     "execution_count": 93,
     "metadata": {},
     "output_type": "execute_result"
    }
   ],
   "source": [
    "np.exp(12.40081672)"
   ]
  },
  {
   "cell_type": "code",
   "execution_count": 88,
   "id": "1dff5843",
   "metadata": {},
   "outputs": [
    {
     "data": {
      "text/plain": [
       "array([[-12.40081672, -12.27899592,  -7.99394505, -11.70766954,\n",
       "        -11.01452236],\n",
       "       [-13.0939639 , -14.07075539, -11.17199888,  -8.24193364,\n",
       "        -11.01452236],\n",
       "       [-12.40081672, -14.1761159 , -10.4788517 , -11.01452236,\n",
       "         -8.24193364],\n",
       "       [-11.70766954,  -8.91862053,  -7.99394505, -11.70766954,\n",
       "        -11.70766954],\n",
       "       [-10.32137518,  -6.39289188,  -8.68709223, -11.70766954,\n",
       "        -12.40081672],\n",
       "       [ -8.93508082,  -5.76428323, -10.4788517 , -12.40081672,\n",
       "        -11.70766954],\n",
       "       [ -8.24193364,  -7.55604269, -11.57746399, -13.0939639 ,\n",
       "        -12.40081672],\n",
       "       [-10.32137518,  -5.88206626, -12.67607627, -13.78711108,\n",
       "        -13.0939639 ],\n",
       "       [-11.70766954,  -6.10520981, -12.27061117, -13.0939639 ,\n",
       "        -13.78711108],\n",
       "       [-11.70766954,  -6.10520981, -10.88431681, -13.78711108,\n",
       "        -13.78711108]])"
      ]
     },
     "execution_count": 88,
     "metadata": {},
     "output_type": "execute_result"
    }
   ],
   "source": [
    "okedong(xvalues)"
   ]
  }
 ],
 "metadata": {
  "kernelspec": {
   "display_name": "Django Shell-Plus",
   "language": "python",
   "name": "django_extensions"
  },
  "language_info": {
   "codemirror_mode": {
    "name": "ipython",
    "version": 3
   },
   "file_extension": ".py",
   "mimetype": "text/x-python",
   "name": "python",
   "nbconvert_exporter": "python",
   "pygments_lexer": "ipython3",
   "version": "3.8.3"
  }
 },
 "nbformat": 4,
 "nbformat_minor": 5
}
