{
 "cells": [
  {
   "cell_type": "code",
   "execution_count": 2,
   "id": "6e2f85ef",
   "metadata": {},
   "outputs": [],
   "source": [
    "import os\n",
    "os.environ['DJANGO_ALLOW_ASYNC_UNSAFE'] = 'true'"
   ]
  },
  {
   "cell_type": "markdown",
   "id": "60c7ba84",
   "metadata": {},
   "source": [
    "<h2 style=\"color: #0000ff\"><center>ABSENSI</center></h2>"
   ]
  },
  {
   "cell_type": "code",
   "execution_count": 2,
   "id": "59504d79",
   "metadata": {},
   "outputs": [],
   "source": [
    "import numpy as np\n",
    "import pandas as pd"
   ]
  },
  {
   "cell_type": "code",
   "execution_count": 1,
   "id": "5f64c060",
   "metadata": {},
   "outputs": [],
   "source": [
    "inputanFormAdmin = {\n",
    "    \"nama_mata_kuliah\": \"Matematika\",\n",
    "    \"keterangan_absen\": \"pertemuan 1\",\n",
    "    \"status\": True,\n",
    "    \"waktu\": \"automatis\"\n",
    "}"
   ]
  },
  {
   "cell_type": "code",
   "execution_count": 3,
   "id": "1ea2db65",
   "metadata": {},
   "outputs": [],
   "source": [
    "inputan_form_absen = {\n",
    "    \"keterangan_absen\": \"pertemuan 1\",\n",
    "    \"nama\": \"La Kundai\",\n",
    "    \"nim\": 1234,\n",
    "    \"id_pengirim\": 2,\n",
    "    \"waktu_update\": \"automatis\"\n",
    "}"
   ]
  },
  {
   "cell_type": "code",
   "execution_count": 4,
   "id": "5cfe39e5",
   "metadata": {},
   "outputs": [],
   "source": [
    "inputan = {\n",
    "    \"keterangan_absen\": \"pertemuan 1\",\n",
    "    \"nama\": \"La dua\",\n",
    "    \"nim\": 334,\n",
    "    \"id_pengirim\": 2,\n",
    "    \"waktu_update\": \"automatis\"\n",
    "}"
   ]
  },
  {
   "cell_type": "code",
   "execution_count": 8,
   "id": "266daeb9",
   "metadata": {},
   "outputs": [],
   "source": [
    "id_user_yang_login = 3"
   ]
  },
  {
   "cell_type": "code",
   "execution_count": 6,
   "id": "81c75472",
   "metadata": {},
   "outputs": [],
   "source": [
    "def validasi_absensi(datarequest, x, y): # x data admin y: data db  yang sudah ads\n",
    "    context = False\n",
    "    # proses validasi keterangan_absen\n",
    "    if datarequest['keterangan_absen'] == x['keterangan_absen']:\n",
    "        if(y['id_pengirim'] == id_user_yang_login):\n",
    "            context = True\n",
    "        \n",
    "    # proses validasi pengirim\n",
    "#     if inputan['id_pengirim'] == id_user_yang_login:\n",
    "        \n",
    "    \n",
    "    return context\n",
    "    "
   ]
  },
  {
   "cell_type": "code",
   "execution_count": 9,
   "id": "b8d864b8",
   "metadata": {},
   "outputs": [
    {
     "data": {
      "text/plain": [
       "False"
      ]
     },
     "execution_count": 9,
     "metadata": {},
     "output_type": "execute_result"
    }
   ],
   "source": [
    "hasil_validasi = validasi_absensi(inputan, inputanFormAdmin, inputan_form_absen)\n",
    "hasil_validasi"
   ]
  },
  {
   "cell_type": "code",
   "execution_count": 41,
   "id": "08bca19d",
   "metadata": {},
   "outputs": [
    {
     "data": {
      "text/plain": [
       "False"
      ]
     },
     "execution_count": 41,
     "metadata": {},
     "output_type": "execute_result"
    }
   ],
   "source": [
    "is_sudah_absen()"
   ]
  },
  {
   "cell_type": "code",
   "execution_count": null,
   "id": "d7f3c1a8",
   "metadata": {},
   "outputs": [],
   "source": []
  },
  {
   "cell_type": "code",
   "execution_count": 36,
   "id": "8c96a8c9",
   "metadata": {},
   "outputs": [],
   "source": [
    "def laporan_absen():\n",
    "    context = {\n",
    "        \"data_absen\": np.array([])\n",
    "    }\n",
    "    return context"
   ]
  },
  {
   "cell_type": "code",
   "execution_count": 39,
   "id": "5dd0d02b",
   "metadata": {},
   "outputs": [
    {
     "data": {
      "text/plain": [
       "array([], dtype=float64)"
      ]
     },
     "execution_count": 39,
     "metadata": {},
     "output_type": "execute_result"
    }
   ],
   "source": [
    "laporan_absen()['data_absen']"
   ]
  },
  {
   "cell_type": "code",
   "execution_count": null,
   "id": "84d71093",
   "metadata": {},
   "outputs": [],
   "source": []
  },
  {
   "cell_type": "code",
   "execution_count": null,
   "id": "6fcf755d",
   "metadata": {},
   "outputs": [],
   "source": []
  },
  {
   "cell_type": "code",
   "execution_count": 40,
   "id": "acf837eb",
   "metadata": {},
   "outputs": [],
   "source": [
    "def is_sudah_absen():\n",
    "    context = False\n",
    "    return context"
   ]
  },
  {
   "cell_type": "code",
   "execution_count": null,
   "id": "9113ff89",
   "metadata": {},
   "outputs": [],
   "source": []
  },
  {
   "cell_type": "code",
   "execution_count": null,
   "id": "334ddba7",
   "metadata": {},
   "outputs": [],
   "source": []
  },
  {
   "cell_type": "code",
   "execution_count": null,
   "id": "1b1f6d1e",
   "metadata": {},
   "outputs": [],
   "source": []
  },
  {
   "cell_type": "code",
   "execution_count": null,
   "id": "1fd425d3",
   "metadata": {},
   "outputs": [],
   "source": []
  },
  {
   "cell_type": "code",
   "execution_count": null,
   "id": "58ec9124",
   "metadata": {},
   "outputs": [],
   "source": [
    "# menghitung kategorial naive bayes"
   ]
  },
  {
   "cell_type": "code",
   "execution_count": null,
   "id": "3fb82562",
   "metadata": {},
   "outputs": [],
   "source": [
    "np"
   ]
  },
  {
   "cell_type": "code",
   "execution_count": null,
   "id": "0c7614e0",
   "metadata": {},
   "outputs": [],
   "source": []
  },
  {
   "cell_type": "code",
   "execution_count": 2,
   "id": "6bfb8dad",
   "metadata": {},
   "outputs": [],
   "source": [
    "from myapi.models import *"
   ]
  },
  {
   "cell_type": "code",
   "execution_count": 3,
   "id": "3b3ba514",
   "metadata": {},
   "outputs": [],
   "source": [
    "id_matakuliah = 1"
   ]
  },
  {
   "cell_type": "code",
   "execution_count": 20,
   "id": "1bab11bf",
   "metadata": {},
   "outputs": [],
   "source": [
    "db_kontrolabsensi = Kontrolabsensi.objects.filter(mapel=id_matakuliah)"
   ]
  },
  {
   "cell_type": "code",
   "execution_count": 22,
   "id": "e2e176ca",
   "metadata": {},
   "outputs": [
    {
     "ename": "AttributeError",
     "evalue": "'QuerySet' object has no attribute 'absensi_set'",
     "output_type": "error",
     "traceback": [
      "\u001b[1;31m---------------------------------------------------------------------------\u001b[0m",
      "\u001b[1;31mAttributeError\u001b[0m                            Traceback (most recent call last)",
      "\u001b[1;32m<ipython-input-22-f72b2e96fa3c>\u001b[0m in \u001b[0;36m<module>\u001b[1;34m\u001b[0m\n\u001b[1;32m----> 1\u001b[1;33m \u001b[0mdb_kontrolabsensi\u001b[0m\u001b[1;33m.\u001b[0m\u001b[0mabsensi_set\u001b[0m\u001b[1;33m.\u001b[0m\u001b[0mall\u001b[0m\u001b[1;33m\u001b[0m\u001b[1;33m\u001b[0m\u001b[0m\n\u001b[0m",
      "\u001b[1;31mAttributeError\u001b[0m: 'QuerySet' object has no attribute 'absensi_set'"
     ]
    }
   ],
   "source": [
    "db_kontrolabsensi."
   ]
  },
  {
   "cell_type": "code",
   "execution_count": 23,
   "id": "4c30b0e5",
   "metadata": {},
   "outputs": [],
   "source": [
    "kontrol = Kontrolabsensi.objects.all()"
   ]
  },
  {
   "cell_type": "code",
   "execution_count": 59,
   "id": "55ae2cf3",
   "metadata": {},
   "outputs": [],
   "source": [
    "import pandas as pd\n",
    "import numpy as np"
   ]
  },
  {
   "cell_type": "code",
   "execution_count": 63,
   "id": "f898cae4",
   "metadata": {},
   "outputs": [],
   "source": [
    "kumpul = pd.DataFrame(kontrol.values())"
   ]
  },
  {
   "cell_type": "code",
   "execution_count": 67,
   "id": "f54805bc",
   "metadata": {},
   "outputs": [],
   "source": [
    "nilainya = kumpul['id'].values"
   ]
  },
  {
   "cell_type": "code",
   "execution_count": 88,
   "id": "a1e21fcb",
   "metadata": {},
   "outputs": [
    {
     "data": {
      "text/plain": [
       "<QuerySet [<Absensi: Absensi object (4)>, <Absensi: Absensi object (5)>, <Absensi: Absensi object (9)>, <Absensi: Absensi object (11)>, <Absensi: Absensi object (13)>, <Absensi: Absensi object (14)>, <Absensi: Absensi object (15)>, <Absensi: Absensi object (16)>, <Absensi: Absensi object (17)>, <Absensi: Absensi object (18)>, <Absensi: Absensi object (12)>]>"
      ]
     },
     "execution_count": 88,
     "metadata": {},
     "output_type": "execute_result"
    }
   ],
   "source": [
    "h = Absensi.objects.filter(kontrolabsensi__in=db_kontrolabsensi.values_list('id'))\n",
    "h\n"
   ]
  },
  {
   "cell_type": "code",
   "execution_count": 86,
   "id": "efdb2231",
   "metadata": {},
   "outputs": [
    {
     "data": {
      "text/plain": [
       "<QuerySet [(2,), (3,), (4,), (5,), (6,)]>"
      ]
     },
     "execution_count": 86,
     "metadata": {},
     "output_type": "execute_result"
    }
   ],
   "source": [
    "db_kontrolabsensi.values_list('id')"
   ]
  },
  {
   "cell_type": "code",
   "execution_count": null,
   "id": "8dc53595",
   "metadata": {},
   "outputs": [],
   "source": []
  },
  {
   "cell_type": "code",
   "execution_count": 53,
   "id": "b838ddbd",
   "metadata": {},
   "outputs": [
    {
     "ename": "AttributeError",
     "evalue": "'ForwardManyToOneDescriptor' object has no attribute 'all'",
     "output_type": "error",
     "traceback": [
      "\u001b[1;31m---------------------------------------------------------------------------\u001b[0m",
      "\u001b[1;31mAttributeError\u001b[0m                            Traceback (most recent call last)",
      "\u001b[1;32m<ipython-input-53-c2d2b4e61af3>\u001b[0m in \u001b[0;36m<module>\u001b[1;34m\u001b[0m\n\u001b[1;32m----> 1\u001b[1;33m \u001b[0mAbsensi\u001b[0m\u001b[1;33m.\u001b[0m\u001b[0mkontrolabsensi\u001b[0m\u001b[1;33m.\u001b[0m\u001b[0mall\u001b[0m\u001b[1;33m(\u001b[0m\u001b[1;33m)\u001b[0m\u001b[1;33m\u001b[0m\u001b[1;33m\u001b[0m\u001b[0m\n\u001b[0m",
      "\u001b[1;31mAttributeError\u001b[0m: 'ForwardManyToOneDescriptor' object has no attribute 'all'"
     ]
    }
   ],
   "source": [
    "Absensi.kontrolabsensi"
   ]
  },
  {
   "cell_type": "code",
   "execution_count": 25,
   "id": "ed62e02b",
   "metadata": {},
   "outputs": [],
   "source": [
    "kontrol_satu = Kontrolabsensi.objects.get(pk=1)"
   ]
  },
  {
   "cell_type": "code",
   "execution_count": 26,
   "id": "5b916e2f",
   "metadata": {},
   "outputs": [
    {
     "data": {
      "text/plain": [
       "<QuerySet [<Absensi: Absensi object (1)>, <Absensi: Absensi object (2)>, <Absensi: Absensi object (3)>, <Absensi: Absensi object (6)>, <Absensi: Absensi object (7)>, <Absensi: Absensi object (8)>, <Absensi: Absensi object (10)>, <Absensi: Absensi object (19)>, <Absensi: Absensi object (20)>, <Absensi: Absensi object (21)>, <Absensi: Absensi object (22)>]>"
      ]
     },
     "execution_count": 26,
     "metadata": {},
     "output_type": "execute_result"
    }
   ],
   "source": [
    "kontrol_satu.absensi_set.all()"
   ]
  },
  {
   "cell_type": "code",
   "execution_count": 47,
   "id": "2b454e70",
   "metadata": {},
   "outputs": [
    {
     "name": "stdout",
     "output_type": "stream",
     "text": [
      "Kontrolabsensi object (1)\n",
      "Kontrolabsensi object (2)\n",
      "Kontrolabsensi object (3)\n",
      "Kontrolabsensi object (4)\n",
      "Kontrolabsensi object (5)\n",
      "Kontrolabsensi object (6)\n"
     ]
    }
   ],
   "source": [
    "for value in kontrol:\n",
    "    print(value)\n",
    "    "
   ]
  },
  {
   "cell_type": "markdown",
   "id": "0769f4f2",
   "metadata": {},
   "source": [
    "<center><span style=\"color: #0000ff; font-size: 40px \">Modifikasi Model dan Database</span></center>"
   ]
  },
  {
   "cell_type": "code",
   "execution_count": null,
   "id": "7082c9b7",
   "metadata": {},
   "outputs": [],
   "source": []
  },
  {
   "cell_type": "markdown",
   "id": "d04cac3b",
   "metadata": {},
   "source": [
    "<center><span style=\"font-size: 30px; color: #ff0000;\">end modifikasi model dan database</span></center>"
   ]
  },
  {
   "cell_type": "code",
   "execution_count": null,
   "id": "365e3a3c",
   "metadata": {},
   "outputs": [],
   "source": []
  }
 ],
 "metadata": {
  "kernelspec": {
   "display_name": "Django Shell-Plus",
   "language": "python",
   "name": "django_extensions"
  },
  "language_info": {
   "codemirror_mode": {
    "name": "ipython",
    "version": 3
   },
   "file_extension": ".py",
   "mimetype": "text/x-python",
   "name": "python",
   "nbconvert_exporter": "python",
   "pygments_lexer": "ipython3",
   "version": "3.8.3"
  }
 },
 "nbformat": 4,
 "nbformat_minor": 5
}
